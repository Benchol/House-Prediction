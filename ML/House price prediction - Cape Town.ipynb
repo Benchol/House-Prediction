{
 "cells": [
  {
   "cell_type": "markdown",
   "metadata": {},
   "source": [
    "# House price estate"
   ]
  },
  {
   "cell_type": "markdown",
   "metadata": {},
   "source": [
    "## By RASOLOMANANA Hanssi Andrianiaina\n",
    "## Master I en Mathématiques Informatique et Statistiques Appliquées\n",
    "### Août 2021"
   ]
  },
  {
   "cell_type": "code",
   "execution_count": 1,
   "metadata": {},
   "outputs": [
    {
     "ename": "ModuleNotFoundError",
     "evalue": "No module named 'xgboost'",
     "output_type": "error",
     "traceback": [
      "\u001b[0;31m---------------------------------------------------------------------------\u001b[0m",
      "\u001b[0;31mModuleNotFoundError\u001b[0m                       Traceback (most recent call last)",
      "\u001b[0;32m/tmp/ipykernel_2944/2711004798.py\u001b[0m in \u001b[0;36m<module>\u001b[0;34m\u001b[0m\n\u001b[1;32m     15\u001b[0m \u001b[0;32mfrom\u001b[0m \u001b[0msklearn\u001b[0m\u001b[0;34m.\u001b[0m\u001b[0mfeature_selection\u001b[0m \u001b[0;32mimport\u001b[0m \u001b[0mSelectKBest\u001b[0m\u001b[0;34m,\u001b[0m \u001b[0mf_regression\u001b[0m\u001b[0;34m\u001b[0m\u001b[0;34m\u001b[0m\u001b[0m\n\u001b[1;32m     16\u001b[0m \u001b[0;34m\u001b[0m\u001b[0m\n\u001b[0;32m---> 17\u001b[0;31m \u001b[0;32mfrom\u001b[0m \u001b[0mxgboost\u001b[0m \u001b[0;32mimport\u001b[0m \u001b[0mXGBRegressor\u001b[0m\u001b[0;34m\u001b[0m\u001b[0;34m\u001b[0m\u001b[0m\n\u001b[0m\u001b[1;32m     18\u001b[0m \u001b[0;34m\u001b[0m\u001b[0m\n\u001b[1;32m     19\u001b[0m \u001b[0;32mimport\u001b[0m \u001b[0mtime\u001b[0m\u001b[0;34m\u001b[0m\u001b[0;34m\u001b[0m\u001b[0m\n",
      "\u001b[0;31mModuleNotFoundError\u001b[0m: No module named 'xgboost'"
     ]
    }
   ],
   "source": [
    "# import needed library\n",
    "import pandas as pd\n",
    "import seaborn as sns\n",
    "import matplotlib.pyplot as plt\n",
    "from sklearn.model_selection import train_test_split\n",
    "from sklearn.preprocessing import OneHotEncoder, StandardScaler\n",
    "from sklearn.impute import KNNImputer\n",
    "import numpy as np\n",
    "\n",
    "from sklearn.linear_model import Ridge\n",
    "from sklearn.ensemble import RandomForestRegressor, GradientBoostingRegressor\n",
    "\n",
    "from sklearn.model_selection import GridSearchCV, RandomizedSearchCV\n",
    "from sklearn.metrics import mean_squared_log_error, make_scorer, mean_squared_error\n",
    "from sklearn.feature_selection import SelectKBest, f_regression\n",
    "\n",
    "from xgboost import XGBRegressor\n",
    "\n",
    "import time \n",
    "\n",
    "import warnings\n",
    "\n",
    "warnings.filterwarnings('ignore')"
   ]
  },
  {
   "cell_type": "markdown",
   "metadata": {},
   "source": [
    "## The data about the house price that we are gonna use"
   ]
  },
  {
   "cell_type": "code",
   "execution_count": 2,
   "metadata": {},
   "outputs": [],
   "source": [
    "data = pd.read_csv(\"property24_data.csv\")"
   ]
  },
  {
   "cell_type": "markdown",
   "metadata": {},
   "source": [
    "## Some exploration of our data"
   ]
  },
  {
   "cell_type": "code",
   "execution_count": 3,
   "metadata": {},
   "outputs": [
    {
     "data": {
      "text/plain": [
       "(7901, 23)"
      ]
     },
     "metadata": {},
     "output_type": "display_data"
    }
   ],
   "source": [
    "display(data.shape)\n"
   ]
  },
  {
   "cell_type": "markdown",
   "metadata": {},
   "source": [
    "From the information above, we can see that we got 7901 observations with 23 features each"
   ]
  },
  {
   "cell_type": "code",
   "execution_count": 4,
   "metadata": {},
   "outputs": [
    {
     "name": "stdout",
     "output_type": "stream",
     "text": [
      "<class 'pandas.core.frame.DataFrame'>\n",
      "RangeIndex: 7901 entries, 0 to 7900\n",
      "Data columns (total 23 columns):\n",
      " #   Column                Non-Null Count  Dtype  \n",
      "---  ------                --------------  -----  \n",
      " 0   Bathrooms             7812 non-null   float64\n",
      " 1   Bedrooms              7661 non-null   float64\n",
      " 2   Erf Size              3635 non-null   object \n",
      " 3   Floor Size            5869 non-null   object \n",
      " 4   Garages               3732 non-null   float64\n",
      " 5   Listing Date          7901 non-null   object \n",
      " 6   Listing Number        7901 non-null   int64  \n",
      " 7   Pet Friendly          2026 non-null   float64\n",
      " 8   Price                 7846 non-null   float64\n",
      " 9   Town                  7901 non-null   object \n",
      " 10  Type of Property      7901 non-null   object \n",
      " 11  Garden                2030 non-null   float64\n",
      " 12  Pool                  2738 non-null   float64\n",
      " 13  Secure Parking        666 non-null    float64\n",
      " 14  Parking               3423 non-null   float64\n",
      " 15  No Pets Allowed       1319 non-null   float64\n",
      " 16  Furnished             299 non-null    float64\n",
      " 17  Flatlet               414 non-null    float64\n",
      " 18  Fibre Internet        795 non-null    float64\n",
      " 19  Furnished (Optional)  22 non-null     float64\n",
      " 20  ADSL Internet         40 non-null     float64\n",
      " 21  Satellite Internet    12 non-null     float64\n",
      " 22  Fixed WiMax Internet  1 non-null      float64\n",
      "dtypes: float64(17), int64(1), object(5)\n",
      "memory usage: 1.4+ MB\n"
     ]
    },
    {
     "data": {
      "text/plain": [
       "None"
      ]
     },
     "metadata": {},
     "output_type": "display_data"
    }
   ],
   "source": [
    "display(data.info())"
   ]
  },
  {
   "cell_type": "markdown",
   "metadata": {},
   "source": [
    "Those are all the feature' s label and their respective type"
   ]
  },
  {
   "cell_type": "code",
   "execution_count": 5,
   "metadata": {},
   "outputs": [
    {
     "data": {
      "text/html": [
       "<div>\n",
       "<style scoped>\n",
       "    .dataframe tbody tr th:only-of-type {\n",
       "        vertical-align: middle;\n",
       "    }\n",
       "\n",
       "    .dataframe tbody tr th {\n",
       "        vertical-align: top;\n",
       "    }\n",
       "\n",
       "    .dataframe thead th {\n",
       "        text-align: right;\n",
       "    }\n",
       "</style>\n",
       "<table border=\"1\" class=\"dataframe\">\n",
       "  <thead>\n",
       "    <tr style=\"text-align: right;\">\n",
       "      <th></th>\n",
       "      <th>count</th>\n",
       "      <th>mean</th>\n",
       "      <th>std</th>\n",
       "      <th>min</th>\n",
       "      <th>25%</th>\n",
       "      <th>50%</th>\n",
       "      <th>75%</th>\n",
       "      <th>max</th>\n",
       "    </tr>\n",
       "  </thead>\n",
       "  <tbody>\n",
       "    <tr>\n",
       "      <th>Bathrooms</th>\n",
       "      <td>7812.0</td>\n",
       "      <td>2.059908e+00</td>\n",
       "      <td>1.452088e+00</td>\n",
       "      <td>0.5</td>\n",
       "      <td>1.0</td>\n",
       "      <td>2.0</td>\n",
       "      <td>2.5</td>\n",
       "      <td>30.0</td>\n",
       "    </tr>\n",
       "    <tr>\n",
       "      <th>Bedrooms</th>\n",
       "      <td>7661.0</td>\n",
       "      <td>2.615651e+00</td>\n",
       "      <td>1.629366e+00</td>\n",
       "      <td>0.5</td>\n",
       "      <td>2.0</td>\n",
       "      <td>2.0</td>\n",
       "      <td>3.0</td>\n",
       "      <td>33.0</td>\n",
       "    </tr>\n",
       "    <tr>\n",
       "      <th>Garages</th>\n",
       "      <td>3732.0</td>\n",
       "      <td>1.641881e+00</td>\n",
       "      <td>9.219943e-01</td>\n",
       "      <td>1.0</td>\n",
       "      <td>1.0</td>\n",
       "      <td>1.0</td>\n",
       "      <td>2.0</td>\n",
       "      <td>20.0</td>\n",
       "    </tr>\n",
       "    <tr>\n",
       "      <th>Listing Number</th>\n",
       "      <td>7901.0</td>\n",
       "      <td>1.084730e+08</td>\n",
       "      <td>7.972524e+05</td>\n",
       "      <td>100392643.0</td>\n",
       "      <td>108258251.0</td>\n",
       "      <td>108773652.0</td>\n",
       "      <td>108990121.0</td>\n",
       "      <td>109154455.0</td>\n",
       "    </tr>\n",
       "    <tr>\n",
       "      <th>Pet Friendly</th>\n",
       "      <td>2026.0</td>\n",
       "      <td>1.000000e+00</td>\n",
       "      <td>0.000000e+00</td>\n",
       "      <td>1.0</td>\n",
       "      <td>1.0</td>\n",
       "      <td>1.0</td>\n",
       "      <td>1.0</td>\n",
       "      <td>1.0</td>\n",
       "    </tr>\n",
       "    <tr>\n",
       "      <th>Price</th>\n",
       "      <td>7846.0</td>\n",
       "      <td>5.658831e+06</td>\n",
       "      <td>8.081759e+06</td>\n",
       "      <td>199000.0</td>\n",
       "      <td>1850000.0</td>\n",
       "      <td>2995000.0</td>\n",
       "      <td>5990000.0</td>\n",
       "      <td>172500000.0</td>\n",
       "    </tr>\n",
       "    <tr>\n",
       "      <th>Garden</th>\n",
       "      <td>2030.0</td>\n",
       "      <td>1.000000e+00</td>\n",
       "      <td>0.000000e+00</td>\n",
       "      <td>1.0</td>\n",
       "      <td>1.0</td>\n",
       "      <td>1.0</td>\n",
       "      <td>1.0</td>\n",
       "      <td>1.0</td>\n",
       "    </tr>\n",
       "    <tr>\n",
       "      <th>Pool</th>\n",
       "      <td>2738.0</td>\n",
       "      <td>1.000000e+00</td>\n",
       "      <td>0.000000e+00</td>\n",
       "      <td>1.0</td>\n",
       "      <td>1.0</td>\n",
       "      <td>1.0</td>\n",
       "      <td>1.0</td>\n",
       "      <td>1.0</td>\n",
       "    </tr>\n",
       "    <tr>\n",
       "      <th>Secure Parking</th>\n",
       "      <td>666.0</td>\n",
       "      <td>2.018018e+00</td>\n",
       "      <td>1.620259e+00</td>\n",
       "      <td>1.0</td>\n",
       "      <td>1.0</td>\n",
       "      <td>2.0</td>\n",
       "      <td>2.0</td>\n",
       "      <td>15.0</td>\n",
       "    </tr>\n",
       "    <tr>\n",
       "      <th>Parking</th>\n",
       "      <td>3423.0</td>\n",
       "      <td>1.887526e+00</td>\n",
       "      <td>1.749317e+00</td>\n",
       "      <td>1.0</td>\n",
       "      <td>1.0</td>\n",
       "      <td>1.0</td>\n",
       "      <td>2.0</td>\n",
       "      <td>50.0</td>\n",
       "    </tr>\n",
       "    <tr>\n",
       "      <th>No Pets Allowed</th>\n",
       "      <td>1319.0</td>\n",
       "      <td>1.000000e+00</td>\n",
       "      <td>0.000000e+00</td>\n",
       "      <td>1.0</td>\n",
       "      <td>1.0</td>\n",
       "      <td>1.0</td>\n",
       "      <td>1.0</td>\n",
       "      <td>1.0</td>\n",
       "    </tr>\n",
       "    <tr>\n",
       "      <th>Furnished</th>\n",
       "      <td>299.0</td>\n",
       "      <td>1.000000e+00</td>\n",
       "      <td>0.000000e+00</td>\n",
       "      <td>1.0</td>\n",
       "      <td>1.0</td>\n",
       "      <td>1.0</td>\n",
       "      <td>1.0</td>\n",
       "      <td>1.0</td>\n",
       "    </tr>\n",
       "    <tr>\n",
       "      <th>Flatlet</th>\n",
       "      <td>414.0</td>\n",
       "      <td>1.000000e+00</td>\n",
       "      <td>0.000000e+00</td>\n",
       "      <td>1.0</td>\n",
       "      <td>1.0</td>\n",
       "      <td>1.0</td>\n",
       "      <td>1.0</td>\n",
       "      <td>1.0</td>\n",
       "    </tr>\n",
       "    <tr>\n",
       "      <th>Fibre Internet</th>\n",
       "      <td>795.0</td>\n",
       "      <td>1.000000e+00</td>\n",
       "      <td>0.000000e+00</td>\n",
       "      <td>1.0</td>\n",
       "      <td>1.0</td>\n",
       "      <td>1.0</td>\n",
       "      <td>1.0</td>\n",
       "      <td>1.0</td>\n",
       "    </tr>\n",
       "    <tr>\n",
       "      <th>Furnished (Optional)</th>\n",
       "      <td>22.0</td>\n",
       "      <td>1.000000e+00</td>\n",
       "      <td>0.000000e+00</td>\n",
       "      <td>1.0</td>\n",
       "      <td>1.0</td>\n",
       "      <td>1.0</td>\n",
       "      <td>1.0</td>\n",
       "      <td>1.0</td>\n",
       "    </tr>\n",
       "    <tr>\n",
       "      <th>ADSL Internet</th>\n",
       "      <td>40.0</td>\n",
       "      <td>1.000000e+00</td>\n",
       "      <td>0.000000e+00</td>\n",
       "      <td>1.0</td>\n",
       "      <td>1.0</td>\n",
       "      <td>1.0</td>\n",
       "      <td>1.0</td>\n",
       "      <td>1.0</td>\n",
       "    </tr>\n",
       "    <tr>\n",
       "      <th>Satellite Internet</th>\n",
       "      <td>12.0</td>\n",
       "      <td>1.000000e+00</td>\n",
       "      <td>0.000000e+00</td>\n",
       "      <td>1.0</td>\n",
       "      <td>1.0</td>\n",
       "      <td>1.0</td>\n",
       "      <td>1.0</td>\n",
       "      <td>1.0</td>\n",
       "    </tr>\n",
       "    <tr>\n",
       "      <th>Fixed WiMax Internet</th>\n",
       "      <td>1.0</td>\n",
       "      <td>1.000000e+00</td>\n",
       "      <td>NaN</td>\n",
       "      <td>1.0</td>\n",
       "      <td>1.0</td>\n",
       "      <td>1.0</td>\n",
       "      <td>1.0</td>\n",
       "      <td>1.0</td>\n",
       "    </tr>\n",
       "  </tbody>\n",
       "</table>\n",
       "</div>"
      ],
      "text/plain": [
       "                       count          mean           std          min  \\\n",
       "Bathrooms             7812.0  2.059908e+00  1.452088e+00          0.5   \n",
       "Bedrooms              7661.0  2.615651e+00  1.629366e+00          0.5   \n",
       "Garages               3732.0  1.641881e+00  9.219943e-01          1.0   \n",
       "Listing Number        7901.0  1.084730e+08  7.972524e+05  100392643.0   \n",
       "Pet Friendly          2026.0  1.000000e+00  0.000000e+00          1.0   \n",
       "Price                 7846.0  5.658831e+06  8.081759e+06     199000.0   \n",
       "Garden                2030.0  1.000000e+00  0.000000e+00          1.0   \n",
       "Pool                  2738.0  1.000000e+00  0.000000e+00          1.0   \n",
       "Secure Parking         666.0  2.018018e+00  1.620259e+00          1.0   \n",
       "Parking               3423.0  1.887526e+00  1.749317e+00          1.0   \n",
       "No Pets Allowed       1319.0  1.000000e+00  0.000000e+00          1.0   \n",
       "Furnished              299.0  1.000000e+00  0.000000e+00          1.0   \n",
       "Flatlet                414.0  1.000000e+00  0.000000e+00          1.0   \n",
       "Fibre Internet         795.0  1.000000e+00  0.000000e+00          1.0   \n",
       "Furnished (Optional)    22.0  1.000000e+00  0.000000e+00          1.0   \n",
       "ADSL Internet           40.0  1.000000e+00  0.000000e+00          1.0   \n",
       "Satellite Internet      12.0  1.000000e+00  0.000000e+00          1.0   \n",
       "Fixed WiMax Internet     1.0  1.000000e+00           NaN          1.0   \n",
       "\n",
       "                              25%          50%          75%          max  \n",
       "Bathrooms                     1.0          2.0          2.5         30.0  \n",
       "Bedrooms                      2.0          2.0          3.0         33.0  \n",
       "Garages                       1.0          1.0          2.0         20.0  \n",
       "Listing Number        108258251.0  108773652.0  108990121.0  109154455.0  \n",
       "Pet Friendly                  1.0          1.0          1.0          1.0  \n",
       "Price                   1850000.0    2995000.0    5990000.0  172500000.0  \n",
       "Garden                        1.0          1.0          1.0          1.0  \n",
       "Pool                          1.0          1.0          1.0          1.0  \n",
       "Secure Parking                1.0          2.0          2.0         15.0  \n",
       "Parking                       1.0          1.0          2.0         50.0  \n",
       "No Pets Allowed               1.0          1.0          1.0          1.0  \n",
       "Furnished                     1.0          1.0          1.0          1.0  \n",
       "Flatlet                       1.0          1.0          1.0          1.0  \n",
       "Fibre Internet                1.0          1.0          1.0          1.0  \n",
       "Furnished (Optional)          1.0          1.0          1.0          1.0  \n",
       "ADSL Internet                 1.0          1.0          1.0          1.0  \n",
       "Satellite Internet            1.0          1.0          1.0          1.0  \n",
       "Fixed WiMax Internet          1.0          1.0          1.0          1.0  "
      ]
     },
     "metadata": {},
     "output_type": "display_data"
    }
   ],
   "source": [
    "display(data.describe().T)"
   ]
  },
  {
   "cell_type": "markdown",
   "metadata": {},
   "source": [
    "#### A sample of the data"
   ]
  },
  {
   "cell_type": "code",
   "execution_count": 6,
   "metadata": {},
   "outputs": [
    {
     "data": {
      "text/html": [
       "<div>\n",
       "<style scoped>\n",
       "    .dataframe tbody tr th:only-of-type {\n",
       "        vertical-align: middle;\n",
       "    }\n",
       "\n",
       "    .dataframe tbody tr th {\n",
       "        vertical-align: top;\n",
       "    }\n",
       "\n",
       "    .dataframe thead th {\n",
       "        text-align: right;\n",
       "    }\n",
       "</style>\n",
       "<table border=\"1\" class=\"dataframe\">\n",
       "  <thead>\n",
       "    <tr style=\"text-align: right;\">\n",
       "      <th></th>\n",
       "      <th>5888</th>\n",
       "      <th>7188</th>\n",
       "      <th>2277</th>\n",
       "      <th>4574</th>\n",
       "      <th>7782</th>\n",
       "    </tr>\n",
       "  </thead>\n",
       "  <tbody>\n",
       "    <tr>\n",
       "      <th>Bathrooms</th>\n",
       "      <td>2.0</td>\n",
       "      <td>1.0</td>\n",
       "      <td>1.0</td>\n",
       "      <td>3.5</td>\n",
       "      <td>1.0</td>\n",
       "    </tr>\n",
       "    <tr>\n",
       "      <th>Bedrooms</th>\n",
       "      <td>3.0</td>\n",
       "      <td>1.0</td>\n",
       "      <td>1.0</td>\n",
       "      <td>4.0</td>\n",
       "      <td>1.0</td>\n",
       "    </tr>\n",
       "    <tr>\n",
       "      <th>Erf Size</th>\n",
       "      <td>312 m²</td>\n",
       "      <td>NaN</td>\n",
       "      <td>59 m²</td>\n",
       "      <td>740 m²</td>\n",
       "      <td>NaN</td>\n",
       "    </tr>\n",
       "    <tr>\n",
       "      <th>Floor Size</th>\n",
       "      <td>NaN</td>\n",
       "      <td>63 m²</td>\n",
       "      <td>59 m²</td>\n",
       "      <td>NaN</td>\n",
       "      <td>52 m²</td>\n",
       "    </tr>\n",
       "    <tr>\n",
       "      <th>Garages</th>\n",
       "      <td>2.0</td>\n",
       "      <td>1.0</td>\n",
       "      <td>NaN</td>\n",
       "      <td>2.0</td>\n",
       "      <td>NaN</td>\n",
       "    </tr>\n",
       "    <tr>\n",
       "      <th>Listing Date</th>\n",
       "      <td>24 July 2019</td>\n",
       "      <td>16 August 2019</td>\n",
       "      <td>30 July 2020</td>\n",
       "      <td>28 March 2020</td>\n",
       "      <td>12 September 2019</td>\n",
       "    </tr>\n",
       "    <tr>\n",
       "      <th>Listing Number</th>\n",
       "      <td>107738417</td>\n",
       "      <td>105967985</td>\n",
       "      <td>108933245</td>\n",
       "      <td>108605239</td>\n",
       "      <td>107937224</td>\n",
       "    </tr>\n",
       "    <tr>\n",
       "      <th>Pet Friendly</th>\n",
       "      <td>1.0</td>\n",
       "      <td>NaN</td>\n",
       "      <td>NaN</td>\n",
       "      <td>1.0</td>\n",
       "      <td>NaN</td>\n",
       "    </tr>\n",
       "    <tr>\n",
       "      <th>Price</th>\n",
       "      <td>4400000.0</td>\n",
       "      <td>2995000.0</td>\n",
       "      <td>1750000.0</td>\n",
       "      <td>4500000.0</td>\n",
       "      <td>1950000.0</td>\n",
       "    </tr>\n",
       "    <tr>\n",
       "      <th>Town</th>\n",
       "      <td>13 Mains Avenue, Kenilworth Upper, Cape Town</td>\n",
       "      <td>Fresnaye, Cape Town</td>\n",
       "      <td>195 Beach Road, Three Anchor Bay, Cape Town</td>\n",
       "      <td>Constantia, Cape Town</td>\n",
       "      <td>Cape Town City Centre, Cape Town</td>\n",
       "    </tr>\n",
       "    <tr>\n",
       "      <th>Type of Property</th>\n",
       "      <td>House</td>\n",
       "      <td>Apartment / Flat</td>\n",
       "      <td>Apartment / Flat</td>\n",
       "      <td>House</td>\n",
       "      <td>Apartment / Flat</td>\n",
       "    </tr>\n",
       "    <tr>\n",
       "      <th>Garden</th>\n",
       "      <td>1.0</td>\n",
       "      <td>NaN</td>\n",
       "      <td>NaN</td>\n",
       "      <td>NaN</td>\n",
       "      <td>NaN</td>\n",
       "    </tr>\n",
       "    <tr>\n",
       "      <th>Pool</th>\n",
       "      <td>NaN</td>\n",
       "      <td>1.0</td>\n",
       "      <td>NaN</td>\n",
       "      <td>NaN</td>\n",
       "      <td>NaN</td>\n",
       "    </tr>\n",
       "    <tr>\n",
       "      <th>Secure Parking</th>\n",
       "      <td>NaN</td>\n",
       "      <td>NaN</td>\n",
       "      <td>NaN</td>\n",
       "      <td>NaN</td>\n",
       "      <td>NaN</td>\n",
       "    </tr>\n",
       "    <tr>\n",
       "      <th>Parking</th>\n",
       "      <td>NaN</td>\n",
       "      <td>NaN</td>\n",
       "      <td>1.0</td>\n",
       "      <td>4.0</td>\n",
       "      <td>1.0</td>\n",
       "    </tr>\n",
       "    <tr>\n",
       "      <th>No Pets Allowed</th>\n",
       "      <td>NaN</td>\n",
       "      <td>NaN</td>\n",
       "      <td>1.0</td>\n",
       "      <td>NaN</td>\n",
       "      <td>1.0</td>\n",
       "    </tr>\n",
       "    <tr>\n",
       "      <th>Furnished</th>\n",
       "      <td>NaN</td>\n",
       "      <td>NaN</td>\n",
       "      <td>NaN</td>\n",
       "      <td>NaN</td>\n",
       "      <td>NaN</td>\n",
       "    </tr>\n",
       "    <tr>\n",
       "      <th>Flatlet</th>\n",
       "      <td>NaN</td>\n",
       "      <td>NaN</td>\n",
       "      <td>NaN</td>\n",
       "      <td>1.0</td>\n",
       "      <td>NaN</td>\n",
       "    </tr>\n",
       "    <tr>\n",
       "      <th>Fibre Internet</th>\n",
       "      <td>NaN</td>\n",
       "      <td>NaN</td>\n",
       "      <td>1.0</td>\n",
       "      <td>NaN</td>\n",
       "      <td>NaN</td>\n",
       "    </tr>\n",
       "    <tr>\n",
       "      <th>Furnished (Optional)</th>\n",
       "      <td>NaN</td>\n",
       "      <td>NaN</td>\n",
       "      <td>NaN</td>\n",
       "      <td>NaN</td>\n",
       "      <td>NaN</td>\n",
       "    </tr>\n",
       "    <tr>\n",
       "      <th>ADSL Internet</th>\n",
       "      <td>NaN</td>\n",
       "      <td>NaN</td>\n",
       "      <td>NaN</td>\n",
       "      <td>NaN</td>\n",
       "      <td>NaN</td>\n",
       "    </tr>\n",
       "    <tr>\n",
       "      <th>Satellite Internet</th>\n",
       "      <td>NaN</td>\n",
       "      <td>NaN</td>\n",
       "      <td>NaN</td>\n",
       "      <td>NaN</td>\n",
       "      <td>NaN</td>\n",
       "    </tr>\n",
       "    <tr>\n",
       "      <th>Fixed WiMax Internet</th>\n",
       "      <td>NaN</td>\n",
       "      <td>NaN</td>\n",
       "      <td>NaN</td>\n",
       "      <td>NaN</td>\n",
       "      <td>NaN</td>\n",
       "    </tr>\n",
       "  </tbody>\n",
       "</table>\n",
       "</div>"
      ],
      "text/plain": [
       "                                                              5888  \\\n",
       "Bathrooms                                                      2.0   \n",
       "Bedrooms                                                       3.0   \n",
       "Erf Size                                                    312 m²   \n",
       "Floor Size                                                     NaN   \n",
       "Garages                                                        2.0   \n",
       "Listing Date                                          24 July 2019   \n",
       "Listing Number                                           107738417   \n",
       "Pet Friendly                                                   1.0   \n",
       "Price                                                    4400000.0   \n",
       "Town                  13 Mains Avenue, Kenilworth Upper, Cape Town   \n",
       "Type of Property                                             House   \n",
       "Garden                                                         1.0   \n",
       "Pool                                                           NaN   \n",
       "Secure Parking                                                 NaN   \n",
       "Parking                                                        NaN   \n",
       "No Pets Allowed                                                NaN   \n",
       "Furnished                                                      NaN   \n",
       "Flatlet                                                        NaN   \n",
       "Fibre Internet                                                 NaN   \n",
       "Furnished (Optional)                                           NaN   \n",
       "ADSL Internet                                                  NaN   \n",
       "Satellite Internet                                             NaN   \n",
       "Fixed WiMax Internet                                           NaN   \n",
       "\n",
       "                                     7188  \\\n",
       "Bathrooms                             1.0   \n",
       "Bedrooms                              1.0   \n",
       "Erf Size                              NaN   \n",
       "Floor Size                          63 m²   \n",
       "Garages                               1.0   \n",
       "Listing Date               16 August 2019   \n",
       "Listing Number                  105967985   \n",
       "Pet Friendly                          NaN   \n",
       "Price                           2995000.0   \n",
       "Town                  Fresnaye, Cape Town   \n",
       "Type of Property         Apartment / Flat   \n",
       "Garden                                NaN   \n",
       "Pool                                  1.0   \n",
       "Secure Parking                        NaN   \n",
       "Parking                               NaN   \n",
       "No Pets Allowed                       NaN   \n",
       "Furnished                             NaN   \n",
       "Flatlet                               NaN   \n",
       "Fibre Internet                        NaN   \n",
       "Furnished (Optional)                  NaN   \n",
       "ADSL Internet                         NaN   \n",
       "Satellite Internet                    NaN   \n",
       "Fixed WiMax Internet                  NaN   \n",
       "\n",
       "                                                             2277  \\\n",
       "Bathrooms                                                     1.0   \n",
       "Bedrooms                                                      1.0   \n",
       "Erf Size                                                    59 m²   \n",
       "Floor Size                                                  59 m²   \n",
       "Garages                                                       NaN   \n",
       "Listing Date                                         30 July 2020   \n",
       "Listing Number                                          108933245   \n",
       "Pet Friendly                                                  NaN   \n",
       "Price                                                   1750000.0   \n",
       "Town                  195 Beach Road, Three Anchor Bay, Cape Town   \n",
       "Type of Property                                 Apartment / Flat   \n",
       "Garden                                                        NaN   \n",
       "Pool                                                          NaN   \n",
       "Secure Parking                                                NaN   \n",
       "Parking                                                       1.0   \n",
       "No Pets Allowed                                               1.0   \n",
       "Furnished                                                     NaN   \n",
       "Flatlet                                                       NaN   \n",
       "Fibre Internet                                                1.0   \n",
       "Furnished (Optional)                                          NaN   \n",
       "ADSL Internet                                                 NaN   \n",
       "Satellite Internet                                            NaN   \n",
       "Fixed WiMax Internet                                          NaN   \n",
       "\n",
       "                                       4574                              7782  \n",
       "Bathrooms                               3.5                               1.0  \n",
       "Bedrooms                                4.0                               1.0  \n",
       "Erf Size                             740 m²                               NaN  \n",
       "Floor Size                              NaN                             52 m²  \n",
       "Garages                                 2.0                               NaN  \n",
       "Listing Date                  28 March 2020                 12 September 2019  \n",
       "Listing Number                    108605239                         107937224  \n",
       "Pet Friendly                            1.0                               NaN  \n",
       "Price                             4500000.0                         1950000.0  \n",
       "Town                  Constantia, Cape Town  Cape Town City Centre, Cape Town  \n",
       "Type of Property                      House                  Apartment / Flat  \n",
       "Garden                                  NaN                               NaN  \n",
       "Pool                                    NaN                               NaN  \n",
       "Secure Parking                          NaN                               NaN  \n",
       "Parking                                 4.0                               1.0  \n",
       "No Pets Allowed                         NaN                               1.0  \n",
       "Furnished                               NaN                               NaN  \n",
       "Flatlet                                 1.0                               NaN  \n",
       "Fibre Internet                          NaN                               NaN  \n",
       "Furnished (Optional)                    NaN                               NaN  \n",
       "ADSL Internet                           NaN                               NaN  \n",
       "Satellite Internet                      NaN                               NaN  \n",
       "Fixed WiMax Internet                    NaN                               NaN  "
      ]
     },
     "metadata": {},
     "output_type": "display_data"
    }
   ],
   "source": [
    "display(data.sample(5).T)"
   ]
  },
  {
   "cell_type": "markdown",
   "metadata": {},
   "source": [
    "## Some preprocessing"
   ]
  },
  {
   "cell_type": "markdown",
   "metadata": {},
   "source": [
    "*From the information above, we can see that 'Erf Size' and 'Floor Size' should be converted to number and 'Listing Date' should be converted to datetime*"
   ]
  },
  {
   "cell_type": "markdown",
   "metadata": {},
   "source": [
    "### Standardize columns name"
   ]
  },
  {
   "cell_type": "code",
   "execution_count": 7,
   "metadata": {},
   "outputs": [
    {
     "data": {
      "text/plain": [
       "Index(['bathrooms', 'bedrooms', 'erf_size', 'floor_size', 'garages',\n",
       "       'listing_date', 'listing_number', 'pet_friendly', 'price', 'town',\n",
       "       'type_of_property', 'garden', 'pool', 'secure_parking', 'parking',\n",
       "       'no_pets_allowed', 'furnished', 'flatlet', 'fibre_internet',\n",
       "       'furnished_optional', 'adsl_internet', 'satellite_internet',\n",
       "       'fixed_wimax_internet'],\n",
       "      dtype='object')"
      ]
     },
     "execution_count": 7,
     "metadata": {},
     "output_type": "execute_result"
    }
   ],
   "source": [
    "data.columns = data.columns.str.lower()\n",
    "data.columns = data.columns.str.replace(r'[?|$|.|!|(|)]',r'', regex=True)\n",
    "data.columns = data.columns.str.replace(' ', '_')\n",
    "data.columns"
   ]
  },
  {
   "cell_type": "markdown",
   "metadata": {},
   "source": [
    "Convert erf_size to float64"
   ]
  },
  {
   "cell_type": "code",
   "execution_count": 9,
   "metadata": {},
   "outputs": [
    {
     "ename": "AttributeError",
     "evalue": "Can only use .str accessor with string values!",
     "output_type": "error",
     "traceback": [
      "\u001b[0;31m---------------------------------------------------------------------------\u001b[0m",
      "\u001b[0;31mAttributeError\u001b[0m                            Traceback (most recent call last)",
      "\u001b[0;32m/tmp/ipykernel_2944/2069192328.py\u001b[0m in \u001b[0;36m<module>\u001b[0;34m\u001b[0m\n\u001b[0;32m----> 1\u001b[0;31m \u001b[0mdata\u001b[0m\u001b[0;34m[\u001b[0m\u001b[0;34m'erf_size'\u001b[0m\u001b[0;34m]\u001b[0m \u001b[0;34m=\u001b[0m \u001b[0mdata\u001b[0m\u001b[0;34m[\u001b[0m\u001b[0;34m'erf_size'\u001b[0m\u001b[0;34m]\u001b[0m\u001b[0;34m.\u001b[0m\u001b[0mstr\u001b[0m\u001b[0;34m.\u001b[0m\u001b[0mreplace\u001b[0m\u001b[0;34m(\u001b[0m\u001b[0;34m' '\u001b[0m\u001b[0;34m,\u001b[0m \u001b[0;34m''\u001b[0m\u001b[0;34m)\u001b[0m\u001b[0;34m\u001b[0m\u001b[0;34m\u001b[0m\u001b[0m\n\u001b[0m\u001b[1;32m      2\u001b[0m \u001b[0mdata\u001b[0m\u001b[0;34m[\u001b[0m\u001b[0;34m'erf_size'\u001b[0m\u001b[0;34m]\u001b[0m \u001b[0;34m=\u001b[0m \u001b[0mdata\u001b[0m\u001b[0;34m[\u001b[0m\u001b[0;34m'erf_size'\u001b[0m\u001b[0;34m]\u001b[0m\u001b[0;34m.\u001b[0m\u001b[0mstr\u001b[0m\u001b[0;34m.\u001b[0m\u001b[0mreplace\u001b[0m\u001b[0;34m(\u001b[0m\u001b[0;34m'm²'\u001b[0m\u001b[0;34m,\u001b[0m \u001b[0;34m''\u001b[0m\u001b[0;34m)\u001b[0m\u001b[0;34m\u001b[0m\u001b[0;34m\u001b[0m\u001b[0m\n\u001b[1;32m      3\u001b[0m \u001b[0mdata\u001b[0m\u001b[0;34m[\u001b[0m\u001b[0;34m'erf_size'\u001b[0m\u001b[0;34m]\u001b[0m\u001b[0;34m.\u001b[0m\u001b[0mloc\u001b[0m\u001b[0;34m[\u001b[0m\u001b[0mdata\u001b[0m\u001b[0;34m[\u001b[0m\u001b[0;34m'erf_size'\u001b[0m\u001b[0;34m]\u001b[0m\u001b[0;34m.\u001b[0m\u001b[0mstr\u001b[0m\u001b[0;34m.\u001b[0m\u001b[0mcontains\u001b[0m\u001b[0;34m(\u001b[0m\u001b[0;34m'ha'\u001b[0m\u001b[0;34m,\u001b[0m \u001b[0mna\u001b[0m\u001b[0;34m=\u001b[0m\u001b[0;32mFalse\u001b[0m\u001b[0;34m)\u001b[0m\u001b[0;34m]\u001b[0m\u001b[0;34m\u001b[0m\u001b[0;34m\u001b[0m\u001b[0m\n\u001b[1;32m      4\u001b[0m \u001b[0;31m# convert ha into m²\u001b[0m\u001b[0;34m\u001b[0m\u001b[0;34m\u001b[0m\u001b[0;34m\u001b[0m\u001b[0m\n\u001b[1;32m      5\u001b[0m \u001b[0mdata\u001b[0m\u001b[0;34m[\u001b[0m\u001b[0;34m'erf_size'\u001b[0m\u001b[0;34m]\u001b[0m \u001b[0;34m=\u001b[0m \u001b[0mdata\u001b[0m\u001b[0;34m[\u001b[0m\u001b[0;34m'erf_size'\u001b[0m\u001b[0;34m]\u001b[0m\u001b[0;34m.\u001b[0m\u001b[0mstr\u001b[0m\u001b[0;34m.\u001b[0m\u001b[0mreplace\u001b[0m\u001b[0;34m(\u001b[0m\u001b[0;34m'ha'\u001b[0m\u001b[0;34m,\u001b[0m \u001b[0;34m'0000'\u001b[0m\u001b[0;34m)\u001b[0m\u001b[0;34m\u001b[0m\u001b[0;34m\u001b[0m\u001b[0m\n",
      "\u001b[0;32m~/.local/lib/python3.8/site-packages/pandas/core/generic.py\u001b[0m in \u001b[0;36m__getattr__\u001b[0;34m(self, name)\u001b[0m\n\u001b[1;32m   5485\u001b[0m         ):\n\u001b[1;32m   5486\u001b[0m             \u001b[0;32mreturn\u001b[0m \u001b[0mself\u001b[0m\u001b[0;34m[\u001b[0m\u001b[0mname\u001b[0m\u001b[0;34m]\u001b[0m\u001b[0;34m\u001b[0m\u001b[0;34m\u001b[0m\u001b[0m\n\u001b[0;32m-> 5487\u001b[0;31m         \u001b[0;32mreturn\u001b[0m \u001b[0mobject\u001b[0m\u001b[0;34m.\u001b[0m\u001b[0m__getattribute__\u001b[0m\u001b[0;34m(\u001b[0m\u001b[0mself\u001b[0m\u001b[0;34m,\u001b[0m \u001b[0mname\u001b[0m\u001b[0;34m)\u001b[0m\u001b[0;34m\u001b[0m\u001b[0;34m\u001b[0m\u001b[0m\n\u001b[0m\u001b[1;32m   5488\u001b[0m \u001b[0;34m\u001b[0m\u001b[0m\n\u001b[1;32m   5489\u001b[0m     \u001b[0;32mdef\u001b[0m \u001b[0m__setattr__\u001b[0m\u001b[0;34m(\u001b[0m\u001b[0mself\u001b[0m\u001b[0;34m,\u001b[0m \u001b[0mname\u001b[0m\u001b[0;34m:\u001b[0m \u001b[0mstr\u001b[0m\u001b[0;34m,\u001b[0m \u001b[0mvalue\u001b[0m\u001b[0;34m)\u001b[0m \u001b[0;34m->\u001b[0m \u001b[0;32mNone\u001b[0m\u001b[0;34m:\u001b[0m\u001b[0;34m\u001b[0m\u001b[0;34m\u001b[0m\u001b[0m\n",
      "\u001b[0;32m~/.local/lib/python3.8/site-packages/pandas/core/accessor.py\u001b[0m in \u001b[0;36m__get__\u001b[0;34m(self, obj, cls)\u001b[0m\n\u001b[1;32m    179\u001b[0m             \u001b[0;31m# we're accessing the attribute of the class, i.e., Dataset.geo\u001b[0m\u001b[0;34m\u001b[0m\u001b[0;34m\u001b[0m\u001b[0;34m\u001b[0m\u001b[0m\n\u001b[1;32m    180\u001b[0m             \u001b[0;32mreturn\u001b[0m \u001b[0mself\u001b[0m\u001b[0;34m.\u001b[0m\u001b[0m_accessor\u001b[0m\u001b[0;34m\u001b[0m\u001b[0;34m\u001b[0m\u001b[0m\n\u001b[0;32m--> 181\u001b[0;31m         \u001b[0maccessor_obj\u001b[0m \u001b[0;34m=\u001b[0m \u001b[0mself\u001b[0m\u001b[0;34m.\u001b[0m\u001b[0m_accessor\u001b[0m\u001b[0;34m(\u001b[0m\u001b[0mobj\u001b[0m\u001b[0;34m)\u001b[0m\u001b[0;34m\u001b[0m\u001b[0;34m\u001b[0m\u001b[0m\n\u001b[0m\u001b[1;32m    182\u001b[0m         \u001b[0;31m# Replace the property with the accessor object. Inspired by:\u001b[0m\u001b[0;34m\u001b[0m\u001b[0;34m\u001b[0m\u001b[0;34m\u001b[0m\u001b[0m\n\u001b[1;32m    183\u001b[0m         \u001b[0;31m# https://www.pydanny.com/cached-property.html\u001b[0m\u001b[0;34m\u001b[0m\u001b[0;34m\u001b[0m\u001b[0;34m\u001b[0m\u001b[0m\n",
      "\u001b[0;32m~/.local/lib/python3.8/site-packages/pandas/core/strings/accessor.py\u001b[0m in \u001b[0;36m__init__\u001b[0;34m(self, data)\u001b[0m\n\u001b[1;32m    166\u001b[0m         \u001b[0;32mfrom\u001b[0m \u001b[0mpandas\u001b[0m\u001b[0;34m.\u001b[0m\u001b[0mcore\u001b[0m\u001b[0;34m.\u001b[0m\u001b[0marrays\u001b[0m\u001b[0;34m.\u001b[0m\u001b[0mstring_\u001b[0m \u001b[0;32mimport\u001b[0m \u001b[0mStringDtype\u001b[0m\u001b[0;34m\u001b[0m\u001b[0;34m\u001b[0m\u001b[0m\n\u001b[1;32m    167\u001b[0m \u001b[0;34m\u001b[0m\u001b[0m\n\u001b[0;32m--> 168\u001b[0;31m         \u001b[0mself\u001b[0m\u001b[0;34m.\u001b[0m\u001b[0m_inferred_dtype\u001b[0m \u001b[0;34m=\u001b[0m \u001b[0mself\u001b[0m\u001b[0;34m.\u001b[0m\u001b[0m_validate\u001b[0m\u001b[0;34m(\u001b[0m\u001b[0mdata\u001b[0m\u001b[0;34m)\u001b[0m\u001b[0;34m\u001b[0m\u001b[0;34m\u001b[0m\u001b[0m\n\u001b[0m\u001b[1;32m    169\u001b[0m         \u001b[0mself\u001b[0m\u001b[0;34m.\u001b[0m\u001b[0m_is_categorical\u001b[0m \u001b[0;34m=\u001b[0m \u001b[0mis_categorical_dtype\u001b[0m\u001b[0;34m(\u001b[0m\u001b[0mdata\u001b[0m\u001b[0;34m.\u001b[0m\u001b[0mdtype\u001b[0m\u001b[0;34m)\u001b[0m\u001b[0;34m\u001b[0m\u001b[0;34m\u001b[0m\u001b[0m\n\u001b[1;32m    170\u001b[0m         \u001b[0mself\u001b[0m\u001b[0;34m.\u001b[0m\u001b[0m_is_string\u001b[0m \u001b[0;34m=\u001b[0m \u001b[0misinstance\u001b[0m\u001b[0;34m(\u001b[0m\u001b[0mdata\u001b[0m\u001b[0;34m.\u001b[0m\u001b[0mdtype\u001b[0m\u001b[0;34m,\u001b[0m \u001b[0mStringDtype\u001b[0m\u001b[0;34m)\u001b[0m\u001b[0;34m\u001b[0m\u001b[0;34m\u001b[0m\u001b[0m\n",
      "\u001b[0;32m~/.local/lib/python3.8/site-packages/pandas/core/strings/accessor.py\u001b[0m in \u001b[0;36m_validate\u001b[0;34m(data)\u001b[0m\n\u001b[1;32m    223\u001b[0m \u001b[0;34m\u001b[0m\u001b[0m\n\u001b[1;32m    224\u001b[0m         \u001b[0;32mif\u001b[0m \u001b[0minferred_dtype\u001b[0m \u001b[0;32mnot\u001b[0m \u001b[0;32min\u001b[0m \u001b[0mallowed_types\u001b[0m\u001b[0;34m:\u001b[0m\u001b[0;34m\u001b[0m\u001b[0;34m\u001b[0m\u001b[0m\n\u001b[0;32m--> 225\u001b[0;31m             \u001b[0;32mraise\u001b[0m \u001b[0mAttributeError\u001b[0m\u001b[0;34m(\u001b[0m\u001b[0;34m\"Can only use .str accessor with string values!\"\u001b[0m\u001b[0;34m)\u001b[0m\u001b[0;34m\u001b[0m\u001b[0;34m\u001b[0m\u001b[0m\n\u001b[0m\u001b[1;32m    226\u001b[0m         \u001b[0;32mreturn\u001b[0m \u001b[0minferred_dtype\u001b[0m\u001b[0;34m\u001b[0m\u001b[0;34m\u001b[0m\u001b[0m\n\u001b[1;32m    227\u001b[0m \u001b[0;34m\u001b[0m\u001b[0m\n",
      "\u001b[0;31mAttributeError\u001b[0m: Can only use .str accessor with string values!"
     ]
    }
   ],
   "source": [
    "data['erf_size'] = data['erf_size'].str.replace(' ', '')\n",
    "data['erf_size'] = data['erf_size'].str.replace('m²', '')\n",
    "data['erf_size'].loc[data['erf_size'].str.contains('ha', na=False)]\n",
    "# convert ha into m²\n",
    "data['erf_size'] = data['erf_size'].str.replace('ha', '0000')\n",
    "data['erf_size'] = data['erf_size'].astype(float)"
   ]
  },
  {
   "cell_type": "markdown",
   "metadata": {},
   "source": [
    "Convert floor_size to float"
   ]
  },
  {
   "cell_type": "code",
   "execution_count": 10,
   "metadata": {},
   "outputs": [],
   "source": [
    "data['floor_size'] = data['floor_size'].str.replace(' ', '')\n",
    "data['floor_size'] = data['floor_size'].str.replace('m²', '')\n",
    "data['floor_size'] = data['floor_size'].astype(float)"
   ]
  },
  {
   "cell_type": "markdown",
   "metadata": {},
   "source": [
    "Convert listing_date to datetime"
   ]
  },
  {
   "cell_type": "code",
   "execution_count": 11,
   "metadata": {},
   "outputs": [
    {
     "data": {
      "text/plain": [
       "0   2020-07-10\n",
       "1   2020-09-23\n",
       "2   2020-09-23\n",
       "3   2020-09-23\n",
       "4   2020-07-23\n",
       "Name: listing_date, dtype: datetime64[ns]"
      ]
     },
     "execution_count": 11,
     "metadata": {},
     "output_type": "execute_result"
    }
   ],
   "source": [
    "def formatDate(datestr) :\n",
    "    date =  datestr.split()\n",
    "    date[1] = date[1][0:3]\n",
    "    return ''.join(date)\n",
    "\n",
    "data['listing_date'] = data['listing_date'].apply(formatDate)\n",
    "data['listing_date'] = pd.to_datetime(data['listing_date'], format='%d%b%Y')\n",
    "data['listing_date'].head().T"
   ]
  },
  {
   "cell_type": "code",
   "execution_count": 12,
   "metadata": {},
   "outputs": [
    {
     "name": "stdout",
     "output_type": "stream",
     "text": [
      "<class 'pandas.core.frame.DataFrame'>\n",
      "RangeIndex: 7901 entries, 0 to 7900\n",
      "Data columns (total 23 columns):\n",
      " #   Column                Non-Null Count  Dtype         \n",
      "---  ------                --------------  -----         \n",
      " 0   bathrooms             7812 non-null   float64       \n",
      " 1   bedrooms              7661 non-null   float64       \n",
      " 2   erf_size              3635 non-null   float64       \n",
      " 3   floor_size            5869 non-null   float64       \n",
      " 4   garages               3732 non-null   float64       \n",
      " 5   listing_date          7901 non-null   datetime64[ns]\n",
      " 6   listing_number        7901 non-null   int64         \n",
      " 7   pet_friendly          2026 non-null   float64       \n",
      " 8   price                 7846 non-null   float64       \n",
      " 9   town                  7901 non-null   object        \n",
      " 10  type_of_property      7901 non-null   object        \n",
      " 11  garden                2030 non-null   float64       \n",
      " 12  pool                  2738 non-null   float64       \n",
      " 13  secure_parking        666 non-null    float64       \n",
      " 14  parking               3423 non-null   float64       \n",
      " 15  no_pets_allowed       1319 non-null   float64       \n",
      " 16  furnished             299 non-null    float64       \n",
      " 17  flatlet               414 non-null    float64       \n",
      " 18  fibre_internet        795 non-null    float64       \n",
      " 19  furnished_optional    22 non-null     float64       \n",
      " 20  adsl_internet         40 non-null     float64       \n",
      " 21  satellite_internet    12 non-null     float64       \n",
      " 22  fixed_wimax_internet  1 non-null      float64       \n",
      "dtypes: datetime64[ns](1), float64(19), int64(1), object(2)\n",
      "memory usage: 1.4+ MB\n"
     ]
    }
   ],
   "source": [
    "data.info()"
   ]
  },
  {
   "cell_type": "markdown",
   "metadata": {},
   "source": [
    "## Some visualization of our data to understand it "
   ]
  },
  {
   "cell_type": "markdown",
   "metadata": {},
   "source": [
    "### Price distribution"
   ]
  },
  {
   "cell_type": "code",
   "execution_count": 13,
   "metadata": {},
   "outputs": [
    {
     "name": "stderr",
     "output_type": "stream",
     "text": [
      "/home/mirindra/.local/lib/python3.8/site-packages/seaborn/distributions.py:2619: FutureWarning: `distplot` is a deprecated function and will be removed in a future version. Please adapt your code to use either `displot` (a figure-level function with similar flexibility) or `histplot` (an axes-level function for histograms).\n",
      "  warnings.warn(msg, FutureWarning)\n"
     ]
    },
    {
     "data": {
      "image/png": "[encoded data removed]",
      "text/plain": [
       "<Figure size 1152x360 with 1 Axes>"
      ]
     },
     "metadata": {
      "needs_background": "light"
     },
     "output_type": "display_data"
    }
   ],
   "source": [
    "# data['price'].plot.hist(bins=200, rwidth=0.5, figsize=(20,10))\n",
    "plt.figure(figsize=(16,5))\n",
    "# plt.subplot(1,2,1)\n",
    "sns.distplot(data['price'])\n",
    "plt.show()"
   ]
  },
  {
   "cell_type": "markdown",
   "metadata": {},
   "source": [
    "### Outlier visualization"
   ]
  },
  {
   "cell_type": "code",
   "execution_count": 14,
   "metadata": {},
   "outputs": [
    {
     "data": {
      "text/plain": [
       "<AxesSubplot:xlabel='price'>"
      ]
     },
     "execution_count": 14,
     "metadata": {},
     "output_type": "execute_result"
    },
    {
     "data": {
      "image/png": "[encoded data removed]",
      "text/plain": [
       "<Figure size 1152x360 with 1 Axes>"
      ]
     },
     "metadata": {
      "needs_background": "light"
     },
     "output_type": "display_data"
    }
   ],
   "source": [
    "plt.figure(figsize=(16,5))\n",
    "sns.boxplot(x=data['price'])"
   ]
  },
  {
   "cell_type": "code",
   "execution_count": 15,
   "metadata": {},
   "outputs": [
    {
     "name": "stderr",
     "output_type": "stream",
     "text": [
      "/home/mirindra/.local/lib/python3.8/site-packages/seaborn/distributions.py:2619: FutureWarning: `distplot` is a deprecated function and will be removed in a future version. Please adapt your code to use either `displot` (a figure-level function with similar flexibility) or `histplot` (an axes-level function for histograms).\n",
      "  warnings.warn(msg, FutureWarning)\n"
     ]
    },
    {
     "data": {
      "text/plain": [
       "<AxesSubplot:xlabel='price', ylabel='Density'>"
      ]
     },
     "execution_count": 15,
     "metadata": {},
     "output_type": "execute_result"
    },
    {
     "data": {
      "image/png": "[encoded data removed]",
      "text/plain": [
       "<Figure size 1152x360 with 1 Axes>"
      ]
     },
     "metadata": {
      "needs_background": "light"
     },
     "output_type": "display_data"
    }
   ],
   "source": [
    "upper_price_limit = data['price'].quantile(0.99)\n",
    "lower_price_limit = data['price'].quantile(0.01)\n",
    "\n",
    "# removing outlier\n",
    "new_data = data[(data['price'] <= upper_price_limit) & (data['price'] >= lower_price_limit)]\n",
    "\n",
    "plt.figure(figsize=(16,5))\n",
    "sns.distplot(new_data['price'])\n",
    "# sns.boxplot(new_data['price'])"
   ]
  },
  {
   "cell_type": "code",
   "execution_count": 16,
   "metadata": {},
   "outputs": [],
   "source": [
    "data = new_data"
   ]
  },
  {
   "cell_type": "markdown",
   "metadata": {},
   "source": [
    "### House number per type"
   ]
  },
  {
   "cell_type": "code",
   "execution_count": null,
   "metadata": {},
   "outputs": [],
   "source": [
    "data['type_of_property'].value_counts().plot(kind='barh')"
   ]
  },
  {
   "cell_type": "markdown",
   "metadata": {},
   "source": [
    "### Features correlations"
   ]
  },
  {
   "cell_type": "code",
   "execution_count": null,
   "metadata": {},
   "outputs": [],
   "source": [
    "fig, ax = plt.subplots(figsize=(20,12))\n",
    "corr_matrix = data.corr(method='spearman').abs()\n",
    "sns.heatmap(corr_matrix, annot=True, linewidths=1, ax=ax,center=0)"
   ]
  },
  {
   "cell_type": "markdown",
   "metadata": {},
   "source": [
    "The correlation matrix is full of empty value because of the NaN in the data. We will fix that later but we are going to handle object columns first"
   ]
  },
  {
   "cell_type": "markdown",
   "metadata": {},
   "source": [
    "## Data cleaning"
   ]
  },
  {
   "cell_type": "markdown",
   "metadata": {},
   "source": [
    "### Remove duplicated row or row missing too much features"
   ]
  },
  {
   "cell_type": "code",
   "execution_count": null,
   "metadata": {},
   "outputs": [],
   "source": [
    "print(\"%d observations with %d dupicated row\"%(data.shape[0], data.duplicated().sum()))"
   ]
  },
  {
   "cell_type": "code",
   "execution_count": null,
   "metadata": {},
   "outputs": [],
   "source": [
    "\n",
    "print(\"Droping duplicated row ...\")\n",
    "data.drop_duplicates(keep = 'first', inplace=True)\n"
   ]
  },
  {
   "cell_type": "code",
   "execution_count": 35,
   "metadata": {},
   "outputs": [
    {
     "ename": "NameError",
     "evalue": "name 'data' is not defined",
     "output_type": "error",
     "traceback": [
      "\u001b[0;31m---------------------------------------------------------------------------\u001b[0m",
      "\u001b[0;31mNameError\u001b[0m                                 Traceback (most recent call last)",
      "\u001b[0;32m/tmp/ipykernel_3268/1589260623.py\u001b[0m in \u001b[0;36m<module>\u001b[0;34m\u001b[0m\n\u001b[0;32m----> 1\u001b[0;31m \u001b[0mprint\u001b[0m\u001b[0;34m(\u001b[0m\u001b[0;34m\"%d observations with %d duplicated row\"\u001b[0m\u001b[0;34m%\u001b[0m\u001b[0;34m(\u001b[0m\u001b[0mdata\u001b[0m\u001b[0;34m.\u001b[0m\u001b[0mshape\u001b[0m\u001b[0;34m[\u001b[0m\u001b[0;36m0\u001b[0m\u001b[0;34m]\u001b[0m\u001b[0;34m,\u001b[0m \u001b[0mdata\u001b[0m\u001b[0;34m.\u001b[0m\u001b[0mduplicated\u001b[0m\u001b[0;34m(\u001b[0m\u001b[0;34m)\u001b[0m\u001b[0;34m.\u001b[0m\u001b[0msum\u001b[0m\u001b[0;34m(\u001b[0m\u001b[0;34m)\u001b[0m\u001b[0;34m)\u001b[0m\u001b[0;34m)\u001b[0m\u001b[0;34m\u001b[0m\u001b[0;34m\u001b[0m\u001b[0m\n\u001b[0m",
      "\u001b[0;31mNameError\u001b[0m: name 'data' is not defined"
     ]
    }
   ],
   "source": [
    "print(\"%d observations with %d duplicated row\"%(data.shape[0], data.duplicated().sum()))"
   ]
  },
  {
   "cell_type": "code",
   "execution_count": null,
   "metadata": {},
   "outputs": [],
   "source": [
    "row_null_count = data.isnull().sum(axis=1)\n",
    "row_null_count.describe()"
   ]
  },
  {
   "cell_type": "code",
   "execution_count": null,
   "metadata": {},
   "outputs": [],
   "source": [
    "# drop row which are missing more than 80% of features\n",
    "row_percentage_miss = row_null_count/data.shape[1]\n",
    "index_to_drop = data[row_percentage_miss > 0.8].index\n",
    "index_to_drop"
   ]
  },
  {
   "cell_type": "code",
   "execution_count": null,
   "metadata": {},
   "outputs": [],
   "source": [
    "data = data.drop(index_to_drop)\n",
    "data.shape"
   ]
  },
  {
   "cell_type": "code",
   "execution_count": null,
   "metadata": {},
   "outputs": [],
   "source": [
    "print(\"Ended with %d observations\"%(data.shape[0]))"
   ]
  },
  {
   "cell_type": "markdown",
   "metadata": {},
   "source": [
    "### Handle object columns"
   ]
  },
  {
   "cell_type": "code",
   "execution_count": 36,
   "metadata": {},
   "outputs": [
    {
     "ename": "NameError",
     "evalue": "name 'data' is not defined",
     "output_type": "error",
     "traceback": [
      "\u001b[0;31m---------------------------------------------------------------------------\u001b[0m",
      "\u001b[0;31mNameError\u001b[0m                                 Traceback (most recent call last)",
      "\u001b[0;32m/tmp/ipykernel_3268/2979674483.py\u001b[0m in \u001b[0;36m<module>\u001b[0;34m\u001b[0m\n\u001b[0;32m----> 1\u001b[0;31m \u001b[0mobj_col\u001b[0m \u001b[0;34m=\u001b[0m \u001b[0mdata\u001b[0m\u001b[0;34m.\u001b[0m\u001b[0mselect_dtypes\u001b[0m\u001b[0;34m(\u001b[0m\u001b[0;34m'object'\u001b[0m\u001b[0;34m)\u001b[0m\u001b[0;34m.\u001b[0m\u001b[0mcolumns\u001b[0m\u001b[0;34m\u001b[0m\u001b[0;34m\u001b[0m\u001b[0m\n\u001b[0m\u001b[1;32m      2\u001b[0m \u001b[0mobj_col\u001b[0m\u001b[0;34m\u001b[0m\u001b[0;34m\u001b[0m\u001b[0m\n",
      "\u001b[0;31mNameError\u001b[0m: name 'data' is not defined"
     ]
    }
   ],
   "source": [
    "obj_col = data.select_dtypes('object').columns\n",
    "obj_col"
   ]
  },
  {
   "cell_type": "code",
   "execution_count": null,
   "metadata": {},
   "outputs": [],
   "source": [
    "for col in obj_col :\n",
    "    print(\"Feature %s has %d uniques values\"%(col, data[col].nunique()))"
   ]
  },
  {
   "cell_type": "markdown",
   "metadata": {},
   "source": [
    "#### Handling 'type_of_property' feature"
   ]
  },
  {
   "cell_type": "code",
   "execution_count": null,
   "metadata": {},
   "outputs": [],
   "source": [
    "print(\"The feature 'type_of_property' has %d uniques values which are %s\"%(data['type_of_property'].nunique(), ', '.join(data['type_of_property'].unique()) ) )"
   ]
  },
  {
   "cell_type": "markdown",
   "metadata": {},
   "source": [
    "*Encoding type_of_property with oneHotEncoder*"
   ]
  },
  {
   "cell_type": "code",
   "execution_count": null,
   "metadata": {},
   "outputs": [],
   "source": [
    "# standardize values before encoding\n",
    "data['type_of_property'] = data['type_of_property'].str.lower()\n",
    "data['type_of_property'] = data['type_of_property'].str.replace(' ','')\n",
    "data['type_of_property'] = data['type_of_property'].str.replace('/','_')\n",
    "data['type_of_property'].unique()"
   ]
  },
  {
   "cell_type": "code",
   "execution_count": null,
   "metadata": {},
   "outputs": [],
   "source": [
    "# encoding using oneHotEncoder\n",
    "enc = OneHotEncoder(handle_unknown='ignore', sparse=False)\n",
    "\n",
    "# encode type_of_property\n",
    "type_encoded = pd.DataFrame(enc.fit_transform(data[['type_of_property']]))\n",
    "type_encoded.columns = enc.get_feature_names(['type'])\n",
    "print(type_encoded.shape)\n",
    "# merge with data\n",
    "data.reset_index(drop=True, inplace=True)\n",
    "type_encoded.reset_index(drop=True, inplace=True)\n",
    "data = pd.concat([data, type_encoded], axis=1)\n",
    "\n",
    "data.drop(columns=['type_of_property'], inplace=True)"
   ]
  },
  {
   "cell_type": "code",
   "execution_count": null,
   "metadata": {},
   "outputs": [],
   "source": [
    "data.info()"
   ]
  },
  {
   "cell_type": "markdown",
   "metadata": {},
   "source": [
    "#### Handling 'town' feature"
   ]
  },
  {
   "cell_type": "code",
   "execution_count": 37,
   "metadata": {},
   "outputs": [
    {
     "ename": "NameError",
     "evalue": "name 'data' is not defined",
     "output_type": "error",
     "traceback": [
      "\u001b[0;31m---------------------------------------------------------------------------\u001b[0m",
      "\u001b[0;31mNameError\u001b[0m                                 Traceback (most recent call last)",
      "\u001b[0;32m/tmp/ipykernel_3268/1662455085.py\u001b[0m in \u001b[0;36m<module>\u001b[0;34m\u001b[0m\n\u001b[0;32m----> 1\u001b[0;31m \u001b[0mdisplay\u001b[0m\u001b[0;34m(\u001b[0m\u001b[0mdata\u001b[0m\u001b[0;34m[\u001b[0m\u001b[0;34m'town'\u001b[0m\u001b[0;34m]\u001b[0m\u001b[0;34m.\u001b[0m\u001b[0misna\u001b[0m\u001b[0;34m(\u001b[0m\u001b[0;34m)\u001b[0m\u001b[0;34m.\u001b[0m\u001b[0msum\u001b[0m\u001b[0;34m(\u001b[0m\u001b[0;34m)\u001b[0m\u001b[0;34m)\u001b[0m\u001b[0;34m\u001b[0m\u001b[0;34m\u001b[0m\u001b[0m\n\u001b[0m\u001b[1;32m      2\u001b[0m \u001b[0mdisplay\u001b[0m\u001b[0;34m(\u001b[0m\u001b[0mdata\u001b[0m\u001b[0;34m[\u001b[0m\u001b[0;34m'town'\u001b[0m\u001b[0;34m]\u001b[0m\u001b[0;34m.\u001b[0m\u001b[0munique\u001b[0m\u001b[0;34m(\u001b[0m\u001b[0;34m)\u001b[0m\u001b[0;34m)\u001b[0m\u001b[0;34m\u001b[0m\u001b[0;34m\u001b[0m\u001b[0m\n",
      "\u001b[0;31mNameError\u001b[0m: name 'data' is not defined"
     ]
    }
   ],
   "source": [
    "display(data['town'].isna().sum())\n",
    "display(data['town'].unique())"
   ]
  },
  {
   "cell_type": "markdown",
   "metadata": {},
   "source": [
    "Town value all end with 'Cape Town' since the data was collected from Cape Town. It' s irrevelant so we  can just remove it"
   ]
  },
  {
   "cell_type": "code",
   "execution_count": null,
   "metadata": {},
   "outputs": [],
   "source": [
    "# Check if some observation are not from Cape Town\n",
    "notCapeTown = data[~data.town.str.contains('Cape Town', na=False)]\n",
    "notCapeTown['town'].unique()"
   ]
  },
  {
   "cell_type": "code",
   "execution_count": null,
   "metadata": {},
   "outputs": [],
   "source": [
    "town = data['town'].str.replace(', Cape Town', '') # remove Cape Town in town columns\n",
    "print(town.nunique(), \" unique values in town columns\")\n",
    "town.head()"
   ]
  },
  {
   "cell_type": "markdown",
   "metadata": {},
   "source": [
    "*Actually the town columns contains the street address of the house so we have to separate the street address and the suburb to better represent the data*"
   ]
  },
  {
   "cell_type": "markdown",
   "metadata": {},
   "source": [
    "The suburb should be enough to represent the data so we can drop the other data. Usually, suburb/neighborhood is what matter the most when pricing a house based on its address"
   ]
  },
  {
   "cell_type": "code",
   "execution_count": null,
   "metadata": {},
   "outputs": [],
   "source": [
    "town = town.str.split(',').str[-1]\n",
    "town.head()\n"
   ]
  },
  {
   "cell_type": "code",
   "execution_count": null,
   "metadata": {},
   "outputs": [],
   "source": [
    "# convert town into new dataframe\n",
    "location = pd.DataFrame(town.tolist(), columns = ['suburb'])\n",
    "location['suburb'] = location['suburb'].str.strip() # remove space \n",
    "location['suburb'] = location['suburb'].str.lower() # to lower case \n",
    "location['suburb'].head()"
   ]
  },
  {
   "cell_type": "markdown",
   "metadata": {},
   "source": [
    "Let' s join the suburb columns to our data "
   ]
  },
  {
   "cell_type": "code",
   "execution_count": null,
   "metadata": {},
   "outputs": [],
   "source": [
    "# merge with data\n",
    "data = pd.concat([data, location], axis=1)\n",
    "data.drop(columns=['town'], inplace=True)\n",
    "display(data.head())"
   ]
  },
  {
   "cell_type": "markdown",
   "metadata": {},
   "source": [
    "Let' s check if we can assemble some category of suburb"
   ]
  },
  {
   "cell_type": "code",
   "execution_count": 38,
   "metadata": {},
   "outputs": [
    {
     "ename": "NameError",
     "evalue": "name 'data' is not defined",
     "output_type": "error",
     "traceback": [
      "\u001b[0;31m---------------------------------------------------------------------------\u001b[0m",
      "\u001b[0;31mNameError\u001b[0m                                 Traceback (most recent call last)",
      "\u001b[0;32m/tmp/ipykernel_3268/902104298.py\u001b[0m in \u001b[0;36m<module>\u001b[0;34m\u001b[0m\n\u001b[0;32m----> 1\u001b[0;31m \u001b[0mdata\u001b[0m\u001b[0;34m.\u001b[0m\u001b[0mgroupby\u001b[0m\u001b[0;34m(\u001b[0m\u001b[0;34m[\u001b[0m\u001b[0;34m'suburb'\u001b[0m\u001b[0;34m]\u001b[0m\u001b[0;34m)\u001b[0m\u001b[0;34m[\u001b[0m\u001b[0;34m'price'\u001b[0m\u001b[0;34m]\u001b[0m\u001b[0;34m.\u001b[0m\u001b[0mmean\u001b[0m\u001b[0;34m(\u001b[0m\u001b[0;34m)\u001b[0m\u001b[0;34m.\u001b[0m\u001b[0mplot\u001b[0m\u001b[0;34m(\u001b[0m\u001b[0mkind\u001b[0m\u001b[0;34m=\u001b[0m\u001b[0;34m'barh'\u001b[0m\u001b[0;34m,\u001b[0m \u001b[0mfigsize\u001b[0m\u001b[0;34m=\u001b[0m\u001b[0;34m(\u001b[0m\u001b[0;36m20\u001b[0m\u001b[0;34m,\u001b[0m\u001b[0;36m40\u001b[0m\u001b[0;34m)\u001b[0m\u001b[0;34m)\u001b[0m\u001b[0;34m\u001b[0m\u001b[0;34m\u001b[0m\u001b[0m\n\u001b[0m",
      "\u001b[0;31mNameError\u001b[0m: name 'data' is not defined"
     ]
    }
   ],
   "source": [
    "data.groupby(['suburb'])['price'].mean().plot(kind='barh', figsize=(20,40))"
   ]
  },
  {
   "cell_type": "code",
   "execution_count": null,
   "metadata": {},
   "outputs": [],
   "source": [
    "suburb = data['suburb'].unique()\n",
    "suburb = suburb.astype(str)\n",
    "suburb.sort()\n",
    "print(\"Location suburb has %d unique values which are :\"%len(suburb))\n",
    "print(suburb)"
   ]
  },
  {
   "cell_type": "markdown",
   "metadata": {},
   "source": [
    "There is a lot of suburb value containing 'city centre' and from the graph above, we can see that their mean price is not so different. Let' s assemble them in the same category 'city centre'"
   ]
  },
  {
   "cell_type": "code",
   "execution_count": null,
   "metadata": {},
   "outputs": [],
   "source": [
    "data.loc[data['suburb'].str.contains('city centre', case = False, na = False), 'suburb'] = \"city centre\""
   ]
  },
  {
   "cell_type": "code",
   "execution_count": null,
   "metadata": {},
   "outputs": [],
   "source": [
    "suburb = data['suburb'].unique()\n",
    "suburb = suburb.astype(str)\n",
    "suburb.sort()\n",
    "print(\"Location suburb has %d unique values which are :\"%len(suburb))\n",
    "print(suburb)"
   ]
  },
  {
   "cell_type": "markdown",
   "metadata": {},
   "source": [
    "Encoding suburb with OneHotEncoder"
   ]
  },
  {
   "cell_type": "code",
   "execution_count": null,
   "metadata": {},
   "outputs": [],
   "source": [
    "# encoding using oneHotEncoder\n",
    "enc_suburb = OneHotEncoder(handle_unknown='ignore', sparse=False)\n",
    "\n",
    "# remove space in suburb before encoding\n",
    "data['suburb'] = data['suburb'].str.replace(' ', '_')\n",
    "data['suburb'].fillna('unknow', inplace=True)"
   ]
  },
  {
   "cell_type": "code",
   "execution_count": null,
   "metadata": {},
   "outputs": [],
   "source": [
    "# find most frequent town \n",
    "data['suburb'].value_counts().sort_values(ascending=False).head(20)"
   ]
  },
  {
   "cell_type": "code",
   "execution_count": 39,
   "metadata": {},
   "outputs": [
    {
     "ename": "NameError",
     "evalue": "name 'data' is not defined",
     "output_type": "error",
     "traceback": [
      "\u001b[0;31m---------------------------------------------------------------------------\u001b[0m",
      "\u001b[0;31mNameError\u001b[0m                                 Traceback (most recent call last)",
      "\u001b[0;32m/tmp/ipykernel_3268/2665660403.py\u001b[0m in \u001b[0;36m<module>\u001b[0;34m\u001b[0m\n\u001b[0;32m----> 1\u001b[0;31m \u001b[0mtop_town\u001b[0m \u001b[0;34m=\u001b[0m \u001b[0;34m[\u001b[0m\u001b[0mx\u001b[0m \u001b[0;32mfor\u001b[0m \u001b[0mx\u001b[0m \u001b[0;32min\u001b[0m \u001b[0mdata\u001b[0m\u001b[0;34m[\u001b[0m\u001b[0;34m'suburb'\u001b[0m\u001b[0;34m]\u001b[0m\u001b[0;34m.\u001b[0m\u001b[0mvalue_counts\u001b[0m\u001b[0;34m(\u001b[0m\u001b[0;34m)\u001b[0m\u001b[0;34m.\u001b[0m\u001b[0msort_values\u001b[0m\u001b[0;34m(\u001b[0m\u001b[0mascending\u001b[0m\u001b[0;34m=\u001b[0m\u001b[0;32mFalse\u001b[0m\u001b[0;34m)\u001b[0m\u001b[0;34m.\u001b[0m\u001b[0mhead\u001b[0m\u001b[0;34m(\u001b[0m\u001b[0;36m10\u001b[0m\u001b[0;34m)\u001b[0m\u001b[0;34m.\u001b[0m\u001b[0mindex\u001b[0m\u001b[0;34m]\u001b[0m\u001b[0;34m\u001b[0m\u001b[0;34m\u001b[0m\u001b[0m\n\u001b[0m\u001b[1;32m      2\u001b[0m \u001b[0mtop_town\u001b[0m\u001b[0;34m\u001b[0m\u001b[0;34m\u001b[0m\u001b[0m\n",
      "\u001b[0;31mNameError\u001b[0m: name 'data' is not defined"
     ]
    }
   ],
   "source": [
    "top_town = [x for x in data['suburb'].value_counts().sort_values(ascending=False).head(10).index]\n",
    "top_town"
   ]
  },
  {
   "cell_type": "code",
   "execution_count": null,
   "metadata": {},
   "outputs": [],
   "source": [
    "# make binary of labels\n",
    "# for label in top_town:\n",
    "#     data[label] = np.where(data['suburb']==label,1,0)\n",
    "\n",
    "# data[['suburb']+top_town]"
   ]
  },
  {
   "cell_type": "code",
   "execution_count": null,
   "metadata": {},
   "outputs": [],
   "source": [
    "# encode suburb\n",
    "suburb_encoded = pd.DataFrame(enc_suburb.fit_transform(data[['suburb']]))\n",
    "suburb_encoded.columns = enc_suburb.get_feature_names(['suburb'])\n",
    "\n",
    "# merge with data\n",
    "data.reset_index(drop=True, inplace=True)\n",
    "suburb_encoded.reset_index(drop=True, inplace=True)\n",
    "data = pd.concat([data, suburb_encoded], axis=1)\n",
    "\n",
    "data.drop(columns=['suburb'], inplace=True)"
   ]
  },
  {
   "cell_type": "markdown",
   "metadata": {},
   "source": [
    "### Our data so far"
   ]
  },
  {
   "cell_type": "code",
   "execution_count": null,
   "metadata": {},
   "outputs": [],
   "source": [
    "data.head()"
   ]
  },
  {
   "cell_type": "code",
   "execution_count": null,
   "metadata": {},
   "outputs": [],
   "source": [
    "data.info()"
   ]
  },
  {
   "cell_type": "markdown",
   "metadata": {},
   "source": [
    "## Handling missing value"
   ]
  },
  {
   "cell_type": "code",
   "execution_count": 40,
   "metadata": {},
   "outputs": [
    {
     "ename": "NameError",
     "evalue": "name 'data' is not defined",
     "output_type": "error",
     "traceback": [
      "\u001b[0;31m---------------------------------------------------------------------------\u001b[0m",
      "\u001b[0;31mNameError\u001b[0m                                 Traceback (most recent call last)",
      "\u001b[0;32m/tmp/ipykernel_3268/2998952016.py\u001b[0m in \u001b[0;36m<module>\u001b[0;34m\u001b[0m\n\u001b[1;32m     10\u001b[0m     \u001b[0;32mreturn\u001b[0m \u001b[0mmissing_value\u001b[0m\u001b[0;34m\u001b[0m\u001b[0;34m\u001b[0m\u001b[0m\n\u001b[1;32m     11\u001b[0m \u001b[0;34m\u001b[0m\u001b[0m\n\u001b[0;32m---> 12\u001b[0;31m \u001b[0mmissing_value\u001b[0m \u001b[0;34m=\u001b[0m \u001b[0mmissing\u001b[0m\u001b[0;34m(\u001b[0m\u001b[0mdata\u001b[0m\u001b[0;34m)\u001b[0m\u001b[0;34m\u001b[0m\u001b[0;34m\u001b[0m\u001b[0m\n\u001b[0m",
      "\u001b[0;31mNameError\u001b[0m: name 'data' is not defined"
     ]
    }
   ],
   "source": [
    "def missing(data) : \n",
    "    missing_value_count = data.isnull().sum()\n",
    "    missing_value = missing_value_count[missing_value_count > 0] # show columns with missing values\n",
    "\n",
    "    for index in missing_value.index :\n",
    "        boolean = False \n",
    "        if data[index].nunique() <= 2 :\n",
    "            boolean = True \n",
    "        print(\"Column '%s' have %d missing value with type %s\"%(index, missing_value[index], \"boolean \"+str(data[index].unique()) if boolean else \"numeric\"))\n",
    "    return missing_value\n",
    "\n",
    "missing_value = missing(data)"
   ]
  },
  {
   "cell_type": "markdown",
   "metadata": {},
   "source": [
    "### Handling boolean type missing value"
   ]
  },
  {
   "cell_type": "code",
   "execution_count": null,
   "metadata": {},
   "outputs": [],
   "source": [
    "# We can assume that if value is missing in \n",
    "# ['fixed_wimax_internet', 'satellite_internet', 'adsl_internet','fibre_internet', 'flatlet', 'pool', 'garden', 'pet_friendly', 'furnished']\n",
    "# then the feature is missing from the house therefor false\n",
    "data['fixed_wimax_internet'].fillna(0, inplace=True)\n",
    "data['satellite_internet'].fillna(0, inplace=True)\n",
    "data['adsl_internet'].fillna(0, inplace=True)\n",
    "data['fibre_internet'].fillna(0, inplace=True)\n",
    "data['flatlet'].fillna(0, inplace=True)\n",
    "data['pool'].fillna(0, inplace=True)\n",
    "data['garden'].fillna(0, inplace=True)\n",
    "data['pet_friendly'].fillna(0, inplace=True)\n",
    "data['furnished'].fillna(0, inplace=True)"
   ]
  },
  {
   "cell_type": "markdown",
   "metadata": {},
   "source": [
    "'no_pets_allowed' and 'pet_friendly' are obviously related. \n",
    "\n",
    "A pet friendly house obviously allow pets, i.e pet_friendly true mean no_pets_allowed false"
   ]
  },
  {
   "cell_type": "code",
   "execution_count": null,
   "metadata": {},
   "outputs": [],
   "source": [
    "def noPetFromPetFriendly(row) :\n",
    "    if row['pet_friendly'] == 1 :\n",
    "        return 0 \n",
    "    return row['no_pets_allowed']\n",
    "\n",
    "data['no_pets_allowed'] = data.apply(lambda row : noPetFromPetFriendly(row), axis=1)"
   ]
  },
  {
   "cell_type": "markdown",
   "metadata": {},
   "source": [
    "'furnished' and 'furnished_optional' are also related.\n",
    "\n",
    "A furnished house is optionaly furnished"
   ]
  },
  {
   "cell_type": "code",
   "execution_count": 41,
   "metadata": {},
   "outputs": [
    {
     "ename": "NameError",
     "evalue": "name 'data' is not defined",
     "output_type": "error",
     "traceback": [
      "\u001b[0;31m---------------------------------------------------------------------------\u001b[0m",
      "\u001b[0;31mNameError\u001b[0m                                 Traceback (most recent call last)",
      "\u001b[0;32m/tmp/ipykernel_3268/3605344675.py\u001b[0m in \u001b[0;36m<module>\u001b[0;34m\u001b[0m\n\u001b[1;32m      5\u001b[0m         \u001b[0;32mreturn\u001b[0m \u001b[0mrow\u001b[0m\u001b[0;34m[\u001b[0m\u001b[0;34m'furnished_optional'\u001b[0m\u001b[0;34m]\u001b[0m\u001b[0;34m\u001b[0m\u001b[0;34m\u001b[0m\u001b[0m\n\u001b[1;32m      6\u001b[0m \u001b[0;34m\u001b[0m\u001b[0m\n\u001b[0;32m----> 7\u001b[0;31m \u001b[0mdata\u001b[0m\u001b[0;34m[\u001b[0m\u001b[0;34m'furnished_optional'\u001b[0m\u001b[0;34m]\u001b[0m \u001b[0;34m=\u001b[0m \u001b[0mdata\u001b[0m\u001b[0;34m.\u001b[0m\u001b[0mapply\u001b[0m\u001b[0;34m(\u001b[0m\u001b[0;32mlambda\u001b[0m \u001b[0mrow\u001b[0m \u001b[0;34m:\u001b[0m \u001b[0mfurnishing\u001b[0m\u001b[0;34m(\u001b[0m\u001b[0mrow\u001b[0m\u001b[0;34m)\u001b[0m\u001b[0;34m,\u001b[0m \u001b[0maxis\u001b[0m\u001b[0;34m=\u001b[0m\u001b[0;36m1\u001b[0m\u001b[0;34m)\u001b[0m\u001b[0;34m\u001b[0m\u001b[0;34m\u001b[0m\u001b[0m\n\u001b[0m",
      "\u001b[0;31mNameError\u001b[0m: name 'data' is not defined"
     ]
    }
   ],
   "source": [
    "def furnishing(row) :\n",
    "    if row['furnished'] == 1 :\n",
    "        return 1\n",
    "    else :\n",
    "        return row['furnished_optional']\n",
    "\n",
    "data['furnished_optional'] = data.apply(lambda row : furnishing(row), axis=1)"
   ]
  },
  {
   "cell_type": "code",
   "execution_count": null,
   "metadata": {},
   "outputs": [],
   "source": [
    "# for the rest of the boolean feature, we can assume that further missing values are false \n",
    "data['no_pets_allowed'].fillna(0, inplace=True)\n",
    "data['furnished_optional'].fillna(0, inplace=True)"
   ]
  },
  {
   "cell_type": "code",
   "execution_count": 42,
   "metadata": {},
   "outputs": [
    {
     "ename": "NameError",
     "evalue": "name 'data' is not defined",
     "output_type": "error",
     "traceback": [
      "\u001b[0;31m---------------------------------------------------------------------------\u001b[0m",
      "\u001b[0;31mNameError\u001b[0m                                 Traceback (most recent call last)",
      "\u001b[0;32m/tmp/ipykernel_3268/155723620.py\u001b[0m in \u001b[0;36m<module>\u001b[0;34m\u001b[0m\n\u001b[0;32m----> 1\u001b[0;31m \u001b[0mmissing_value\u001b[0m \u001b[0;34m=\u001b[0m \u001b[0mmissing\u001b[0m\u001b[0;34m(\u001b[0m\u001b[0mdata\u001b[0m\u001b[0;34m)\u001b[0m\u001b[0;34m\u001b[0m\u001b[0;34m\u001b[0m\u001b[0m\n\u001b[0m",
      "\u001b[0;31mNameError\u001b[0m: name 'data' is not defined"
     ]
    }
   ],
   "source": [
    "missing_value = missing(data)"
   ]
  },
  {
   "cell_type": "markdown",
   "metadata": {},
   "source": [
    "### Handling numerical missing value"
   ]
  },
  {
   "cell_type": "markdown",
   "metadata": {},
   "source": [
    "**We must separate the data into train and test value before proceeding**"
   ]
  },
  {
   "cell_type": "code",
   "execution_count": null,
   "metadata": {},
   "outputs": [],
   "source": [
    "train, test = train_test_split(data, test_size=0.2, random_state=1)\n",
    "print(\"Date separated into train data and test data with respectively %d and %d observations and %d features each\"%(train.shape[0], test.shape[0], train.shape[1]))"
   ]
  },
  {
   "cell_type": "markdown",
   "metadata": {},
   "source": [
    "Let' s use KNNImputer from sklearn to fill the missing numerical_data"
   ]
  },
  {
   "cell_type": "code",
   "execution_count": null,
   "metadata": {},
   "outputs": [],
   "source": [
    "# convert date to numeric\n",
    "# just extract the month and year \n",
    "train['listing_year'] = train['listing_date'].dt.year\n",
    "train['listing_month'] = train['listing_date'].dt.month\n",
    "train.drop(columns=['listing_date'], inplace=True)\n",
    "\n",
    "test['listing_year'] = test['listing_date'].dt.year\n",
    "test['listing_month'] = test['listing_date'].dt.month\n",
    "test.drop(columns=['listing_date'], inplace=True)"
   ]
  },
  {
   "cell_type": "code",
   "execution_count": 43,
   "metadata": {},
   "outputs": [
    {
     "ename": "NameError",
     "evalue": "name 'train' is not defined",
     "output_type": "error",
     "traceback": [
      "\u001b[0;31m---------------------------------------------------------------------------\u001b[0m",
      "\u001b[0;31mNameError\u001b[0m                                 Traceback (most recent call last)",
      "\u001b[0;32m/tmp/ipykernel_3268/3954577354.py\u001b[0m in \u001b[0;36m<module>\u001b[0;34m\u001b[0m\n\u001b[1;32m     14\u001b[0m \u001b[0mimputer\u001b[0m \u001b[0;34m=\u001b[0m \u001b[0mKNNImputer\u001b[0m\u001b[0;34m(\u001b[0m\u001b[0mn_neighbors\u001b[0m\u001b[0;34m=\u001b[0m\u001b[0;36m3\u001b[0m\u001b[0;34m)\u001b[0m\u001b[0;34m\u001b[0m\u001b[0;34m\u001b[0m\u001b[0m\n\u001b[1;32m     15\u001b[0m \u001b[0;34m\u001b[0m\u001b[0m\n\u001b[0;32m---> 16\u001b[0;31m \u001b[0mtrain_knn_filled\u001b[0m \u001b[0;34m=\u001b[0m \u001b[0mpd\u001b[0m\u001b[0;34m.\u001b[0m\u001b[0mDataFrame\u001b[0m\u001b[0;34m(\u001b[0m\u001b[0mimputer\u001b[0m\u001b[0;34m.\u001b[0m\u001b[0mfit_transform\u001b[0m\u001b[0;34m(\u001b[0m\u001b[0mtrain\u001b[0m\u001b[0;34m)\u001b[0m\u001b[0;34m,\u001b[0m \u001b[0mcolumns\u001b[0m\u001b[0;34m=\u001b[0m\u001b[0mtrain\u001b[0m\u001b[0;34m.\u001b[0m\u001b[0mcolumns\u001b[0m\u001b[0;34m)\u001b[0m\u001b[0;34m\u001b[0m\u001b[0;34m\u001b[0m\u001b[0m\n\u001b[0m\u001b[1;32m     17\u001b[0m \u001b[0;34m\u001b[0m\u001b[0m\n\u001b[1;32m     18\u001b[0m \u001b[0mtest_knn_filled\u001b[0m \u001b[0;34m=\u001b[0m \u001b[0mpd\u001b[0m\u001b[0;34m.\u001b[0m\u001b[0mDataFrame\u001b[0m\u001b[0;34m(\u001b[0m\u001b[0mimputer\u001b[0m\u001b[0;34m.\u001b[0m\u001b[0mfit_transform\u001b[0m\u001b[0;34m(\u001b[0m\u001b[0mtest\u001b[0m\u001b[0;34m)\u001b[0m\u001b[0;34m,\u001b[0m \u001b[0mcolumns\u001b[0m\u001b[0;34m=\u001b[0m\u001b[0mtest\u001b[0m\u001b[0;34m.\u001b[0m\u001b[0mcolumns\u001b[0m\u001b[0;34m)\u001b[0m\u001b[0;34m\u001b[0m\u001b[0;34m\u001b[0m\u001b[0m\n",
      "\u001b[0;31mNameError\u001b[0m: name 'train' is not defined"
     ]
    }
   ],
   "source": [
    "# preparing data for Imputer \n",
    "\n",
    "# apply log to price\n",
    "\n",
    "# train['price'] = train['price'].apply(np.log)\n",
    "# test['price'] = test['price'].apply(np.log)\n",
    "\n",
    "# scaling data to avoid biased imputation\n",
    "# scaler = StandardScaler()\n",
    "# train_scaled = pd.DataFrame(scaler.fit_transform(train), columns=train.columns)\n",
    "# test_scaled = pd.DataFrame(scaler.fit_transform(test), columns=test.columns)\n",
    "\n",
    "\n",
    "imputer = KNNImputer(n_neighbors=3)\n",
    "\n",
    "train_knn_filled = pd.DataFrame(imputer.fit_transform(train), columns=train.columns)\n",
    "\n",
    "test_knn_filled = pd.DataFrame(imputer.fit_transform(test), columns=test.columns)\n"
   ]
  },
  {
   "cell_type": "code",
   "execution_count": null,
   "metadata": {},
   "outputs": [],
   "source": [
    "missing(train_knn_filled)"
   ]
  },
  {
   "cell_type": "code",
   "execution_count": null,
   "metadata": {},
   "outputs": [],
   "source": [
    "missing(test_knn_filled)"
   ]
  },
  {
   "cell_type": "code",
   "execution_count": 44,
   "metadata": {},
   "outputs": [
    {
     "ename": "NameError",
     "evalue": "name 'train_knn_filled' is not defined",
     "output_type": "error",
     "traceback": [
      "\u001b[0;31m---------------------------------------------------------------------------\u001b[0m",
      "\u001b[0;31mNameError\u001b[0m                                 Traceback (most recent call last)",
      "\u001b[0;32m/tmp/ipykernel_3268/1357485087.py\u001b[0m in \u001b[0;36m<module>\u001b[0;34m\u001b[0m\n\u001b[0;32m----> 1\u001b[0;31m \u001b[0mtrain_knn_filled\u001b[0m\u001b[0;34m.\u001b[0m\u001b[0mhead\u001b[0m\u001b[0;34m(\u001b[0m\u001b[0;34m)\u001b[0m\u001b[0;34m\u001b[0m\u001b[0;34m\u001b[0m\u001b[0m\n\u001b[0m",
      "\u001b[0;31mNameError\u001b[0m: name 'train_knn_filled' is not defined"
     ]
    }
   ],
   "source": [
    "train_knn_filled.head()"
   ]
  },
  {
   "cell_type": "code",
   "execution_count": null,
   "metadata": {},
   "outputs": [],
   "source": [
    "test_knn_filled.head()"
   ]
  },
  {
   "cell_type": "markdown",
   "metadata": {},
   "source": [
    "## Separate feature target"
   ]
  },
  {
   "cell_type": "code",
   "execution_count": null,
   "metadata": {},
   "outputs": [],
   "source": [
    "X_train = train_knn_filled.drop(columns=['price'])\n",
    "y_train = train_knn_filled['price'].apply(np.log)\n",
    "\n",
    "X_test = test_knn_filled.drop(columns=['price'])\n",
    "y_test = test_knn_filled['price'].apply(np.log)"
   ]
  },
  {
   "cell_type": "markdown",
   "metadata": {},
   "source": [
    "## Model selection "
   ]
  },
  {
   "cell_type": "code",
   "execution_count": null,
   "metadata": {},
   "outputs": [],
   "source": [
    "# a function to test a model\n",
    "def testModel(model, scorer, cv,X,y) :\n",
    "    grid = GridSearchCV(estimator = model, param_grid={}, scoring = scorer, cv = cv, n_jobs=-1)\n",
    "    grid.fit(X, y) # train model\n",
    "    print(\"Model cross-validation score(RMSE) : \", grid.best_score_) # give model score\n",
    "    return grid \n",
    "\n",
    "def tuneModel(model, params, cv, X, y, randomSearch=False, n_iter=20) :\n",
    "    tuned_model = None\n",
    "    if randomSearch :\n",
    "        tuned_model = RandomizedSearchCV(estimator = model, param_distributions=params, n_iter=n_iter, cv = cv)\n",
    "    else : \n",
    "        tuned_model = GridSearchCV(estimator = model, param_grid = params, cv = cv)\n",
    "    # start model training and time it \n",
    "    print(\"Tuning model. Please wait ...\")\n",
    "    start_time = time.process_time()\n",
    "    tuned_model.fit(X, y)\n",
    "    # best_estimator = tuned_model.best_estimator_\n",
    "    # best_params = best_estimator.get_params()\n",
    "    # test_random = testModel(best_estimator, scorer, cv, X, y)\n",
    "    # print(\"RandomSearchCV done. Best score %f with hyperparameters\"%test_random.best_score_ , best_params)\n",
    "\n",
    "    # # grid search around given parameters\n",
    "    # grid_plus = {}\n",
    "    # for key in params :\n",
    "    #     print(\"key : \",key)\n",
    "    #     p = best_params[key]\n",
    "    #     diff = 0  \n",
    "    #     if not isinstance(p, (int, float)) :\n",
    "    #         continue \n",
    "    #     diff = p * 0.1\n",
    "    #     n_value = np.linspace(p-diff, p+diff, num=3)\n",
    "    #     grid_plus[key] = n_value\n",
    "\n",
    "    # print(\"GridSearchCv around \",grid_plus)\n",
    "\n",
    "    # tuned_model_plus = GridSearchCV(estimator = model, param_grid = grid_plus, cv = cv)\n",
    "    # tuned_model_plus.fit(X, y)\n",
    "\n",
    "    print(\"Training time : %f seconds\"%(time.process_time()-start_time))\n",
    "\n",
    "    return tuned_model\n",
    "\n",
    "\n",
    "def evaluateModel(model, loss, X,y) :\n",
    "    print(\"Evaluating model using test set...\")\n",
    "    y_pred = model.predict(X)\n",
    "    print('Model evaluation score(RMSE) : ', loss(y, y_pred, squared=False))\n",
    "\n",
    "def modelPipe(model, params, scorer, loss, cv, X, y, X_test, y_test, randomSearch=False, n_iter=20):\n",
    "    print(\"Testing model...\")\n",
    "    testModel(model, scorer, cv,X,y) \n",
    "    tuned_model = tuneModel(model, params, cv, X, y, randomSearch=randomSearch, n_iter=n_iter)\n",
    "    best_model = tuned_model.best_estimator_\n",
    "    print(\"Best model : \", best_model)\n",
    "    evaluateModel(best_model, loss, X_test, y_test)\n",
    "    return best_model\n"
   ]
  },
  {
   "cell_type": "markdown",
   "metadata": {},
   "source": [
    "### Model 1 : Trying a simple linear model without droping a single feature\n"
   ]
  },
  {
   "cell_type": "code",
   "execution_count": null,
   "metadata": {},
   "outputs": [],
   "source": [
    "cv = 10\n",
    "\n",
    "model_1 = Ridge()\n",
    "\n",
    "alphas = np.linspace(0,0.2,20)\n",
    "param_grid_1 = {'alpha' : alphas}\n",
    "\n",
    "scorer = make_scorer(mean_squared_error, squared=False)"
   ]
  },
  {
   "cell_type": "code",
   "execution_count": 45,
   "metadata": {},
   "outputs": [
    {
     "ename": "NameError",
     "evalue": "name 'X_train' is not defined",
     "output_type": "error",
     "traceback": [
      "\u001b[0;31m---------------------------------------------------------------------------\u001b[0m",
      "\u001b[0;31mNameError\u001b[0m                                 Traceback (most recent call last)",
      "\u001b[0;32m/tmp/ipykernel_3268/1886662498.py\u001b[0m in \u001b[0;36m<module>\u001b[0;34m\u001b[0m\n\u001b[1;32m      5\u001b[0m     \u001b[0mloss\u001b[0m\u001b[0;34m=\u001b[0m\u001b[0mmean_squared_error\u001b[0m\u001b[0;34m,\u001b[0m\u001b[0;34m\u001b[0m\u001b[0;34m\u001b[0m\u001b[0m\n\u001b[1;32m      6\u001b[0m     \u001b[0mcv\u001b[0m\u001b[0;34m=\u001b[0m\u001b[0mcv\u001b[0m\u001b[0;34m,\u001b[0m\u001b[0;34m\u001b[0m\u001b[0;34m\u001b[0m\u001b[0m\n\u001b[0;32m----> 7\u001b[0;31m     \u001b[0mX\u001b[0m\u001b[0;34m=\u001b[0m\u001b[0mX_train\u001b[0m\u001b[0;34m,\u001b[0m\u001b[0;34m\u001b[0m\u001b[0;34m\u001b[0m\u001b[0m\n\u001b[0m\u001b[1;32m      8\u001b[0m     \u001b[0my\u001b[0m\u001b[0;34m=\u001b[0m\u001b[0my_train\u001b[0m\u001b[0;34m,\u001b[0m\u001b[0;34m\u001b[0m\u001b[0;34m\u001b[0m\u001b[0m\n\u001b[1;32m      9\u001b[0m     \u001b[0mX_test\u001b[0m\u001b[0;34m=\u001b[0m\u001b[0mX_test\u001b[0m\u001b[0;34m,\u001b[0m\u001b[0;34m\u001b[0m\u001b[0;34m\u001b[0m\u001b[0m\n",
      "\u001b[0;31mNameError\u001b[0m: name 'X_train' is not defined"
     ]
    }
   ],
   "source": [
    "best_model_1 = modelPipe(\n",
    "    model=model_1,\n",
    "    params=param_grid_1,\n",
    "    scorer=scorer,\n",
    "    loss=mean_squared_error,\n",
    "    cv=cv,\n",
    "    X=X_train,\n",
    "    y=y_train,\n",
    "    X_test=X_test,\n",
    "    y_test=y_test,\n",
    "    randomSearch=False,\n",
    "    n_iter=20\n",
    ")"
   ]
  },
  {
   "cell_type": "markdown",
   "metadata": {},
   "source": [
    "Let' s try an ensemble model before doing a feature selection"
   ]
  },
  {
   "cell_type": "markdown",
   "metadata": {},
   "source": [
    "### model 2 : ensemble model"
   ]
  },
  {
   "cell_type": "code",
   "execution_count": null,
   "metadata": {},
   "outputs": [],
   "source": [
    "model_2 = RandomForestRegressor(n_jobs=-1, random_state = 0, bootstrap=True)\n",
    "# n_estimator : the number of tree\n",
    "# max_features : the size of the subset of features to consider for splitting a node\n",
    "\n",
    "param_grid_2 =  {'n_estimators':[200, 300, 400, 500, 600],\n",
    "               'max_features':[0.1, 0.3, 0.6]\n",
    "              }"
   ]
  },
  {
   "cell_type": "code",
   "execution_count": null,
   "metadata": {},
   "outputs": [],
   "source": [
    "best_model_2 = modelPipe(\n",
    "    model=model_2,\n",
    "    params=param_grid_2,\n",
    "    scorer=scorer,\n",
    "    loss=mean_squared_error,\n",
    "    cv=cv,\n",
    "    X=X_train,\n",
    "    y=y_train,\n",
    "    X_test=X_test,\n",
    "    y_test=y_test,\n",
    "    randomSearch=True,\n",
    "    n_iter=20\n",
    ")"
   ]
  },
  {
   "cell_type": "markdown",
   "metadata": {},
   "source": [
    "### Model 3 : gradient boosting "
   ]
  },
  {
   "cell_type": "code",
   "execution_count": null,
   "metadata": {},
   "outputs": [],
   "source": [
    "model_3 = XGBRegressor()\n",
    "\n",
    "param_grid_3 = {\n",
    "        'learning_rate': [0.01, 0.1],\n",
    "        'max_depth': [3, 5, 7, 10],\n",
    "        'min_child_weight': [1, 3, 5],\n",
    "        'subsample': [0.5, 0.7],\n",
    "        'colsample_bytree': [0.5, 0.7],\n",
    "        'n_estimators' : [100, 200, 500],\n",
    "        'objective': ['reg:squarederror']\n",
    "    }"
   ]
  },
  {
   "cell_type": "code",
   "execution_count": null,
   "metadata": {},
   "outputs": [],
   "source": [
    "best_model_3 = modelPipe(\n",
    "    model=model_3,\n",
    "    params=param_grid_3,\n",
    "    scorer=scorer,\n",
    "    loss=mean_squared_error,\n",
    "    cv=cv,\n",
    "    X=X_train,\n",
    "    y=y_train,\n",
    "    X_test=X_test,\n",
    "    y_test=y_test,\n",
    "    randomSearch=True,\n",
    "    n_iter=20\n",
    ")"
   ]
  },
  {
   "cell_type": "markdown",
   "metadata": {},
   "source": [
    "## Feature selection"
   ]
  },
  {
   "cell_type": "markdown",
   "metadata": {},
   "source": [
    "Let's see how the features are correlated to the price"
   ]
  },
  {
   "cell_type": "code",
   "execution_count": 46,
   "metadata": {},
   "outputs": [
    {
     "ename": "NameError",
     "evalue": "name 'train_knn_filled' is not defined",
     "output_type": "error",
     "traceback": [
      "\u001b[0;31m---------------------------------------------------------------------------\u001b[0m",
      "\u001b[0;31mNameError\u001b[0m                                 Traceback (most recent call last)",
      "\u001b[0;32m/tmp/ipykernel_3268/2715006127.py\u001b[0m in \u001b[0;36m<module>\u001b[0;34m\u001b[0m\n\u001b[0;32m----> 1\u001b[0;31m \u001b[0mtrain_knn_filled\u001b[0m\u001b[0;34m.\u001b[0m\u001b[0mcolumns\u001b[0m\u001b[0;34m[\u001b[0m\u001b[0;34m~\u001b[0m\u001b[0mtrain_knn_filled\u001b[0m\u001b[0;34m.\u001b[0m\u001b[0mcolumns\u001b[0m\u001b[0;34m.\u001b[0m\u001b[0mstr\u001b[0m\u001b[0;34m.\u001b[0m\u001b[0mcontains\u001b[0m\u001b[0;34m(\u001b[0m\u001b[0;34m'suburb'\u001b[0m\u001b[0;34m)\u001b[0m\u001b[0;34m]\u001b[0m\u001b[0;34m\u001b[0m\u001b[0;34m\u001b[0m\u001b[0m\n\u001b[0m",
      "\u001b[0;31mNameError\u001b[0m: name 'train_knn_filled' is not defined"
     ]
    }
   ],
   "source": [
    "train_knn_filled.columns[~train_knn_filled.columns.str.contains('suburb')]"
   ]
  },
  {
   "cell_type": "code",
   "execution_count": null,
   "metadata": {},
   "outputs": [],
   "source": [
    "fig, ax = plt.subplots(figsize=(30,22))\n",
    "corr_matrix = train_knn_filled[['bathrooms', 'bedrooms', 'erf_size', 'floor_size', 'garages',\n",
    "       'listing_number', 'pet_friendly', 'price', 'garden', 'pool',\n",
    "       'secure_parking', 'parking', 'no_pets_allowed', 'furnished', 'flatlet',\n",
    "       'fibre_internet', 'furnished_optional', 'adsl_internet',\n",
    "       'satellite_internet', 'fixed_wimax_internet', 'type_apartment_flat',\n",
    "       'type_house', 'type_townhouse', 'listing_year', 'listing_month']].corr(method = \"spearman\").abs()\n",
    "sns.heatmap(corr_matrix, annot=True, linewidths=.5, ax=ax,center=0)"
   ]
  },
  {
   "cell_type": "code",
   "execution_count": null,
   "metadata": {},
   "outputs": [],
   "source": [
    "# the most correlated with price \n",
    "price_corr = train_knn_filled.corr(method = \"spearman\")['price'].abs().sort_values(ascending=False)\n",
    "price_corr = price_corr > 0.2\n",
    "price_corr"
   ]
  },
  {
   "cell_type": "code",
   "execution_count": null,
   "metadata": {},
   "outputs": [],
   "source": [
    "train_most_corr = train_knn_filled[price_corr.index[price_corr]]\n",
    "test_most_corr = test_knn_filled[price_corr.index[price_corr]]\n",
    "display(train_most_corr.head())\n",
    "display(test_most_corr.head())"
   ]
  },
  {
   "cell_type": "code",
   "execution_count": 47,
   "metadata": {},
   "outputs": [
    {
     "ename": "NameError",
     "evalue": "name 'train_most_corr' is not defined",
     "output_type": "error",
     "traceback": [
      "\u001b[0;31m---------------------------------------------------------------------------\u001b[0m",
      "\u001b[0;31mNameError\u001b[0m                                 Traceback (most recent call last)",
      "\u001b[0;32m/tmp/ipykernel_3268/2322077668.py\u001b[0m in \u001b[0;36m<module>\u001b[0;34m\u001b[0m\n\u001b[1;32m      1\u001b[0m \u001b[0;31m# separate target feature\u001b[0m\u001b[0;34m\u001b[0m\u001b[0;34m\u001b[0m\u001b[0;34m\u001b[0m\u001b[0m\n\u001b[0;32m----> 2\u001b[0;31m \u001b[0mX_train_2\u001b[0m \u001b[0;34m=\u001b[0m \u001b[0mtrain_most_corr\u001b[0m\u001b[0;34m.\u001b[0m\u001b[0mdrop\u001b[0m\u001b[0;34m(\u001b[0m\u001b[0mcolumns\u001b[0m\u001b[0;34m=\u001b[0m\u001b[0;34m[\u001b[0m\u001b[0;34m'price'\u001b[0m\u001b[0;34m]\u001b[0m\u001b[0;34m)\u001b[0m\u001b[0;34m\u001b[0m\u001b[0;34m\u001b[0m\u001b[0m\n\u001b[0m\u001b[1;32m      3\u001b[0m \u001b[0my_train_2\u001b[0m \u001b[0;34m=\u001b[0m \u001b[0mtrain_most_corr\u001b[0m\u001b[0;34m[\u001b[0m\u001b[0;34m'price'\u001b[0m\u001b[0;34m]\u001b[0m\u001b[0;34m.\u001b[0m\u001b[0mapply\u001b[0m\u001b[0;34m(\u001b[0m\u001b[0mnp\u001b[0m\u001b[0;34m.\u001b[0m\u001b[0mlog\u001b[0m\u001b[0;34m)\u001b[0m\u001b[0;34m\u001b[0m\u001b[0;34m\u001b[0m\u001b[0m\n\u001b[1;32m      4\u001b[0m \u001b[0;34m\u001b[0m\u001b[0m\n\u001b[1;32m      5\u001b[0m \u001b[0mX_test_2\u001b[0m \u001b[0;34m=\u001b[0m \u001b[0mtest_most_corr\u001b[0m\u001b[0;34m.\u001b[0m\u001b[0mdrop\u001b[0m\u001b[0;34m(\u001b[0m\u001b[0mcolumns\u001b[0m\u001b[0;34m=\u001b[0m\u001b[0;34m[\u001b[0m\u001b[0;34m'price'\u001b[0m\u001b[0;34m]\u001b[0m\u001b[0;34m)\u001b[0m\u001b[0;34m\u001b[0m\u001b[0;34m\u001b[0m\u001b[0m\n",
      "\u001b[0;31mNameError\u001b[0m: name 'train_most_corr' is not defined"
     ]
    }
   ],
   "source": [
    "# separate target feature\n",
    "X_train_2 = train_most_corr.drop(columns=['price'])\n",
    "y_train_2 = train_most_corr['price'].apply(np.log)\n",
    "\n",
    "X_test_2 = test_most_corr.drop(columns=['price'])\n",
    "y_test_2 = test_most_corr['price'].apply(np.log)\n"
   ]
  },
  {
   "cell_type": "markdown",
   "metadata": {},
   "source": [
    "### Model 4 : linear model using most correlated feature (Spearman rank)"
   ]
  },
  {
   "cell_type": "code",
   "execution_count": null,
   "metadata": {},
   "outputs": [],
   "source": [
    "model_4 = Ridge()\n",
    "\n",
    "alphas = np.linspace(0,0.2,20)\n",
    "param_grid_4 = {'alpha' : alphas}\n"
   ]
  },
  {
   "cell_type": "code",
   "execution_count": null,
   "metadata": {},
   "outputs": [],
   "source": [
    "best_model_4 = modelPipe(\n",
    "    model=model_4,\n",
    "    params=param_grid_4,\n",
    "    scorer=scorer,\n",
    "    loss=mean_squared_error,\n",
    "    cv=cv,\n",
    "    X=X_train_2,\n",
    "    y=y_train_2,\n",
    "    X_test=X_test_2,\n",
    "    y_test=y_test_2,\n",
    "    randomSearch=False,\n",
    "    n_iter=20\n",
    ")"
   ]
  },
  {
   "cell_type": "markdown",
   "metadata": {},
   "source": [
    "### model 5 : ensemble model using most correlated feature (Spearman rank)"
   ]
  },
  {
   "cell_type": "code",
   "execution_count": null,
   "metadata": {},
   "outputs": [],
   "source": [
    "model_5 = RandomForestRegressor(n_jobs=-1, random_state = 0, bootstrap=True)\n",
    "# n_estimator : the number of tree\n",
    "# max_features : the size of the subset of features to consider for splitting a node\n",
    "\n",
    "param_grid_5 =  {'n_estimators':[200, 300, 400, 500, 600],\n",
    "               'max_features':[0.1, 0.3, 0.6]\n",
    "              }"
   ]
  },
  {
   "cell_type": "code",
   "execution_count": null,
   "metadata": {},
   "outputs": [],
   "source": [
    "best_model_5 = modelPipe(\n",
    "    model=model_5,\n",
    "    params=param_grid_5,\n",
    "    scorer=scorer,\n",
    "    loss=mean_squared_error,\n",
    "    cv=cv,\n",
    "    X=X_train_2,\n",
    "    y=y_train_2,\n",
    "    X_test=X_test_2,\n",
    "    y_test=y_test_2,\n",
    "    randomSearch=True,\n",
    "    n_iter=20\n",
    ")"
   ]
  },
  {
   "cell_type": "markdown",
   "metadata": {},
   "source": [
    "### Model 6 : gradient boosting using most correlated feature (Spearman rank)"
   ]
  },
  {
   "cell_type": "code",
   "execution_count": 48,
   "metadata": {},
   "outputs": [
    {
     "ename": "NameError",
     "evalue": "name 'XGBRegressor' is not defined",
     "output_type": "error",
     "traceback": [
      "\u001b[0;31m---------------------------------------------------------------------------\u001b[0m",
      "\u001b[0;31mNameError\u001b[0m                                 Traceback (most recent call last)",
      "\u001b[0;32m/tmp/ipykernel_3268/336778528.py\u001b[0m in \u001b[0;36m<module>\u001b[0;34m\u001b[0m\n\u001b[0;32m----> 1\u001b[0;31m \u001b[0mmodel_6\u001b[0m \u001b[0;34m=\u001b[0m \u001b[0mXGBRegressor\u001b[0m\u001b[0;34m(\u001b[0m\u001b[0;34m)\u001b[0m\u001b[0;34m\u001b[0m\u001b[0;34m\u001b[0m\u001b[0m\n\u001b[0m\u001b[1;32m      2\u001b[0m \u001b[0;34m\u001b[0m\u001b[0m\n\u001b[1;32m      3\u001b[0m param_grid_6 = {\n\u001b[1;32m      4\u001b[0m         \u001b[0;34m'learning_rate'\u001b[0m\u001b[0;34m:\u001b[0m \u001b[0;34m[\u001b[0m\u001b[0;36m0.01\u001b[0m\u001b[0;34m,\u001b[0m \u001b[0;36m0.1\u001b[0m\u001b[0;34m]\u001b[0m\u001b[0;34m,\u001b[0m\u001b[0;34m\u001b[0m\u001b[0;34m\u001b[0m\u001b[0m\n\u001b[1;32m      5\u001b[0m         \u001b[0;34m'max_depth'\u001b[0m\u001b[0;34m:\u001b[0m \u001b[0;34m[\u001b[0m\u001b[0;36m3\u001b[0m\u001b[0;34m,\u001b[0m \u001b[0;36m5\u001b[0m\u001b[0;34m,\u001b[0m \u001b[0;36m7\u001b[0m\u001b[0;34m,\u001b[0m \u001b[0;36m10\u001b[0m\u001b[0;34m]\u001b[0m\u001b[0;34m,\u001b[0m\u001b[0;34m\u001b[0m\u001b[0;34m\u001b[0m\u001b[0m\n",
      "\u001b[0;31mNameError\u001b[0m: name 'XGBRegressor' is not defined"
     ]
    }
   ],
   "source": [
    "model_6 = XGBRegressor()\n",
    "\n",
    "param_grid_6 = {\n",
    "        'learning_rate': [0.01, 0.1],\n",
    "        'max_depth': [3, 5, 7, 10],\n",
    "        'min_child_weight': [1, 3, 5],\n",
    "        'subsample': [0.5, 0.7],\n",
    "        'colsample_bytree': [0.5, 0.7],\n",
    "        'n_estimators' : [100, 200, 500],\n",
    "        'objective': ['reg:squarederror']\n",
    "    }"
   ]
  },
  {
   "cell_type": "code",
   "execution_count": null,
   "metadata": {},
   "outputs": [],
   "source": [
    "best_model_6 = modelPipe(\n",
    "    model=model_6,\n",
    "    params=param_grid_6,\n",
    "    scorer=scorer,\n",
    "    loss=mean_squared_error,\n",
    "    cv=cv,\n",
    "    X=X_train_2,\n",
    "    y=y_train_2,\n",
    "    X_test=X_test_2,\n",
    "    y_test=y_test_2,\n",
    "    randomSearch=True,\n",
    "    n_iter=20\n",
    ")"
   ]
  },
  {
   "cell_type": "markdown",
   "metadata": {},
   "source": [
    "## Model using K-best features based on sklearn.feature_selection"
   ]
  },
  {
   "cell_type": "code",
   "execution_count": null,
   "metadata": {},
   "outputs": [],
   "source": [
    "selector = SelectKBest(f_regression, k=20) # select 30 best features\n",
    "selector.fit(X_train, y_train)\n",
    "\n",
    "best_columns = selector.get_support(indices=True)\n",
    "X_best_train = X_train.iloc[:, best_columns]\n",
    "X_best_test = X_test.iloc[:, best_columns]\n",
    "\n",
    "y_best_train = y_train\n",
    "y_best_test = y_test"
   ]
  },
  {
   "cell_type": "code",
   "execution_count": null,
   "metadata": {},
   "outputs": [],
   "source": [
    "X_best_train.head()"
   ]
  },
  {
   "cell_type": "code",
   "execution_count": null,
   "metadata": {},
   "outputs": [],
   "source": [
    "X_best_test.head()"
   ]
  },
  {
   "cell_type": "markdown",
   "metadata": {},
   "source": [
    "### model 7 : linear model using k-best features"
   ]
  },
  {
   "cell_type": "code",
   "execution_count": 49,
   "metadata": {},
   "outputs": [],
   "source": [
    "model_7 = Ridge()\n",
    "\n",
    "alphas = np.linspace(0,0.2,20)\n",
    "param_grid_7 = {'alpha' : alphas}"
   ]
  },
  {
   "cell_type": "code",
   "execution_count": 50,
   "metadata": {},
   "outputs": [
    {
     "ename": "NameError",
     "evalue": "name 'X_best_train' is not defined",
     "output_type": "error",
     "traceback": [
      "\u001b[0;31m---------------------------------------------------------------------------\u001b[0m",
      "\u001b[0;31mNameError\u001b[0m                                 Traceback (most recent call last)",
      "\u001b[0;32m/tmp/ipykernel_3268/1659659103.py\u001b[0m in \u001b[0;36m<module>\u001b[0;34m\u001b[0m\n\u001b[1;32m      5\u001b[0m     \u001b[0mloss\u001b[0m\u001b[0;34m=\u001b[0m\u001b[0mmean_squared_error\u001b[0m\u001b[0;34m,\u001b[0m\u001b[0;34m\u001b[0m\u001b[0;34m\u001b[0m\u001b[0m\n\u001b[1;32m      6\u001b[0m     \u001b[0mcv\u001b[0m\u001b[0;34m=\u001b[0m\u001b[0mcv\u001b[0m\u001b[0;34m,\u001b[0m\u001b[0;34m\u001b[0m\u001b[0;34m\u001b[0m\u001b[0m\n\u001b[0;32m----> 7\u001b[0;31m     \u001b[0mX\u001b[0m\u001b[0;34m=\u001b[0m\u001b[0mX_best_train\u001b[0m\u001b[0;34m,\u001b[0m\u001b[0;34m\u001b[0m\u001b[0;34m\u001b[0m\u001b[0m\n\u001b[0m\u001b[1;32m      8\u001b[0m     \u001b[0my\u001b[0m\u001b[0;34m=\u001b[0m\u001b[0my_best_train\u001b[0m\u001b[0;34m,\u001b[0m\u001b[0;34m\u001b[0m\u001b[0;34m\u001b[0m\u001b[0m\n\u001b[1;32m      9\u001b[0m     \u001b[0mX_test\u001b[0m\u001b[0;34m=\u001b[0m\u001b[0mX_best_test\u001b[0m\u001b[0;34m,\u001b[0m\u001b[0;34m\u001b[0m\u001b[0;34m\u001b[0m\u001b[0m\n",
      "\u001b[0;31mNameError\u001b[0m: name 'X_best_train' is not defined"
     ]
    }
   ],
   "source": [
    "best_model_7 = modelPipe(\n",
    "    model=model_7,\n",
    "    params=param_grid_7,\n",
    "    scorer=scorer,\n",
    "    loss=mean_squared_error,\n",
    "    cv=cv,\n",
    "    X=X_best_train,\n",
    "    y=y_best_train,\n",
    "    X_test=X_best_test,\n",
    "    y_test=y_best_test,\n",
    "    randomSearch=False,\n",
    "    n_iter=20\n",
    ")"
   ]
  },
  {
   "cell_type": "markdown",
   "metadata": {},
   "source": [
    "### model 8 : ensemble model using k-best features"
   ]
  },
  {
   "cell_type": "code",
   "execution_count": null,
   "metadata": {},
   "outputs": [],
   "source": [
    "model_8 = RandomForestRegressor(n_jobs=-1, random_state = 0, bootstrap=True)\n",
    "# n_estimator : the number of tree\n",
    "# max_features : the size of the subset of features to consider for splitting a node\n",
    "\n",
    "param_grid_8 =  {'n_estimators':[200, 300, 400, 500, 600],\n",
    "               'max_features':[0.1, 0.3, 0.6]\n",
    "              }"
   ]
  },
  {
   "cell_type": "code",
   "execution_count": 51,
   "metadata": {},
   "outputs": [
    {
     "ename": "NameError",
     "evalue": "name 'X_best_train' is not defined",
     "output_type": "error",
     "traceback": [
      "\u001b[0;31m---------------------------------------------------------------------------\u001b[0m",
      "\u001b[0;31mNameError\u001b[0m                                 Traceback (most recent call last)",
      "\u001b[0;32m/tmp/ipykernel_3268/3659467383.py\u001b[0m in \u001b[0;36m<module>\u001b[0;34m\u001b[0m\n\u001b[1;32m      5\u001b[0m     \u001b[0mloss\u001b[0m\u001b[0;34m=\u001b[0m\u001b[0mmean_squared_error\u001b[0m\u001b[0;34m,\u001b[0m\u001b[0;34m\u001b[0m\u001b[0;34m\u001b[0m\u001b[0m\n\u001b[1;32m      6\u001b[0m     \u001b[0mcv\u001b[0m\u001b[0;34m=\u001b[0m\u001b[0mcv\u001b[0m\u001b[0;34m,\u001b[0m\u001b[0;34m\u001b[0m\u001b[0;34m\u001b[0m\u001b[0m\n\u001b[0;32m----> 7\u001b[0;31m     \u001b[0mX\u001b[0m\u001b[0;34m=\u001b[0m\u001b[0mX_best_train\u001b[0m\u001b[0;34m,\u001b[0m\u001b[0;34m\u001b[0m\u001b[0;34m\u001b[0m\u001b[0m\n\u001b[0m\u001b[1;32m      8\u001b[0m     \u001b[0my\u001b[0m\u001b[0;34m=\u001b[0m\u001b[0my_best_train\u001b[0m\u001b[0;34m,\u001b[0m\u001b[0;34m\u001b[0m\u001b[0;34m\u001b[0m\u001b[0m\n\u001b[1;32m      9\u001b[0m     \u001b[0mX_test\u001b[0m\u001b[0;34m=\u001b[0m\u001b[0mX_best_test\u001b[0m\u001b[0;34m,\u001b[0m\u001b[0;34m\u001b[0m\u001b[0;34m\u001b[0m\u001b[0m\n",
      "\u001b[0;31mNameError\u001b[0m: name 'X_best_train' is not defined"
     ]
    }
   ],
   "source": [
    "best_model_8 = modelPipe(\n",
    "    model=model_8,\n",
    "    params=param_grid_8,\n",
    "    scorer=scorer,\n",
    "    loss=mean_squared_error,\n",
    "    cv=cv,\n",
    "    X=X_best_train,\n",
    "    y=y_best_train,\n",
    "    X_test=X_best_test,\n",
    "    y_test=y_best_test,\n",
    "    randomSearch=True,\n",
    "    n_iter=20\n",
    ")"
   ]
  },
  {
   "cell_type": "markdown",
   "metadata": {},
   "source": [
    "### model 9 : gradient boosting using k-best features"
   ]
  },
  {
   "cell_type": "code",
   "execution_count": null,
   "metadata": {},
   "outputs": [],
   "source": [
    "model_9 = XGBRegressor()\n",
    "\n",
    "param_grid_9 = {\n",
    "        'learning_rate': [0.01, 0.1],\n",
    "        'max_depth': [3, 5, 7, 10],\n",
    "        'min_child_weight': [1, 3, 5],\n",
    "        'subsample': [0.5, 0.7],\n",
    "        'colsample_bytree': [0.5, 0.7],\n",
    "        'n_estimators' : [100, 200, 500],\n",
    "        'objective': ['reg:squarederror']\n",
    "    }"
   ]
  },
  {
   "cell_type": "code",
   "execution_count": 52,
   "metadata": {},
   "outputs": [
    {
     "ename": "NameError",
     "evalue": "name 'model_9' is not defined",
     "output_type": "error",
     "traceback": [
      "\u001b[0;31m---------------------------------------------------------------------------\u001b[0m",
      "\u001b[0;31mNameError\u001b[0m                                 Traceback (most recent call last)",
      "\u001b[0;32m/tmp/ipykernel_3268/4096235669.py\u001b[0m in \u001b[0;36m<module>\u001b[0;34m\u001b[0m\n\u001b[1;32m      1\u001b[0m best_model_9 = modelPipe(\n\u001b[0;32m----> 2\u001b[0;31m     \u001b[0mmodel\u001b[0m\u001b[0;34m=\u001b[0m\u001b[0mmodel_9\u001b[0m\u001b[0;34m,\u001b[0m\u001b[0;34m\u001b[0m\u001b[0;34m\u001b[0m\u001b[0m\n\u001b[0m\u001b[1;32m      3\u001b[0m     \u001b[0mparams\u001b[0m\u001b[0;34m=\u001b[0m\u001b[0mparam_grid_9\u001b[0m\u001b[0;34m,\u001b[0m\u001b[0;34m\u001b[0m\u001b[0;34m\u001b[0m\u001b[0m\n\u001b[1;32m      4\u001b[0m     \u001b[0mscorer\u001b[0m\u001b[0;34m=\u001b[0m\u001b[0mscorer\u001b[0m\u001b[0;34m,\u001b[0m\u001b[0;34m\u001b[0m\u001b[0;34m\u001b[0m\u001b[0m\n\u001b[1;32m      5\u001b[0m     \u001b[0mloss\u001b[0m\u001b[0;34m=\u001b[0m\u001b[0mmean_squared_error\u001b[0m\u001b[0;34m,\u001b[0m\u001b[0;34m\u001b[0m\u001b[0;34m\u001b[0m\u001b[0m\n",
      "\u001b[0;31mNameError\u001b[0m: name 'model_9' is not defined"
     ]
    }
   ],
   "source": [
    "best_model_9 = modelPipe(\n",
    "    model=model_9,\n",
    "    params=param_grid_9,\n",
    "    scorer=scorer,\n",
    "    loss=mean_squared_error,\n",
    "    cv=cv,\n",
    "    X=X_best_train,\n",
    "    y=y_best_train,\n",
    "    X_test=X_best_test,\n",
    "    y_test=y_best_test,\n",
    "    randomSearch=True,\n",
    "    n_iter=20\n",
    ")"
   ]
  },
  {
   "cell_type": "markdown",
   "metadata": {},
   "source": [
    "# Conclusion "
   ]
  },
  {
   "cell_type": "markdown",
   "metadata": {},
   "source": [
    "Let' s consider only the linear Ridge model\n",
    "* Using all features, we got an RMSE of 0.3552807454084645 on the validation set and 0.34664475230513025 on the test set\n",
    "* Using all features with a correlation greater than 0.2 with the price, we got an RMSE of 0.5015624919253907 on the validation set and 0.49255839670824575 on the test set\n",
    "* Using sklearn feature selection library and selecting the 20 features having the highest f_regression score with the price, we got an RMSE of 0.46912197034248304 on the validation set and 0.4685339502097767 on the test set\n",
    "\n",
    "\n",
    "We can see the using all features give us a better linear model.\n"
   ]
  },
  {
   "cell_type": "code",
   "execution_count": null,
   "metadata": {},
   "outputs": [],
   "source": []
  },
  {
   "cell_type": "code",
   "execution_count": null,
   "metadata": {},
   "outputs": [],
   "source": []
  },
  {
   "cell_type": "code",
   "execution_count": null,
   "metadata": {},
   "outputs": [],
   "source": []
  }
 ],
 "metadata": {
  "interpreter": {
   "hash": "4b32dfd33c0a71f93a21663704aa641be18b5df6f6b146c7703d235907e0f52c"
  },
  "kernelspec": {
   "display_name": "Python 3 (ipykernel)",
   "language": "python",
   "name": "python3"
  },
  "language_info": {
   "codemirror_mode": {
    "name": "ipython",
    "version": 3
   },
   "file_extension": ".py",
   "mimetype": "text/x-python",
   "name": "python",
   "nbconvert_exporter": "python",
   "pygments_lexer": "ipython3",
   "version": "3.8.10"
  }
 },
 "nbformat": 4,
 "nbformat_minor": 2
}
