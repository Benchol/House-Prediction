{
 "cells": [
  {
   "cell_type": "markdown",
   "metadata": {},
   "source": [
    "#### Importing utitlities"
   ]
  },
  {
   "cell_type": "code",
   "execution_count": 1,
   "metadata": {},
   "outputs": [],
   "source": [
    "import numpy as np\n",
    "import pandas as pd\n",
    "from sklearn.model_selection import train_test_split\n",
    "import pickle\n",
    "import seaborn as sns\n",
    "import matplotlib.pyplot as plt\n",
    "import copy\n",
    "from sklearn.ensemble import RandomForestRegressor , GradientBoostingRegressor\n",
    "from sklearn.model_selection import GridSearchCV\n",
    "from sklearn.linear_model import LinearRegression\n",
    "from sklearn.preprocessing import MinMaxScaler\n",
    "from sklearn.pipeline import make_pipeline\n",
    "from sklearn.compose import make_column_transformer"
   ]
  },
  {
   "cell_type": "markdown",
   "metadata": {},
   "source": [
    "#### Loading data and exploring data"
   ]
  },
  {
   "cell_type": "code",
   "execution_count": 2,
   "metadata": {},
   "outputs": [],
   "source": [
    "data = pd.read_csv(\"./_Johannesburg.csv\")\n"
   ]
  },
  {
   "cell_type": "code",
   "execution_count": 3,
   "metadata": {},
   "outputs": [
    {
     "name": "stdout",
     "output_type": "stream",
     "text": [
      "<class 'pandas.core.frame.DataFrame'>\n",
      "RangeIndex: 10243 entries, 0 to 10242\n",
      "Data columns (total 11 columns):\n",
      " #   Column            Non-Null Count  Dtype  \n",
      "---  ------            --------------  -----  \n",
      " 0   price             10243 non-null  object \n",
      " 1   bedrooms          8549 non-null   float64\n",
      " 2   bathrooms         8610 non-null   float64\n",
      " 3   Type of Property  10030 non-null  object \n",
      " 4   Erf Size          5722 non-null   object \n",
      " 5   Floor Size        5113 non-null   object \n",
      " 6   Levies            3430 non-null   object \n",
      " 7   Pool              10243 non-null  int64  \n",
      " 8   Rates and Taxes   5284 non-null   object \n",
      " 9   parking space     6967 non-null   float64\n",
      " 10  Pets Allowed      4483 non-null   float64\n",
      "dtypes: float64(4), int64(1), object(6)\n",
      "memory usage: 880.4+ KB\n"
     ]
    },
    {
     "data": {
      "text/plain": [
       "None"
      ]
     },
     "metadata": {},
     "output_type": "display_data"
    }
   ],
   "source": [
    "display(data.info())"
   ]
  },
  {
   "cell_type": "code",
   "execution_count": 4,
   "metadata": {},
   "outputs": [
    {
     "data": {
      "text/html": [
       "<div>\n",
       "<style scoped>\n",
       "    .dataframe tbody tr th:only-of-type {\n",
       "        vertical-align: middle;\n",
       "    }\n",
       "\n",
       "    .dataframe tbody tr th {\n",
       "        vertical-align: top;\n",
       "    }\n",
       "\n",
       "    .dataframe thead th {\n",
       "        text-align: right;\n",
       "    }\n",
       "</style>\n",
       "<table border=\"1\" class=\"dataframe\">\n",
       "  <thead>\n",
       "    <tr style=\"text-align: right;\">\n",
       "      <th></th>\n",
       "      <th>count</th>\n",
       "      <th>mean</th>\n",
       "      <th>std</th>\n",
       "      <th>min</th>\n",
       "      <th>25%</th>\n",
       "      <th>50%</th>\n",
       "      <th>75%</th>\n",
       "      <th>max</th>\n",
       "    </tr>\n",
       "  </thead>\n",
       "  <tbody>\n",
       "    <tr>\n",
       "      <th>bedrooms</th>\n",
       "      <td>8549.0</td>\n",
       "      <td>3.149433</td>\n",
       "      <td>3.968352</td>\n",
       "      <td>0.5</td>\n",
       "      <td>2.0</td>\n",
       "      <td>3.0</td>\n",
       "      <td>3.0</td>\n",
       "      <td>152.0</td>\n",
       "    </tr>\n",
       "    <tr>\n",
       "      <th>bathrooms</th>\n",
       "      <td>8610.0</td>\n",
       "      <td>2.164518</td>\n",
       "      <td>2.280858</td>\n",
       "      <td>0.5</td>\n",
       "      <td>1.0</td>\n",
       "      <td>2.0</td>\n",
       "      <td>2.5</td>\n",
       "      <td>80.0</td>\n",
       "    </tr>\n",
       "    <tr>\n",
       "      <th>Pool</th>\n",
       "      <td>10243.0</td>\n",
       "      <td>0.000000</td>\n",
       "      <td>0.000000</td>\n",
       "      <td>0.0</td>\n",
       "      <td>0.0</td>\n",
       "      <td>0.0</td>\n",
       "      <td>0.0</td>\n",
       "      <td>0.0</td>\n",
       "    </tr>\n",
       "    <tr>\n",
       "      <th>parking space</th>\n",
       "      <td>6967.0</td>\n",
       "      <td>2.681427</td>\n",
       "      <td>2.973883</td>\n",
       "      <td>1.0</td>\n",
       "      <td>1.0</td>\n",
       "      <td>2.0</td>\n",
       "      <td>3.0</td>\n",
       "      <td>122.0</td>\n",
       "    </tr>\n",
       "    <tr>\n",
       "      <th>Pets Allowed</th>\n",
       "      <td>4483.0</td>\n",
       "      <td>0.548294</td>\n",
       "      <td>0.497718</td>\n",
       "      <td>0.0</td>\n",
       "      <td>0.0</td>\n",
       "      <td>1.0</td>\n",
       "      <td>1.0</td>\n",
       "      <td>1.0</td>\n",
       "    </tr>\n",
       "  </tbody>\n",
       "</table>\n",
       "</div>"
      ],
      "text/plain": [
       "                 count      mean       std  min  25%  50%  75%    max\n",
       "bedrooms        8549.0  3.149433  3.968352  0.5  2.0  3.0  3.0  152.0\n",
       "bathrooms       8610.0  2.164518  2.280858  0.5  1.0  2.0  2.5   80.0\n",
       "Pool           10243.0  0.000000  0.000000  0.0  0.0  0.0  0.0    0.0\n",
       "parking space   6967.0  2.681427  2.973883  1.0  1.0  2.0  3.0  122.0\n",
       "Pets Allowed    4483.0  0.548294  0.497718  0.0  0.0  1.0  1.0    1.0"
      ]
     },
     "metadata": {},
     "output_type": "display_data"
    }
   ],
   "source": [
    "display(data.describe().T)"
   ]
  },
  {
   "cell_type": "code",
   "execution_count": 5,
   "metadata": {},
   "outputs": [
    {
     "data": {
      "text/html": [
       "<div>\n",
       "<style scoped>\n",
       "    .dataframe tbody tr th:only-of-type {\n",
       "        vertical-align: middle;\n",
       "    }\n",
       "\n",
       "    .dataframe tbody tr th {\n",
       "        vertical-align: top;\n",
       "    }\n",
       "\n",
       "    .dataframe thead th {\n",
       "        text-align: right;\n",
       "    }\n",
       "</style>\n",
       "<table border=\"1\" class=\"dataframe\">\n",
       "  <thead>\n",
       "    <tr style=\"text-align: right;\">\n",
       "      <th></th>\n",
       "      <th>3475</th>\n",
       "      <th>3004</th>\n",
       "      <th>6739</th>\n",
       "      <th>3978</th>\n",
       "      <th>9701</th>\n",
       "      <th>3785</th>\n",
       "      <th>271</th>\n",
       "      <th>427</th>\n",
       "      <th>1734</th>\n",
       "      <th>4815</th>\n",
       "    </tr>\n",
       "  </thead>\n",
       "  <tbody>\n",
       "    <tr>\n",
       "      <th>price</th>\n",
       "      <td>R 2 750 000</td>\n",
       "      <td>R 999 000</td>\n",
       "      <td>R 950 000</td>\n",
       "      <td>R 3 950 000</td>\n",
       "      <td>R 549 000</td>\n",
       "      <td>R 2 000 000</td>\n",
       "      <td>R 4 200 000</td>\n",
       "      <td>R 675 000</td>\n",
       "      <td>R 365 000</td>\n",
       "      <td>R 950 000</td>\n",
       "    </tr>\n",
       "    <tr>\n",
       "      <th>bedrooms</th>\n",
       "      <td>3.0</td>\n",
       "      <td>4.0</td>\n",
       "      <td>3.0</td>\n",
       "      <td>4.0</td>\n",
       "      <td>1.0</td>\n",
       "      <td>7.0</td>\n",
       "      <td>4.0</td>\n",
       "      <td>2.0</td>\n",
       "      <td>2.0</td>\n",
       "      <td>2.0</td>\n",
       "    </tr>\n",
       "    <tr>\n",
       "      <th>bathrooms</th>\n",
       "      <td>3.0</td>\n",
       "      <td>3.0</td>\n",
       "      <td>3.0</td>\n",
       "      <td>2.5</td>\n",
       "      <td>1.0</td>\n",
       "      <td>2.0</td>\n",
       "      <td>2.5</td>\n",
       "      <td>1.0</td>\n",
       "      <td>1.0</td>\n",
       "      <td>1.0</td>\n",
       "    </tr>\n",
       "    <tr>\n",
       "      <th>Type of Property</th>\n",
       "      <td>House</td>\n",
       "      <td>House</td>\n",
       "      <td>House</td>\n",
       "      <td>Townhouse</td>\n",
       "      <td>Apartment/Flat</td>\n",
       "      <td>House</td>\n",
       "      <td>House</td>\n",
       "      <td>Apartment/Flat</td>\n",
       "      <td>Apartment/Flat</td>\n",
       "      <td>Apartment/Flat</td>\n",
       "    </tr>\n",
       "    <tr>\n",
       "      <th>Erf Size</th>\n",
       "      <td>500m²</td>\n",
       "      <td>600m²</td>\n",
       "      <td>911m²</td>\n",
       "      <td>685m²</td>\n",
       "      <td>NaN</td>\n",
       "      <td>NaN</td>\n",
       "      <td>504m²</td>\n",
       "      <td>NaN</td>\n",
       "      <td>1243m²</td>\n",
       "      <td>NaN</td>\n",
       "    </tr>\n",
       "    <tr>\n",
       "      <th>Floor Size</th>\n",
       "      <td>NaN</td>\n",
       "      <td>NaN</td>\n",
       "      <td>NaN</td>\n",
       "      <td>NaN</td>\n",
       "      <td>82m²</td>\n",
       "      <td>NaN</td>\n",
       "      <td>286m²</td>\n",
       "      <td>51m²</td>\n",
       "      <td>107m²</td>\n",
       "      <td>74m²</td>\n",
       "    </tr>\n",
       "    <tr>\n",
       "      <th>Levies</th>\n",
       "      <td>NaN</td>\n",
       "      <td>NaN</td>\n",
       "      <td>NaN</td>\n",
       "      <td>R3300</td>\n",
       "      <td>NaN</td>\n",
       "      <td>NaN</td>\n",
       "      <td>R3890</td>\n",
       "      <td>R1100</td>\n",
       "      <td>NaN</td>\n",
       "      <td>NaN</td>\n",
       "    </tr>\n",
       "    <tr>\n",
       "      <th>Pool</th>\n",
       "      <td>0</td>\n",
       "      <td>0</td>\n",
       "      <td>0</td>\n",
       "      <td>0</td>\n",
       "      <td>0</td>\n",
       "      <td>0</td>\n",
       "      <td>0</td>\n",
       "      <td>0</td>\n",
       "      <td>0</td>\n",
       "      <td>0</td>\n",
       "    </tr>\n",
       "    <tr>\n",
       "      <th>Rates and Taxes</th>\n",
       "      <td>NaN</td>\n",
       "      <td>R278</td>\n",
       "      <td>NaN</td>\n",
       "      <td>R3000</td>\n",
       "      <td>NaN</td>\n",
       "      <td>NaN</td>\n",
       "      <td>R2794</td>\n",
       "      <td>R150</td>\n",
       "      <td>NaN</td>\n",
       "      <td>NaN</td>\n",
       "    </tr>\n",
       "    <tr>\n",
       "      <th>parking space</th>\n",
       "      <td>6.0</td>\n",
       "      <td>4.0</td>\n",
       "      <td>2.0</td>\n",
       "      <td>4.0</td>\n",
       "      <td>NaN</td>\n",
       "      <td>5.0</td>\n",
       "      <td>2.0</td>\n",
       "      <td>1.0</td>\n",
       "      <td>1.0</td>\n",
       "      <td>NaN</td>\n",
       "    </tr>\n",
       "    <tr>\n",
       "      <th>Pets Allowed</th>\n",
       "      <td>NaN</td>\n",
       "      <td>NaN</td>\n",
       "      <td>1.0</td>\n",
       "      <td>NaN</td>\n",
       "      <td>NaN</td>\n",
       "      <td>1.0</td>\n",
       "      <td>1.0</td>\n",
       "      <td>0.0</td>\n",
       "      <td>0.0</td>\n",
       "      <td>NaN</td>\n",
       "    </tr>\n",
       "  </tbody>\n",
       "</table>\n",
       "</div>"
      ],
      "text/plain": [
       "                         3475       3004       6739         3978  \\\n",
       "price             R 2 750 000  R 999 000  R 950 000  R 3 950 000   \n",
       "bedrooms                  3.0        4.0        3.0          4.0   \n",
       "bathrooms                 3.0        3.0        3.0          2.5   \n",
       "Type of Property        House      House      House    Townhouse   \n",
       "Erf Size                500m²      600m²      911m²        685m²   \n",
       "Floor Size                NaN        NaN        NaN          NaN   \n",
       "Levies                    NaN        NaN        NaN        R3300   \n",
       "Pool                        0          0          0            0   \n",
       "Rates and Taxes           NaN       R278        NaN        R3000   \n",
       "parking space             6.0        4.0        2.0          4.0   \n",
       "Pets Allowed              NaN        NaN        1.0          NaN   \n",
       "\n",
       "                            9701         3785         271             427   \\\n",
       "price                  R 549 000  R 2 000 000  R 4 200 000       R 675 000   \n",
       "bedrooms                     1.0          7.0          4.0             2.0   \n",
       "bathrooms                    1.0          2.0          2.5             1.0   \n",
       "Type of Property  Apartment/Flat        House        House  Apartment/Flat   \n",
       "Erf Size                     NaN          NaN        504m²             NaN   \n",
       "Floor Size                  82m²          NaN        286m²            51m²   \n",
       "Levies                       NaN          NaN        R3890           R1100   \n",
       "Pool                           0            0            0               0   \n",
       "Rates and Taxes              NaN          NaN        R2794            R150   \n",
       "parking space                NaN          5.0          2.0             1.0   \n",
       "Pets Allowed                 NaN          1.0          1.0             0.0   \n",
       "\n",
       "                            1734            4815  \n",
       "price                  R 365 000       R 950 000  \n",
       "bedrooms                     2.0             2.0  \n",
       "bathrooms                    1.0             1.0  \n",
       "Type of Property  Apartment/Flat  Apartment/Flat  \n",
       "Erf Size                  1243m²             NaN  \n",
       "Floor Size                 107m²            74m²  \n",
       "Levies                       NaN             NaN  \n",
       "Pool                           0               0  \n",
       "Rates and Taxes              NaN             NaN  \n",
       "parking space                1.0             NaN  \n",
       "Pets Allowed                 0.0             NaN  "
      ]
     },
     "metadata": {},
     "output_type": "display_data"
    }
   ],
   "source": [
    "display(data.sample(10).T)"
   ]
  },
  {
   "cell_type": "markdown",
   "metadata": {},
   "source": [
    "#### Pre-processing data and cleaning"
   ]
  },
  {
   "cell_type": "markdown",
   "metadata": {},
   "source": [
    "##### NaN heatmap"
   ]
  },
  {
   "cell_type": "code",
   "execution_count": 6,
   "metadata": {},
   "outputs": [
    {
     "data": {
      "text/plain": [
       "<AxesSubplot:>"
      ]
     },
     "execution_count": 6,
     "metadata": {},
     "output_type": "execute_result"
    },
    {
     "data": {
      "image/png": "[encoded data removed]",
      "text/plain": [
       "<Figure size 1440x720 with 1 Axes>"
      ]
     },
     "metadata": {
      "needs_background": "light"
     },
     "output_type": "display_data"
    }
   ],
   "source": [
    "plt.figure(figsize=(20,10))\n",
    "sns.heatmap(data.isna(), cbar=False)"
   ]
  },
  {
   "cell_type": "markdown",
   "metadata": {},
   "source": [
    "##### formating data special characters"
   ]
  },
  {
   "cell_type": "code",
   "execution_count": 7,
   "metadata": {},
   "outputs": [],
   "source": [
    "\n",
    "data.columns = data.columns.str.lower()\n",
    "data.columns = data.columns.str.replace(' ', '_')\n",
    "\n",
    "data['erf_size'] = data['erf_size'].str.replace('m²', '')\n",
    "data['erf_size'] = data['erf_size'].str.replace(' ', '')\n",
    "data['erf_size'].loc[data['erf_size'].str.contains('ha', na=False)]\n",
    "data['erf_size'] = data['erf_size'].str.replace('ha', '0000')\n",
    "data['erf_size'] = pd.to_numeric(data['erf_size'], errors='coerce')\n",
    "\n",
    "data['floor_size'] = data['floor_size'].str.replace('m²', '')\n",
    "data['floor_size'] = data['floor_size'].str.replace(' ', '')\n",
    "data['floor_size'] = pd.to_numeric(data['floor_size'], errors='coerce')\n",
    "\n",
    "data['price'] = data['price'].str.replace('R', '')\n",
    "data['price'] = data['price'].str.replace(' ', '')\n",
    "data['price'] = pd.to_numeric(data['price'], errors='coerce')\n",
    "\n",
    "data['levies'] = data['levies'].str.replace(' ', '')\n",
    "data['levies'] = data['levies'].str.replace('R', '')\n",
    "data['levies'] = pd.to_numeric(data['levies'], errors='coerce')\n",
    "\n",
    "data['rates_and_taxes'] = data['rates_and_taxes'].str.replace('R', '')\n",
    "data['rates_and_taxes'] = data['rates_and_taxes'].str.replace(' ', '')\n",
    "data['rates_and_taxes'] = pd.to_numeric(data['rates_and_taxes'], errors='coerce')"
   ]
  },
  {
   "cell_type": "markdown",
   "metadata": {},
   "source": [
    "### Visualizing correlations"
   ]
  },
  {
   "cell_type": "markdown",
   "metadata": {},
   "source": [
    "#### Correlation between features and label"
   ]
  },
  {
   "cell_type": "code",
   "execution_count": 8,
   "metadata": {},
   "outputs": [
    {
     "data": {
      "text/plain": [
       "<AxesSubplot:>"
      ]
     },
     "execution_count": 8,
     "metadata": {},
     "output_type": "execute_result"
    },
    {
     "data": {
      "image/png": "[encoded data removed]",
      "text/plain": [
       "<Figure size 432x288 with 2 Axes>"
      ]
     },
     "metadata": {
      "needs_background": "light"
     },
     "output_type": "display_data"
    }
   ],
   "source": [
    "sns.heatmap(data.corr())"
   ]
  },
  {
   "cell_type": "code",
   "execution_count": 9,
   "metadata": {},
   "outputs": [
    {
     "data": {
      "text/plain": [
       "price              1.000000\n",
       "floor_size         0.466185\n",
       "bathrooms          0.464472\n",
       "bedrooms           0.343688\n",
       "parking_space      0.244216\n",
       "pets_allowed       0.225884\n",
       "erf_size           0.060782\n",
       "levies             0.052965\n",
       "rates_and_taxes    0.045452\n",
       "pool                    NaN\n",
       "Name: price, dtype: float64"
      ]
     },
     "execution_count": 9,
     "metadata": {},
     "output_type": "execute_result"
    }
   ],
   "source": [
    "data.corr()['price'].sort_values(ascending=False)"
   ]
  },
  {
   "cell_type": "markdown",
   "metadata": {},
   "source": [
    "#### Correlation between features\n"
   ]
  },
  {
   "cell_type": "code",
   "execution_count": 10,
   "metadata": {},
   "outputs": [
    {
     "data": {
      "text/plain": [
       "rates_and_taxes    1.000000\n",
       "levies             0.791657\n",
       "floor_size         0.152614\n",
       "price              0.045452\n",
       "bathrooms          0.039167\n",
       "bedrooms           0.025549\n",
       "pets_allowed       0.020368\n",
       "parking_space      0.007024\n",
       "erf_size          -0.001180\n",
       "pool                    NaN\n",
       "Name: rates_and_taxes, dtype: float64"
      ]
     },
     "execution_count": 10,
     "metadata": {},
     "output_type": "execute_result"
    }
   ],
   "source": [
    "data.corr()['bathrooms'].sort_values(ascending=False)\n",
    "data.corr()['levies'].sort_values(ascending=False)\n",
    "data.corr()['rates_and_taxes'].sort_values(ascending=False)"
   ]
  },
  {
   "cell_type": "markdown",
   "metadata": {},
   "source": [
    "### Visualizing outliers\n"
   ]
  },
  {
   "cell_type": "code",
   "execution_count": 11,
   "metadata": {},
   "outputs": [
    {
     "data": {
      "text/plain": [
       "<AxesSubplot:xlabel='price'>"
      ]
     },
     "execution_count": 11,
     "metadata": {},
     "output_type": "execute_result"
    },
    {
     "data": {
      "image/png": "[encoded data removed]",
      "text/plain": [
       "<Figure size 1152x360 with 1 Axes>"
      ]
     },
     "metadata": {
      "needs_background": "light"
     },
     "output_type": "display_data"
    }
   ],
   "source": [
    "plt.figure(figsize=(16,5))\n",
    "sns.boxplot(x=data['price'])"
   ]
  },
  {
   "cell_type": "markdown",
   "metadata": {},
   "source": [
    "## Pre-processing"
   ]
  },
  {
   "cell_type": "markdown",
   "metadata": {},
   "source": [
    "##### Pie Chart of type of property"
   ]
  },
  {
   "cell_type": "code",
   "execution_count": 12,
   "metadata": {},
   "outputs": [
    {
     "data": {
      "text/plain": [
       "<AxesSubplot:ylabel='type_of_property'>"
      ]
     },
     "execution_count": 12,
     "metadata": {},
     "output_type": "execute_result"
    },
    {
     "data": {
      "image/png": "[encoded data removed]",
      "text/plain": [
       "<Figure size 432x288 with 1 Axes>"
      ]
     },
     "metadata": {},
     "output_type": "display_data"
    }
   ],
   "source": [
    "data['type_of_property'].value_counts().plot.pie()"
   ]
  },
  {
   "cell_type": "markdown",
   "metadata": {},
   "source": [
    "#### Droping preperty of type of Farm, Industrie, commercial, vancantLand\n"
   ]
  },
  {
   "cell_type": "code",
   "execution_count": 13,
   "metadata": {},
   "outputs": [],
   "source": [
    "data = data.drop(data.loc[data['type_of_property'] == 'CommercialProperty'].index)\n",
    "data = data.drop(data.loc[data['type_of_property'] == 'Farm'].index)\n",
    "data = data.drop(data.loc[data['type_of_property'] == 'VacantLand/Plot'].index)\n",
    "data = data.drop(data.loc[data['type_of_property'] == 'IndustrialProperty'].index)"
   ]
  },
  {
   "cell_type": "markdown",
   "metadata": {},
   "source": [
    "##### After drop"
   ]
  },
  {
   "cell_type": "code",
   "execution_count": 14,
   "metadata": {},
   "outputs": [
    {
     "data": {
      "text/plain": [
       "<AxesSubplot:ylabel='type_of_property'>"
      ]
     },
     "execution_count": 14,
     "metadata": {},
     "output_type": "execute_result"
    },
    {
     "data": {
      "image/png": "[encoded data removed]",
      "text/plain": [
       "<Figure size 432x288 with 1 Axes>"
      ]
     },
     "metadata": {},
     "output_type": "display_data"
    }
   ],
   "source": [
    "data['type_of_property'].value_counts().plot.pie()"
   ]
  },
  {
   "cell_type": "markdown",
   "metadata": {},
   "source": [
    "##### Droping useless Levies feature because there is so many NaN"
   ]
  },
  {
   "cell_type": "code",
   "execution_count": 15,
   "metadata": {},
   "outputs": [],
   "source": [
    "\n",
    "data = data.drop('levies', axis=1)"
   ]
  },
  {
   "cell_type": "markdown",
   "metadata": {},
   "source": [
    "##### Removing outlier"
   ]
  },
  {
   "cell_type": "code",
   "execution_count": 16,
   "metadata": {},
   "outputs": [],
   "source": [
    "upper_price_limit = data['price'].quantile(0.99999999)\n",
    "lower_price_limit = data['price'].quantile(0.01)\n",
    "data = data[(data['price'] <= upper_price_limit) & (data['price'] >= lower_price_limit)]"
   ]
  },
  {
   "cell_type": "markdown",
   "metadata": {},
   "source": [
    "\n",
    "##### Droping NaN in type_of_property\n"
   ]
  },
  {
   "cell_type": "code",
   "execution_count": 17,
   "metadata": {},
   "outputs": [],
   "source": [
    "data = data.drop(data.loc[data['type_of_property'].isna()].index)"
   ]
  },
  {
   "cell_type": "markdown",
   "metadata": {},
   "source": [
    "##### Filling NaN value of rates and taxes of specific type of property"
   ]
  },
  {
   "cell_type": "code",
   "execution_count": 18,
   "metadata": {},
   "outputs": [],
   "source": [
    "median_taxes_house = data.loc[data['type_of_property'] == 'House']['rates_and_taxes'].median()\n",
    "median_taxes_appartment = data.loc[data['type_of_property'] == 'Apartment/Flat']['rates_and_taxes'].median()\n",
    "median_taxes_townHouse = data.loc[data['type_of_property'] == 'Townhouse']['rates_and_taxes'].median()\n",
    "\n",
    "data.loc[data['type_of_property'].eq('Apartment/Flat') & data['rates_and_taxes'].isna(), 'rates_and_taxes'] = median_taxes_appartment \n",
    "data.loc[data['type_of_property'].eq('Townhouse') & data['rates_and_taxes'].isna(), 'rates_and_taxes'] = median_taxes_townHouse \n",
    "data.loc[data['type_of_property'].eq('House') & data['rates_and_taxes'].isna(), 'rates_and_taxes'] = median_taxes_house \n"
   ]
  },
  {
   "cell_type": "markdown",
   "metadata": {},
   "source": [
    "##### Filling NaN of parkings, pets allowed"
   ]
  },
  {
   "cell_type": "code",
   "execution_count": 19,
   "metadata": {},
   "outputs": [],
   "source": [
    "data.loc[data['parking_space'].isna(), 'parking_space'] = 0\n",
    "data.loc[data['pets_allowed'].isna(), 'pets_allowed'] = 0"
   ]
  },
  {
   "cell_type": "markdown",
   "metadata": {},
   "source": [
    "##### Transform bedrooms and bathrooms NaN to median"
   ]
  },
  {
   "cell_type": "code",
   "execution_count": 20,
   "metadata": {},
   "outputs": [],
   "source": [
    "data.loc[data['type_of_property'].eq('Apartment/Flat') & data['bedrooms'].isna(), 'bedrooms'] = data.loc[data['type_of_property'] == 'Apartment/Flat']['bedrooms'].median()\n",
    "data.loc[data['type_of_property'].eq('House') & data['bedrooms'].isna(), 'bedrooms'] = data.loc[data['type_of_property'] == 'House']['bedrooms'].median()\n",
    "data.loc[data['type_of_property'].eq('Townhouse') & data['bedrooms'].isna(), 'bedrooms'] = data.loc[data['type_of_property'] == 'Townhouse']['bedrooms'].median()\n",
    "\n",
    "median_bathrooms_house = data.loc[data['type_of_property'] == 'House']['bathrooms'].median()\n",
    "median_bathrooms_appartment = data.loc[data['type_of_property'] == 'Apartment/Flat']['bathrooms'].median()\n",
    "median_bathrooms_townhouse = data.loc[data['type_of_property'] == 'Townhouse']['bathrooms'].median()\n",
    "\n",
    "data.loc[data['type_of_property'].eq('House') & data['bathrooms'].isna(), 'bathrooms'] = median_bathrooms_house\n",
    "data.loc[data['type_of_property'].eq('Apartment/Flat') & data['bathrooms'].isna(), 'bathrooms'] = median_bathrooms_appartment\n",
    "data.loc[data['type_of_property'].eq('Townhouse') & data['bathrooms'].isna(), 'bathrooms'] = median_bathrooms_townhouse"
   ]
  },
  {
   "cell_type": "markdown",
   "metadata": {},
   "source": [
    "##### Transform erf size and floor size NaN to median"
   ]
  },
  {
   "cell_type": "code",
   "execution_count": 21,
   "metadata": {},
   "outputs": [],
   "source": [
    "data.loc[data['type_of_property'].eq('Apartment/Flat') & data['erf_size'].isna(), 'erf_size'] = data.loc[data['type_of_property'] == 'Apartment/Flat']['floor_size']\n",
    "data.loc[data['type_of_property'].eq('Apartment/Flat') & data['erf_size'].isna() & data['floor_size'].isna() , 'erf_size'] = data.loc[data['type_of_property'] == 'Apartment/Flat']['erf_size'].median()\n",
    "data.loc[data['type_of_property'].eq('House') & data['erf_size'].isna(), 'erf_size'] = data.loc[data['type_of_property'] == 'House']['erf_size'].median()\n",
    "data.loc[data['type_of_property'].eq('Townhouse') & data['erf_size'].isna(), 'erf_size'] = data.loc[data['type_of_property'] == 'Townhouse']['erf_size'].median()\n",
    "data.loc[data['type_of_property'].eq('Apartment/Flat') & data['floor_size'].isna(), 'floor_size'] = data.loc[data['type_of_property'] == 'Apartment/Flat']['erf_size']\n",
    "data.loc[data['type_of_property'].eq('Apartment/Flat') & data['floor_size'].isna() & data['erf_size'].isna() , 'floor_size'] = data.loc[data['type_of_property'] == 'Apartment/Flat']['floor_size'].median()\n",
    "data.loc[data['type_of_property'].eq('House') & data['floor_size'].isna(), 'floor_size'] = data.loc[data['type_of_property'] == 'House']['floor_size'].median()\n",
    "data.loc[data['type_of_property'].eq('Townhouse') & data['floor_size'].isna(), 'floor_size'] = data.loc[data['type_of_property'] == 'Townhouse']['floor_size'].median()\n"
   ]
  },
  {
   "cell_type": "markdown",
   "metadata": {},
   "source": [
    "##### Encoding"
   ]
  },
  {
   "cell_type": "code",
   "execution_count": 22,
   "metadata": {},
   "outputs": [],
   "source": [
    "data[\"type_of_property\"] = data[\"type_of_property\"].replace([\"Apartment/Flat\", \"House\", \"Townhouse\"], [0,1,2])"
   ]
  },
  {
   "cell_type": "markdown",
   "metadata": {},
   "source": [
    "##### Function for Finding best model parameters"
   ]
  },
  {
   "cell_type": "code",
   "execution_count": 23,
   "metadata": {},
   "outputs": [],
   "source": [
    "def testModel(model , cv ,x , y , params):\n",
    "    grid = GridSearchCV(estimator=model , param_grid=params , cv = cv )\n",
    "    grid.fit(x , y)\n",
    "    return grid.best_params_\n"
   ]
  },
  {
   "cell_type": "markdown",
   "metadata": {},
   "source": [
    "##### Setting X and y"
   ]
  },
  {
   "cell_type": "code",
   "execution_count": 24,
   "metadata": {},
   "outputs": [],
   "source": [
    "X = data.drop([\"price\"], axis=1)\n",
    "y = data[\"price\"]"
   ]
  },
  {
   "cell_type": "markdown",
   "metadata": {},
   "source": [
    "##### Normalization"
   ]
  },
  {
   "cell_type": "markdown",
   "metadata": {},
   "source": [
    "from sklearn.preprocessing import MinMaxScaler\n",
    "X = MinMaxScaler().fit_transform(X)"
   ]
  },
  {
   "cell_type": "markdown",
   "metadata": {},
   "source": [
    "#### Splitting data"
   ]
  },
  {
   "cell_type": "code",
   "execution_count": 25,
   "metadata": {},
   "outputs": [],
   "source": [
    "X_train, X_test, y_train, y_test = train_test_split(X, y, test_size=0.2)"
   ]
  },
  {
   "cell_type": "markdown",
   "metadata": {},
   "source": [
    "#### Testing model"
   ]
  },
  {
   "cell_type": "markdown",
   "metadata": {},
   "source": [
    "##### Random Forest Regressor"
   ]
  },
  {
   "cell_type": "code",
   "execution_count": 26,
   "metadata": {},
   "outputs": [
    {
     "data": {
      "text/plain": [
       "{'max_features': 0.3, 'n_estimators': 300}"
      ]
     },
     "execution_count": 26,
     "metadata": {},
     "output_type": "execute_result"
    }
   ],
   "source": [
    "randomForst_model = RandomForestRegressor()\n",
    "cv = 5\n",
    "params = {'n_estimators': [200 , 300 , 400, 500 , 600],\n",
    "            'max_features':[0.1 , 0.3 , 0.6]\n",
    "        }\n",
    "\n",
    "testModel(randomForst_model , cv ,X_train , y_train, params)"
   ]
  },
  {
   "cell_type": "code",
   "execution_count": 27,
   "metadata": {},
   "outputs": [
    {
     "data": {
      "text/plain": [
       "0.3737832666575204"
      ]
     },
     "execution_count": 27,
     "metadata": {},
     "output_type": "execute_result"
    }
   ],
   "source": [
    "randomForst_model = RandomForestRegressor(n_estimators=400 , max_features = 0.3)\n",
    "randomForst_model.fit(X_train, y_train)\n",
    "randomForest_score = randomForst_model.score(X_test, y_test)\n",
    "randomForest_score"
   ]
  },
  {
   "cell_type": "markdown",
   "metadata": {},
   "source": [
    "##### Linear Regression"
   ]
  },
  {
   "cell_type": "code",
   "execution_count": 28,
   "metadata": {},
   "outputs": [
    {
     "data": {
      "text/plain": [
       "{'fit_intercept': True, 'n_jobs': 1}"
      ]
     },
     "execution_count": 28,
     "metadata": {},
     "output_type": "execute_result"
    }
   ],
   "source": [
    "Linear_model = LinearRegression()\n",
    "cv = 5\n",
    "params = {'fit_intercept': [True , False],\n",
    "          'n_jobs':[1,2,3]\n",
    "        }\n",
    "\n",
    "testModel(Linear_model , cv ,X_train , y_train, params)"
   ]
  },
  {
   "cell_type": "code",
   "execution_count": 29,
   "metadata": {},
   "outputs": [
    {
     "data": {
      "text/plain": [
       "0.17069186051010798"
      ]
     },
     "execution_count": 29,
     "metadata": {},
     "output_type": "execute_result"
    }
   ],
   "source": [
    "Linear_model = LinearRegression(fit_intercept=True , n_jobs=1)\n",
    "Linear_model.fit(X_train , y_train)\n",
    "LinearRegression_score = Linear_model.score(X_test , y_test)\n",
    "LinearRegression_score"
   ]
  },
  {
   "cell_type": "markdown",
   "metadata": {},
   "source": [
    "Gradient Boosting Regressor"
   ]
  },
  {
   "cell_type": "code",
   "execution_count": 30,
   "metadata": {},
   "outputs": [
    {
     "data": {
      "text/plain": [
       "{'n_estimators': 400}"
      ]
     },
     "execution_count": 30,
     "metadata": {},
     "output_type": "execute_result"
    }
   ],
   "source": [
    "GradientBoost_model = GradientBoostingRegressor()\n",
    "cv = 5\n",
    "params = {'n_estimators': [200 , 300 , 400, 500 , 600]\n",
    "        }\n",
    "\n",
    "testModel(GradientBoost_model , cv ,X_train , y_train, params)"
   ]
  },
  {
   "cell_type": "code",
   "execution_count": 31,
   "metadata": {},
   "outputs": [
    {
     "data": {
      "text/plain": [
       "0.3026457089560243"
      ]
     },
     "execution_count": 31,
     "metadata": {},
     "output_type": "execute_result"
    }
   ],
   "source": [
    "GradientBoost_model = GradientBoostingRegressor(n_estimators=200)\n",
    "GradientBoost_model.fit(X_train , y_train)\n",
    "GradientBooster_score = GradientBoost_model.score(X_test , y_test)\n",
    "GradientBooster_score"
   ]
  },
  {
   "cell_type": "markdown",
   "metadata": {},
   "source": [
    "##### Choosing Best Model"
   ]
  },
  {
   "cell_type": "code",
   "execution_count": 32,
   "metadata": {},
   "outputs": [],
   "source": [
    "def chooseModel(LinearRegression_score , GradientBooster_score , randomForest_score):\n",
    "    if (LinearRegression_score <= GradientBooster_score):\n",
    "        if (GradientBooster_score <= randomForest_score):\n",
    "            model = randomForst_model\n",
    "        else:\n",
    "            model = GradientBoost_model\n",
    "    else:\n",
    "        if (LinearRegression_score <= randomForest_score):\n",
    "            model = randomForst_model\n",
    "        else:\n",
    "            model = Linear_model\n",
    "    return model"
   ]
  },
  {
   "cell_type": "code",
   "execution_count": 33,
   "metadata": {},
   "outputs": [
    {
     "data": {
      "text/plain": [
       "RandomForestRegressor(max_features=0.3, n_estimators=400)"
      ]
     },
     "execution_count": 33,
     "metadata": {},
     "output_type": "execute_result"
    }
   ],
   "source": [
    "model = chooseModel(LinearRegression_score , GradientBooster_score , randomForest_score)\n",
    "model"
   ]
  },
  {
   "cell_type": "markdown",
   "metadata": {},
   "source": [
    "##### Pipeline"
   ]
  },
  {
   "cell_type": "code",
   "execution_count": 34,
   "metadata": {},
   "outputs": [
    {
     "data": {
      "text/plain": [
       "0.33342753972765127"
      ]
     },
     "execution_count": 34,
     "metadata": {},
     "output_type": "execute_result"
    }
   ],
   "source": [
    "transformer_features = ['bedrooms', 'bathrooms' ,'type_of_property','erf_size','floor_size','rates_and_taxes', 'parking_space','pets_allowed']\n",
    "transformer_pipeline = make_pipeline(MinMaxScaler())\n",
    "preprocessor = make_column_transformer((transformer_pipeline,transformer_features))\n",
    "model = make_pipeline(preprocessor, \n",
    "                     GradientBoostingRegressor(n_estimators=200)\n",
    "                     )\n",
    "model.fit(X_train , y_train)\n",
    "model.score(X_test , y_test) "
   ]
  },
  {
   "cell_type": "markdown",
   "metadata": {},
   "source": [
    "#### Creating model"
   ]
  },
  {
   "cell_type": "code",
   "execution_count": 35,
   "metadata": {
    "scrolled": true
   },
   "outputs": [
    {
     "ename": "FileNotFoundError",
     "evalue": "[Errno 2] No such file or directory: './model/johannesburg_model.pkl'",
     "output_type": "error",
     "traceback": [
      "\u001b[0;31m---------------------------------------------------------------------------\u001b[0m",
      "\u001b[0;31mFileNotFoundError\u001b[0m                         Traceback (most recent call last)",
      "\u001b[0;32m<ipython-input-35-2490f1686942>\u001b[0m in \u001b[0;36m<module>\u001b[0;34m\u001b[0m\n\u001b[0;32m----> 1\u001b[0;31m \u001b[0;32mwith\u001b[0m \u001b[0mopen\u001b[0m\u001b[0;34m(\u001b[0m\u001b[0;34m\"./model/johannesburg_model.pkl\"\u001b[0m\u001b[0;34m,\u001b[0m\u001b[0;34m\"wb\"\u001b[0m\u001b[0;34m)\u001b[0m \u001b[0;32mas\u001b[0m \u001b[0mfile\u001b[0m\u001b[0;34m:\u001b[0m\u001b[0;34m\u001b[0m\u001b[0;34m\u001b[0m\u001b[0m\n\u001b[0m\u001b[1;32m      2\u001b[0m     \u001b[0mpickle\u001b[0m\u001b[0;34m.\u001b[0m\u001b[0mdump\u001b[0m\u001b[0;34m(\u001b[0m\u001b[0mmodel\u001b[0m\u001b[0;34m,\u001b[0m \u001b[0mfile\u001b[0m\u001b[0;34m)\u001b[0m\u001b[0;34m\u001b[0m\u001b[0;34m\u001b[0m\u001b[0m\n",
      "\u001b[0;31mFileNotFoundError\u001b[0m: [Errno 2] No such file or directory: './model/johannesburg_model.pkl'"
     ]
    }
   ],
   "source": [
    "with open(\"./model/johannesburg_model.pkl\",\"wb\") as file:\n",
    "    pickle.dump(model, file)"
   ]
  },
  {
   "cell_type": "code",
   "execution_count": null,
   "metadata": {},
   "outputs": [],
   "source": []
  },
  {
   "cell_type": "code",
   "execution_count": null,
   "metadata": {},
   "outputs": [],
   "source": []
  }
 ],
 "metadata": {
  "interpreter": {
   "hash": "b3ba2566441a7c06988d0923437866b63cedc61552a5af99d1f4fb67d367b25f"
  },
  "kernelspec": {
   "display_name": "Python 3",
   "language": "python",
   "name": "python3"
  },
  "language_info": {
   "codemirror_mode": {
    "name": "ipython",
    "version": 3
   },
   "file_extension": ".py",
   "mimetype": "text/x-python",
   "name": "python",
   "nbconvert_exporter": "python",
   "pygments_lexer": "ipython3",
   "version": "3.8.8"
  }
 },
 "nbformat": 4,
 "nbformat_minor": 2
}
