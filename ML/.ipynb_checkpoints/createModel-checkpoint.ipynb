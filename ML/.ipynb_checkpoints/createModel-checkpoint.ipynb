{
 "cells": [
  {
   "cell_type": "markdown",
   "metadata": {},
   "source": [
    "#### Importing utitlities"
   ]
  },
  {
   "cell_type": "code",
   "execution_count": 1,
   "metadata": {},
   "outputs": [],
   "source": [
    "import numpy as np\n",
    "import pandas as pd\n",
    "from sklearn.model_selection import train_test_split\n",
    "import pickle\n",
    "import seaborn as sns\n",
    "import matplotlib.pyplot as plt\n",
    "import copy\n",
    "from sklearn.ensemble import RandomForestRegressor , GradientBoostingRegressor\n",
    "from sklearn.model_selection import GridSearchCV\n",
    "from sklearn.linear_model import LinearRegression\n",
    "from sklearn.preprocessing import MinMaxScaler\n",
    "from sklearn.pipeline import make_pipeline\n",
    "from sklearn.compose import make_column_transformer"
   ]
  },
  {
   "cell_type": "markdown",
   "metadata": {},
   "source": [
    "#### Loading data and exploring data"
   ]
  },
  {
   "cell_type": "code",
   "execution_count": 2,
   "metadata": {},
   "outputs": [],
   "source": [
    "data = pd.read_csv(\"./Johannesburg.csv\")\n"
   ]
  },
  {
   "cell_type": "code",
   "execution_count": 3,
   "metadata": {},
   "outputs": [
    {
     "name": "stdout",
     "output_type": "stream",
     "text": [
      "<class 'pandas.core.frame.DataFrame'>\n",
      "RangeIndex: 8065 entries, 0 to 8064\n",
      "Data columns (total 11 columns):\n",
      " #   Column            Non-Null Count  Dtype  \n",
      "---  ------            --------------  -----  \n",
      " 0   price             8065 non-null   object \n",
      " 1   bedrooms          6488 non-null   float64\n",
      " 2   bathrooms         6550 non-null   float64\n",
      " 3   parking space     5175 non-null   float64\n",
      " 4   Type of Property  7774 non-null   object \n",
      " 5   Erf Size          4321 non-null   object \n",
      " 6   Floor Size        3994 non-null   object \n",
      " 7   Levies            2741 non-null   object \n",
      " 8   Rates and Taxes   3975 non-null   object \n",
      " 9   Pets Allowed      3300 non-null   float64\n",
      " 10  Pool              8065 non-null   int64  \n",
      "dtypes: float64(4), int64(1), object(6)\n",
      "memory usage: 693.2+ KB\n"
     ]
    },
    {
     "data": {
      "text/plain": [
       "None"
      ]
     },
     "metadata": {},
     "output_type": "display_data"
    }
   ],
   "source": [
    "display(data.info())"
   ]
  },
  {
   "cell_type": "code",
   "execution_count": 4,
   "metadata": {},
   "outputs": [
    {
     "data": {
      "text/html": [
       "<div>\n",
       "<style scoped>\n",
       "    .dataframe tbody tr th:only-of-type {\n",
       "        vertical-align: middle;\n",
       "    }\n",
       "\n",
       "    .dataframe tbody tr th {\n",
       "        vertical-align: top;\n",
       "    }\n",
       "\n",
       "    .dataframe thead th {\n",
       "        text-align: right;\n",
       "    }\n",
       "</style>\n",
       "<table border=\"1\" class=\"dataframe\">\n",
       "  <thead>\n",
       "    <tr style=\"text-align: right;\">\n",
       "      <th></th>\n",
       "      <th>count</th>\n",
       "      <th>mean</th>\n",
       "      <th>std</th>\n",
       "      <th>min</th>\n",
       "      <th>25%</th>\n",
       "      <th>50%</th>\n",
       "      <th>75%</th>\n",
       "      <th>max</th>\n",
       "    </tr>\n",
       "  </thead>\n",
       "  <tbody>\n",
       "    <tr>\n",
       "      <th>bedrooms</th>\n",
       "      <td>6488.0</td>\n",
       "      <td>3.165613</td>\n",
       "      <td>4.140404</td>\n",
       "      <td>0.5</td>\n",
       "      <td>2.0</td>\n",
       "      <td>3.0</td>\n",
       "      <td>4.0</td>\n",
       "      <td>152.0</td>\n",
       "    </tr>\n",
       "    <tr>\n",
       "      <th>bathrooms</th>\n",
       "      <td>6550.0</td>\n",
       "      <td>2.181985</td>\n",
       "      <td>2.207065</td>\n",
       "      <td>0.5</td>\n",
       "      <td>1.0</td>\n",
       "      <td>2.0</td>\n",
       "      <td>2.5</td>\n",
       "      <td>54.0</td>\n",
       "    </tr>\n",
       "    <tr>\n",
       "      <th>parking space</th>\n",
       "      <td>5175.0</td>\n",
       "      <td>2.626473</td>\n",
       "      <td>2.948566</td>\n",
       "      <td>1.0</td>\n",
       "      <td>1.0</td>\n",
       "      <td>2.0</td>\n",
       "      <td>3.0</td>\n",
       "      <td>122.0</td>\n",
       "    </tr>\n",
       "    <tr>\n",
       "      <th>Pets Allowed</th>\n",
       "      <td>3300.0</td>\n",
       "      <td>0.530000</td>\n",
       "      <td>0.499175</td>\n",
       "      <td>0.0</td>\n",
       "      <td>0.0</td>\n",
       "      <td>1.0</td>\n",
       "      <td>1.0</td>\n",
       "      <td>1.0</td>\n",
       "    </tr>\n",
       "    <tr>\n",
       "      <th>Pool</th>\n",
       "      <td>8065.0</td>\n",
       "      <td>0.292498</td>\n",
       "      <td>0.454938</td>\n",
       "      <td>0.0</td>\n",
       "      <td>0.0</td>\n",
       "      <td>0.0</td>\n",
       "      <td>1.0</td>\n",
       "      <td>1.0</td>\n",
       "    </tr>\n",
       "  </tbody>\n",
       "</table>\n",
       "</div>"
      ],
      "text/plain": [
       "                count      mean       std  min  25%  50%  75%    max\n",
       "bedrooms       6488.0  3.165613  4.140404  0.5  2.0  3.0  4.0  152.0\n",
       "bathrooms      6550.0  2.181985  2.207065  0.5  1.0  2.0  2.5   54.0\n",
       "parking space  5175.0  2.626473  2.948566  1.0  1.0  2.0  3.0  122.0\n",
       "Pets Allowed   3300.0  0.530000  0.499175  0.0  0.0  1.0  1.0    1.0\n",
       "Pool           8065.0  0.292498  0.454938  0.0  0.0  0.0  1.0    1.0"
      ]
     },
     "metadata": {},
     "output_type": "display_data"
    }
   ],
   "source": [
    "display(data.describe().T)"
   ]
  },
  {
   "cell_type": "code",
   "execution_count": 5,
   "metadata": {},
   "outputs": [
    {
     "data": {
      "text/html": [
       "<div>\n",
       "<style scoped>\n",
       "    .dataframe tbody tr th:only-of-type {\n",
       "        vertical-align: middle;\n",
       "    }\n",
       "\n",
       "    .dataframe tbody tr th {\n",
       "        vertical-align: top;\n",
       "    }\n",
       "\n",
       "    .dataframe thead th {\n",
       "        text-align: right;\n",
       "    }\n",
       "</style>\n",
       "<table border=\"1\" class=\"dataframe\">\n",
       "  <thead>\n",
       "    <tr style=\"text-align: right;\">\n",
       "      <th></th>\n",
       "      <th>5463</th>\n",
       "      <th>5320</th>\n",
       "      <th>2466</th>\n",
       "      <th>2583</th>\n",
       "      <th>1270</th>\n",
       "      <th>4518</th>\n",
       "      <th>4010</th>\n",
       "      <th>1832</th>\n",
       "      <th>7353</th>\n",
       "      <th>5165</th>\n",
       "    </tr>\n",
       "  </thead>\n",
       "  <tbody>\n",
       "    <tr>\n",
       "      <th>price</th>\n",
       "      <td>POA</td>\n",
       "      <td>R 3 400 000</td>\n",
       "      <td>R 4 200 000</td>\n",
       "      <td>R 4 700 000</td>\n",
       "      <td>R 1 645 000</td>\n",
       "      <td>R 880 000</td>\n",
       "      <td>R 2 650 000</td>\n",
       "      <td>R 550 000</td>\n",
       "      <td>R 7 200 000</td>\n",
       "      <td>R 250 000</td>\n",
       "    </tr>\n",
       "    <tr>\n",
       "      <th>bedrooms</th>\n",
       "      <td>NaN</td>\n",
       "      <td>3.0</td>\n",
       "      <td>3.0</td>\n",
       "      <td>NaN</td>\n",
       "      <td>2.0</td>\n",
       "      <td>4.0</td>\n",
       "      <td>2.0</td>\n",
       "      <td>2.0</td>\n",
       "      <td>NaN</td>\n",
       "      <td>1.0</td>\n",
       "    </tr>\n",
       "    <tr>\n",
       "      <th>bathrooms</th>\n",
       "      <td>NaN</td>\n",
       "      <td>2.5</td>\n",
       "      <td>2.5</td>\n",
       "      <td>NaN</td>\n",
       "      <td>2.0</td>\n",
       "      <td>2.0</td>\n",
       "      <td>2.0</td>\n",
       "      <td>2.0</td>\n",
       "      <td>NaN</td>\n",
       "      <td>1.0</td>\n",
       "    </tr>\n",
       "    <tr>\n",
       "      <th>parking space</th>\n",
       "      <td>NaN</td>\n",
       "      <td>3.0</td>\n",
       "      <td>2.0</td>\n",
       "      <td>NaN</td>\n",
       "      <td>1.0</td>\n",
       "      <td>2.0</td>\n",
       "      <td>1.0</td>\n",
       "      <td>2.0</td>\n",
       "      <td>NaN</td>\n",
       "      <td>1.0</td>\n",
       "    </tr>\n",
       "    <tr>\n",
       "      <th>Type of Property</th>\n",
       "      <td>VacantLand/Plot</td>\n",
       "      <td>Apartment/Flat</td>\n",
       "      <td>Townhouse</td>\n",
       "      <td>IndustrialProperty</td>\n",
       "      <td>Apartment/Flat</td>\n",
       "      <td>House</td>\n",
       "      <td>Townhouse</td>\n",
       "      <td>Townhouse</td>\n",
       "      <td>CommercialProperty</td>\n",
       "      <td>Apartment/Flat</td>\n",
       "    </tr>\n",
       "    <tr>\n",
       "      <th>Erf Size</th>\n",
       "      <td>NaN</td>\n",
       "      <td>NaN</td>\n",
       "      <td>NaN</td>\n",
       "      <td>14567m²</td>\n",
       "      <td>NaN</td>\n",
       "      <td>427m²</td>\n",
       "      <td>NaN</td>\n",
       "      <td>NaN</td>\n",
       "      <td>NaN</td>\n",
       "      <td>1985m²</td>\n",
       "    </tr>\n",
       "    <tr>\n",
       "      <th>Floor Size</th>\n",
       "      <td>NaN</td>\n",
       "      <td>215m²</td>\n",
       "      <td>229m²</td>\n",
       "      <td>744m²</td>\n",
       "      <td>82m²</td>\n",
       "      <td>NaN</td>\n",
       "      <td>138m²</td>\n",
       "      <td>90m²</td>\n",
       "      <td>NaN</td>\n",
       "      <td>55m²</td>\n",
       "    </tr>\n",
       "    <tr>\n",
       "      <th>Levies</th>\n",
       "      <td>NaN</td>\n",
       "      <td>R5500</td>\n",
       "      <td>NaN</td>\n",
       "      <td>NaN</td>\n",
       "      <td>R1583</td>\n",
       "      <td>NaN</td>\n",
       "      <td>NaN</td>\n",
       "      <td>R1217</td>\n",
       "      <td>NaN</td>\n",
       "      <td>R900</td>\n",
       "    </tr>\n",
       "    <tr>\n",
       "      <th>Rates and Taxes</th>\n",
       "      <td>NaN</td>\n",
       "      <td>R1600</td>\n",
       "      <td>NaN</td>\n",
       "      <td>NaN</td>\n",
       "      <td>R924</td>\n",
       "      <td>NaN</td>\n",
       "      <td>NaN</td>\n",
       "      <td>R415</td>\n",
       "      <td>NaN</td>\n",
       "      <td>R200</td>\n",
       "    </tr>\n",
       "    <tr>\n",
       "      <th>Pets Allowed</th>\n",
       "      <td>NaN</td>\n",
       "      <td>1.0</td>\n",
       "      <td>NaN</td>\n",
       "      <td>NaN</td>\n",
       "      <td>0.0</td>\n",
       "      <td>NaN</td>\n",
       "      <td>1.0</td>\n",
       "      <td>1.0</td>\n",
       "      <td>NaN</td>\n",
       "      <td>0.0</td>\n",
       "    </tr>\n",
       "    <tr>\n",
       "      <th>Pool</th>\n",
       "      <td>0</td>\n",
       "      <td>1</td>\n",
       "      <td>1</td>\n",
       "      <td>0</td>\n",
       "      <td>0</td>\n",
       "      <td>0</td>\n",
       "      <td>0</td>\n",
       "      <td>1</td>\n",
       "      <td>0</td>\n",
       "      <td>0</td>\n",
       "    </tr>\n",
       "  </tbody>\n",
       "</table>\n",
       "</div>"
      ],
      "text/plain": [
       "                             5463            5320         2466  \\\n",
       "price                         POA     R 3 400 000  R 4 200 000   \n",
       "bedrooms                      NaN             3.0          3.0   \n",
       "bathrooms                     NaN             2.5          2.5   \n",
       "parking space                 NaN             3.0          2.0   \n",
       "Type of Property  VacantLand/Plot  Apartment/Flat    Townhouse   \n",
       "Erf Size                      NaN             NaN          NaN   \n",
       "Floor Size                    NaN           215m²        229m²   \n",
       "Levies                        NaN           R5500          NaN   \n",
       "Rates and Taxes               NaN           R1600          NaN   \n",
       "Pets Allowed                  NaN             1.0          NaN   \n",
       "Pool                            0               1            1   \n",
       "\n",
       "                                2583            1270       4518         4010  \\\n",
       "price                    R 4 700 000     R 1 645 000  R 880 000  R 2 650 000   \n",
       "bedrooms                         NaN             2.0        4.0          2.0   \n",
       "bathrooms                        NaN             2.0        2.0          2.0   \n",
       "parking space                    NaN             1.0        2.0          1.0   \n",
       "Type of Property  IndustrialProperty  Apartment/Flat      House    Townhouse   \n",
       "Erf Size                     14567m²             NaN      427m²          NaN   \n",
       "Floor Size                     744m²            82m²        NaN        138m²   \n",
       "Levies                           NaN           R1583        NaN          NaN   \n",
       "Rates and Taxes                  NaN            R924        NaN          NaN   \n",
       "Pets Allowed                     NaN             0.0        NaN          1.0   \n",
       "Pool                               0               0          0            0   \n",
       "\n",
       "                       1832                7353            5165  \n",
       "price             R 550 000         R 7 200 000       R 250 000  \n",
       "bedrooms                2.0                 NaN             1.0  \n",
       "bathrooms               2.0                 NaN             1.0  \n",
       "parking space           2.0                 NaN             1.0  \n",
       "Type of Property  Townhouse  CommercialProperty  Apartment/Flat  \n",
       "Erf Size                NaN                 NaN          1985m²  \n",
       "Floor Size             90m²                 NaN            55m²  \n",
       "Levies                R1217                 NaN            R900  \n",
       "Rates and Taxes        R415                 NaN            R200  \n",
       "Pets Allowed            1.0                 NaN             0.0  \n",
       "Pool                      1                   0               0  "
      ]
     },
     "metadata": {},
     "output_type": "display_data"
    }
   ],
   "source": [
    "display(data.sample(10).T)"
   ]
  },
  {
   "cell_type": "markdown",
   "metadata": {},
   "source": [
    "#### Pre-processing data and cleaning"
   ]
  },
  {
   "cell_type": "markdown",
   "metadata": {},
   "source": [
    "##### NaN heatmap"
   ]
  },
  {
   "cell_type": "code",
   "execution_count": 6,
   "metadata": {},
   "outputs": [
    {
     "data": {
      "text/plain": [
       "<AxesSubplot:>"
      ]
     },
     "execution_count": 6,
     "metadata": {},
     "output_type": "execute_result"
    },
    {
     "data": {
      "image/png": "[encoded data removed]",
      "text/plain": [
       "<Figure size 1440x720 with 1 Axes>"
      ]
     },
     "metadata": {
      "needs_background": "light"
     },
     "output_type": "display_data"
    }
   ],
   "source": [
    "plt.figure(figsize=(20,10))\n",
    "sns.heatmap(data.isna(), cbar=False)"
   ]
  },
  {
   "cell_type": "markdown",
   "metadata": {},
   "source": [
    "##### formating data special characters"
   ]
  },
  {
   "cell_type": "code",
   "execution_count": 7,
   "metadata": {},
   "outputs": [],
   "source": [
    "\n",
    "data.columns = data.columns.str.lower()\n",
    "data.columns = data.columns.str.replace(' ', '_')\n",
    "\n",
    "data['erf_size'] = data['erf_size'].str.replace('m²', '')\n",
    "data['erf_size'] = data['erf_size'].str.replace(' ', '')\n",
    "data['erf_size'].loc[data['erf_size'].str.contains('ha', na=False)]\n",
    "data['erf_size'] = data['erf_size'].str.replace('ha', '0000')\n",
    "data['erf_size'] = pd.to_numeric(data['erf_size'], errors='coerce')\n",
    "\n",
    "data['floor_size'] = data['floor_size'].str.replace('m²', '')\n",
    "data['floor_size'] = data['floor_size'].str.replace(' ', '')\n",
    "data['floor_size'] = pd.to_numeric(data['floor_size'], errors='coerce')\n",
    "\n",
    "data['price'] = data['price'].str.replace('R', '')\n",
    "data['price'] = data['price'].str.replace(' ', '')\n",
    "data['price'] = pd.to_numeric(data['price'], errors='coerce')\n",
    "\n",
    "data['levies'] = data['levies'].str.replace(' ', '')\n",
    "data['levies'] = data['levies'].str.replace('R', '')\n",
    "data['levies'] = pd.to_numeric(data['levies'], errors='coerce')\n",
    "\n",
    "data['rates_and_taxes'] = data['rates_and_taxes'].str.replace('R', '')\n",
    "data['rates_and_taxes'] = data['rates_and_taxes'].str.replace(' ', '')\n",
    "data['rates_and_taxes'] = pd.to_numeric(data['rates_and_taxes'], errors='coerce')"
   ]
  },
  {
   "cell_type": "markdown",
   "metadata": {},
   "source": [
    "### Visualizing correlations"
   ]
  },
  {
   "cell_type": "markdown",
   "metadata": {},
   "source": [
    "#### Correlation between features and label"
   ]
  },
  {
   "cell_type": "code",
   "execution_count": 8,
   "metadata": {},
   "outputs": [
    {
     "data": {
      "text/plain": [
       "<AxesSubplot:>"
      ]
     },
     "execution_count": 8,
     "metadata": {},
     "output_type": "execute_result"
    },
    {
     "data": {
      "image/png": "[encoded data removed]",
      "text/plain": [
       "<Figure size 432x288 with 2 Axes>"
      ]
     },
     "metadata": {
      "needs_background": "light"
     },
     "output_type": "display_data"
    }
   ],
   "source": [
    "sns.heatmap(data.corr())"
   ]
  },
  {
   "cell_type": "code",
   "execution_count": 9,
   "metadata": {},
   "outputs": [
    {
     "data": {
      "text/plain": [
       "price              1.000000\n",
       "bathrooms          0.476044\n",
       "bedrooms           0.331902\n",
       "pets_allowed       0.242324\n",
       "parking_space      0.240150\n",
       "rates_and_taxes    0.225786\n",
       "erf_size           0.082772\n",
       "floor_size         0.082401\n",
       "levies             0.073659\n",
       "pool               0.023819\n",
       "Name: price, dtype: float64"
      ]
     },
     "execution_count": 9,
     "metadata": {},
     "output_type": "execute_result"
    }
   ],
   "source": [
    "data.corr()['price'].sort_values(ascending=False)"
   ]
  },
  {
   "cell_type": "markdown",
   "metadata": {},
   "source": [
    "#### Correlation between features\n"
   ]
  },
  {
   "cell_type": "code",
   "execution_count": 10,
   "metadata": {},
   "outputs": [
    {
     "data": {
      "text/plain": [
       "rates_and_taxes    1.000000\n",
       "levies             0.362408\n",
       "price              0.225786\n",
       "bathrooms          0.111731\n",
       "parking_space      0.064041\n",
       "bedrooms           0.054067\n",
       "pool               0.053824\n",
       "pets_allowed       0.052304\n",
       "erf_size           0.026158\n",
       "floor_size         0.006998\n",
       "Name: rates_and_taxes, dtype: float64"
      ]
     },
     "execution_count": 10,
     "metadata": {},
     "output_type": "execute_result"
    }
   ],
   "source": [
    "data.corr()['bathrooms'].sort_values(ascending=False)\n",
    "data.corr()['levies'].sort_values(ascending=False)\n",
    "data.corr()['rates_and_taxes'].sort_values(ascending=False)"
   ]
  },
  {
   "cell_type": "markdown",
   "metadata": {},
   "source": [
    "### Visualizing outliers\n"
   ]
  },
  {
   "cell_type": "code",
   "execution_count": 11,
   "metadata": {},
   "outputs": [
    {
     "data": {
      "text/plain": [
       "<AxesSubplot:xlabel='price'>"
      ]
     },
     "execution_count": 11,
     "metadata": {},
     "output_type": "execute_result"
    },
    {
     "data": {
      "image/png": "[encoded data removed]",
      "text/plain": [
       "<Figure size 1152x360 with 1 Axes>"
      ]
     },
     "metadata": {
      "needs_background": "light"
     },
     "output_type": "display_data"
    }
   ],
   "source": [
    "plt.figure(figsize=(16,5))\n",
    "sns.boxplot(x=data['price'])"
   ]
  },
  {
   "cell_type": "markdown",
   "metadata": {},
   "source": [
    "## Pre-processing"
   ]
  },
  {
   "cell_type": "markdown",
   "metadata": {},
   "source": [
    "##### Pie Chart of type of property"
   ]
  },
  {
   "cell_type": "code",
   "execution_count": 12,
   "metadata": {},
   "outputs": [
    {
     "data": {
      "text/plain": [
       "<AxesSubplot:ylabel='type_of_property'>"
      ]
     },
     "execution_count": 12,
     "metadata": {},
     "output_type": "execute_result"
    },
    {
     "data": {
      "image/png": "[encoded data removed]",
      "text/plain": [
       "<Figure size 432x288 with 1 Axes>"
      ]
     },
     "metadata": {},
     "output_type": "display_data"
    }
   ],
   "source": [
    "data['type_of_property'].value_counts().plot.pie()"
   ]
  },
  {
   "cell_type": "markdown",
   "metadata": {},
   "source": [
    "#### Droping preperty of type of Farm, Industrie, commercial, vancantLand\n"
   ]
  },
  {
   "cell_type": "code",
   "execution_count": 13,
   "metadata": {},
   "outputs": [],
   "source": [
    "data = data.drop(data.loc[data['type_of_property'] == 'CommercialProperty'].index)\n",
    "data = data.drop(data.loc[data['type_of_property'] == 'Farm'].index)\n",
    "data = data.drop(data.loc[data['type_of_property'] == 'VacantLand/Plot'].index)\n",
    "data = data.drop(data.loc[data['type_of_property'] == 'IndustrialProperty'].index)"
   ]
  },
  {
   "cell_type": "markdown",
   "metadata": {},
   "source": [
    "##### After drop"
   ]
  },
  {
   "cell_type": "code",
   "execution_count": 14,
   "metadata": {},
   "outputs": [
    {
     "data": {
      "text/plain": [
       "<AxesSubplot:ylabel='type_of_property'>"
      ]
     },
     "execution_count": 14,
     "metadata": {},
     "output_type": "execute_result"
    },
    {
     "data": {
      "image/png": "[encoded data removed]",
      "text/plain": [
       "<Figure size 432x288 with 1 Axes>"
      ]
     },
     "metadata": {},
     "output_type": "display_data"
    }
   ],
   "source": [
    "data['type_of_property'].value_counts().plot.pie()"
   ]
  },
  {
   "cell_type": "markdown",
   "metadata": {},
   "source": [
    "##### Droping useless Levies feature because there is so many NaN"
   ]
  },
  {
   "cell_type": "code",
   "execution_count": 15,
   "metadata": {},
   "outputs": [],
   "source": [
    "\n",
    "data = data.drop('levies', axis=1)"
   ]
  },
  {
   "cell_type": "markdown",
   "metadata": {},
   "source": [
    "##### Removing outlier"
   ]
  },
  {
   "cell_type": "code",
   "execution_count": 16,
   "metadata": {},
   "outputs": [],
   "source": [
    "upper_price_limit = data['price'].quantile(0.99999999)\n",
    "lower_price_limit = data['price'].quantile(0.01)\n",
    "data = data[(data['price'] <= upper_price_limit) & (data['price'] >= lower_price_limit)]"
   ]
  },
  {
   "cell_type": "markdown",
   "metadata": {},
   "source": [
    "\n",
    "##### Droping NaN in type_of_property\n"
   ]
  },
  {
   "cell_type": "code",
   "execution_count": 17,
   "metadata": {},
   "outputs": [],
   "source": [
    "data = data.drop(data.loc[data['type_of_property'].isna()].index)"
   ]
  },
  {
   "cell_type": "markdown",
   "metadata": {},
   "source": [
    "##### Filling NaN value of rates and taxes of specific type of property"
   ]
  },
  {
   "cell_type": "code",
   "execution_count": 18,
   "metadata": {},
   "outputs": [],
   "source": [
    "median_taxes_house = data.loc[data['type_of_property'] == 'House']['rates_and_taxes'].median()\n",
    "median_taxes_appartment = data.loc[data['type_of_property'] == 'Apartment/Flat']['rates_and_taxes'].median()\n",
    "median_taxes_townHouse = data.loc[data['type_of_property'] == 'Townhouse']['rates_and_taxes'].median()\n",
    "\n",
    "data.loc[data['type_of_property'].eq('Apartment/Flat') & data['rates_and_taxes'].isna(), 'rates_and_taxes'] = median_taxes_appartment \n",
    "data.loc[data['type_of_property'].eq('Townhouse') & data['rates_and_taxes'].isna(), 'rates_and_taxes'] = median_taxes_townHouse \n",
    "data.loc[data['type_of_property'].eq('House') & data['rates_and_taxes'].isna(), 'rates_and_taxes'] = median_taxes_house \n"
   ]
  },
  {
   "cell_type": "markdown",
   "metadata": {},
   "source": [
    "##### Filling NaN of parkings, pets allowed"
   ]
  },
  {
   "cell_type": "code",
   "execution_count": 19,
   "metadata": {},
   "outputs": [],
   "source": [
    "data.loc[data['parking_space'].isna(), 'parking_space'] = 0\n",
    "data.loc[data['pets_allowed'].isna(), 'pets_allowed'] = 0"
   ]
  },
  {
   "cell_type": "markdown",
   "metadata": {},
   "source": [
    "##### Transform bedrooms and bathrooms NaN to median"
   ]
  },
  {
   "cell_type": "code",
   "execution_count": 20,
   "metadata": {},
   "outputs": [],
   "source": [
    "data.loc[data['type_of_property'].eq('Apartment/Flat') & data['bedrooms'].isna(), 'bedrooms'] = data.loc[data['type_of_property'] == 'Apartment/Flat']['bedrooms'].median()\n",
    "data.loc[data['type_of_property'].eq('House') & data['bedrooms'].isna(), 'bedrooms'] = data.loc[data['type_of_property'] == 'House']['bedrooms'].median()\n",
    "data.loc[data['type_of_property'].eq('Townhouse') & data['bedrooms'].isna(), 'bedrooms'] = data.loc[data['type_of_property'] == 'Townhouse']['bedrooms'].median()\n",
    "\n",
    "median_bathrooms_house = data.loc[data['type_of_property'] == 'House']['bathrooms'].median()\n",
    "median_bathrooms_appartment = data.loc[data['type_of_property'] == 'Apartment/Flat']['bathrooms'].median()\n",
    "median_bathrooms_townhouse = data.loc[data['type_of_property'] == 'Townhouse']['bathrooms'].median()\n",
    "\n",
    "data.loc[data['type_of_property'].eq('House') & data['bathrooms'].isna(), 'bathrooms'] = median_bathrooms_house\n",
    "data.loc[data['type_of_property'].eq('Apartment/Flat') & data['bathrooms'].isna(), 'bathrooms'] = median_bathrooms_appartment\n",
    "data.loc[data['type_of_property'].eq('Townhouse') & data['bathrooms'].isna(), 'bathrooms'] = median_bathrooms_townhouse"
   ]
  },
  {
   "cell_type": "markdown",
   "metadata": {},
   "source": [
    "##### Transform erf size and floor size NaN to median"
   ]
  },
  {
   "cell_type": "code",
   "execution_count": 21,
   "metadata": {},
   "outputs": [],
   "source": [
    "data.loc[data['type_of_property'].eq('Apartment/Flat') & data['erf_size'].isna(), 'erf_size'] = data.loc[data['type_of_property'] == 'Apartment/Flat']['floor_size']\n",
    "data.loc[data['type_of_property'].eq('Apartment/Flat') & data['erf_size'].isna() & data['floor_size'].isna() , 'erf_size'] = data.loc[data['type_of_property'] == 'Apartment/Flat']['erf_size'].median()\n",
    "data.loc[data['type_of_property'].eq('House') & data['erf_size'].isna(), 'erf_size'] = data.loc[data['type_of_property'] == 'House']['erf_size'].median()\n",
    "data.loc[data['type_of_property'].eq('Townhouse') & data['erf_size'].isna(), 'erf_size'] = data.loc[data['type_of_property'] == 'Townhouse']['erf_size'].median()\n",
    "data.loc[data['type_of_property'].eq('Apartment/Flat') & data['floor_size'].isna(), 'floor_size'] = data.loc[data['type_of_property'] == 'Apartment/Flat']['erf_size']\n",
    "data.loc[data['type_of_property'].eq('Apartment/Flat') & data['floor_size'].isna() & data['erf_size'].isna() , 'floor_size'] = data.loc[data['type_of_property'] == 'Apartment/Flat']['floor_size'].median()\n",
    "data.loc[data['type_of_property'].eq('House') & data['floor_size'].isna(), 'floor_size'] = data.loc[data['type_of_property'] == 'House']['floor_size'].median()\n",
    "data.loc[data['type_of_property'].eq('Townhouse') & data['floor_size'].isna(), 'floor_size'] = data.loc[data['type_of_property'] == 'Townhouse']['floor_size'].median()\n"
   ]
  },
  {
   "cell_type": "markdown",
   "metadata": {},
   "source": [
    "##### Encoding"
   ]
  },
  {
   "cell_type": "code",
   "execution_count": 22,
   "metadata": {},
   "outputs": [],
   "source": [
    "data[\"type_of_property\"] = data[\"type_of_property\"].replace([\"Apartment/Flat\", \"House\", \"Townhouse\"], [0,1,2])"
   ]
  },
  {
   "cell_type": "markdown",
   "metadata": {},
   "source": [
    "##### Function for Finding best model parameters"
   ]
  },
  {
   "cell_type": "code",
   "execution_count": 23,
   "metadata": {},
   "outputs": [],
   "source": [
    "def testModel(model , cv ,x , y , params):\n",
    "    grid = GridSearchCV(estimator=model , param_grid=params , cv = cv )\n",
    "    grid.fit(x , y)\n",
    "    return grid.best_params_\n"
   ]
  },
  {
   "cell_type": "markdown",
   "metadata": {},
   "source": [
    "##### Setting X and y"
   ]
  },
  {
   "cell_type": "code",
   "execution_count": 24,
   "metadata": {},
   "outputs": [],
   "source": [
    "X = data.drop([\"price\"], axis=1)\n",
    "y = data[\"price\"]"
   ]
  },
  {
   "cell_type": "markdown",
   "metadata": {},
   "source": [
    "##### Normalization"
   ]
  },
  {
   "cell_type": "markdown",
   "metadata": {},
   "source": [
    "from sklearn.preprocessing import MinMaxScaler\n",
    "X = MinMaxScaler().fit_transform(X)"
   ]
  },
  {
   "cell_type": "markdown",
   "metadata": {},
   "source": [
    "#### Splitting data"
   ]
  },
  {
   "cell_type": "code",
   "execution_count": 25,
   "metadata": {},
   "outputs": [],
   "source": [
    "X_train, X_test, y_train, y_test = train_test_split(X, y, test_size=0.2)"
   ]
  },
  {
   "cell_type": "markdown",
   "metadata": {},
   "source": [
    "#### Testing model"
   ]
  },
  {
   "cell_type": "markdown",
   "metadata": {},
   "source": [
    "##### Random Forest Regressor"
   ]
  },
  {
   "cell_type": "code",
   "execution_count": 26,
   "metadata": {},
   "outputs": [
    {
     "data": {
      "text/plain": [
       "{'max_features': 0.3, 'n_estimators': 400}"
      ]
     },
     "execution_count": 26,
     "metadata": {},
     "output_type": "execute_result"
    }
   ],
   "source": [
    "randomForst_model = RandomForestRegressor()\n",
    "cv = 5\n",
    "params = {'n_estimators': [200 , 300 , 400, 500 , 600],\n",
    "            'max_features':[0.1 , 0.3 , 0.6]\n",
    "        }\n",
    "\n",
    "testModel(randomForst_model , cv ,X_train , y_train, params)"
   ]
  },
  {
   "cell_type": "code",
   "execution_count": 36,
   "metadata": {},
   "outputs": [
    {
     "data": {
      "text/plain": [
       "0.6170853950816841"
      ]
     },
     "execution_count": 36,
     "metadata": {},
     "output_type": "execute_result"
    }
   ],
   "source": [
    "randomForst_model = RandomForestRegressor(n_estimators=400 , max_features = 0.3)\n",
    "randomForst_model.fit(X_train, y_train)\n",
    "randomForest_score = randomForst_model.score(X_test, y_test)\n",
    "randomForest_score"
   ]
  },
  {
   "cell_type": "markdown",
   "metadata": {},
   "source": [
    "##### Linear Regression"
   ]
  },
  {
   "cell_type": "code",
   "execution_count": 37,
   "metadata": {},
   "outputs": [
    {
     "data": {
      "text/plain": [
       "{'fit_intercept': True, 'n_jobs': 1}"
      ]
     },
     "execution_count": 37,
     "metadata": {},
     "output_type": "execute_result"
    }
   ],
   "source": [
    "Linear_model = LinearRegression()\n",
    "cv = 5\n",
    "params = {'fit_intercept': [True , False],\n",
    "          'n_jobs':[1,2,3]\n",
    "        }\n",
    "\n",
    "testModel(Linear_model , cv ,X_train , y_train, params)"
   ]
  },
  {
   "cell_type": "code",
   "execution_count": 41,
   "metadata": {},
   "outputs": [
    {
     "data": {
      "text/plain": [
       "-4.591291759014796"
      ]
     },
     "execution_count": 41,
     "metadata": {},
     "output_type": "execute_result"
    }
   ],
   "source": [
    "Linear_model = LinearRegression(fit_intercept=True , n_jobs=1)\n",
    "Linear_model.fit(X_train , y_train)\n",
    "LinearRegression_score = Linear_model.score(X_test , y_test)\n",
    "LinearRegression_score"
   ]
  },
  {
   "cell_type": "markdown",
   "metadata": {},
   "source": [
    "Gradient Boosting Regressor"
   ]
  },
  {
   "cell_type": "code",
   "execution_count": 42,
   "metadata": {},
   "outputs": [
    {
     "data": {
      "text/plain": [
       "{'n_estimators': 200}"
      ]
     },
     "execution_count": 42,
     "metadata": {},
     "output_type": "execute_result"
    }
   ],
   "source": [
    "GradientBoost_model = GradientBoostingRegressor()\n",
    "cv = 5\n",
    "params = {'n_estimators': [200 , 300 , 400, 500 , 600]\n",
    "        }\n",
    "\n",
    "testModel(GradientBoost_model , cv ,X_train , y_train, params)"
   ]
  },
  {
   "cell_type": "code",
   "execution_count": 43,
   "metadata": {},
   "outputs": [
    {
     "data": {
      "text/plain": [
       "0.6783540970151696"
      ]
     },
     "execution_count": 43,
     "metadata": {},
     "output_type": "execute_result"
    }
   ],
   "source": [
    "GradientBoost_model = GradientBoostingRegressor(n_estimators=200)\n",
    "GradientBoost_model.fit(X_train , y_train)\n",
    "GradientBooster_score = GradientBoost_model.score(X_test , y_test)\n",
    "GradientBooster_score"
   ]
  },
  {
   "cell_type": "markdown",
   "metadata": {},
   "source": [
    "##### Choosing Best Model"
   ]
  },
  {
   "cell_type": "code",
   "execution_count": 44,
   "metadata": {},
   "outputs": [],
   "source": [
    "def chooseModel(LinearRegression_score , GradientBooster_score , randomForest_score):\n",
    "    if (LinearRegression_score <= GradientBooster_score):\n",
    "        if (GradientBooster_score <= randomForest_score):\n",
    "            model = randomForst_model\n",
    "        else:\n",
    "            model = GradientBoost_model\n",
    "    else:\n",
    "        if (LinearRegression_score <= randomForest_score):\n",
    "            model = randomForst_model\n",
    "        else:\n",
    "            model = Linear_model\n",
    "    return model"
   ]
  },
  {
   "cell_type": "code",
   "execution_count": 45,
   "metadata": {},
   "outputs": [
    {
     "data": {
      "text/plain": [
       "GradientBoostingRegressor(n_estimators=200)"
      ]
     },
     "execution_count": 45,
     "metadata": {},
     "output_type": "execute_result"
    }
   ],
   "source": [
    "model = chooseModel(LinearRegression_score , GradientBooster_score , randomForest_score)\n",
    "model"
   ]
  },
  {
   "cell_type": "markdown",
   "metadata": {},
   "source": [
    "##### Pipeline"
   ]
  },
  {
   "cell_type": "code",
   "execution_count": 49,
   "metadata": {},
   "outputs": [
    {
     "data": {
      "text/plain": [
       "0.688183354890523"
      ]
     },
     "execution_count": 49,
     "metadata": {},
     "output_type": "execute_result"
    }
   ],
   "source": [
    "#transformer  = make_column_transformer(( MinMaxScaler(), ['bedrooms', 'bathrooms' ,'Type_of_property','erf_size','floor_size','rates_and_taxes', 'parking_space',' pets_allowed']))\n",
    "transformer_features = ['bedrooms', 'bathrooms' ,'type_of_property','erf_size','floor_size','rates_and_taxes', 'parking_space','pets_allowed']\n",
    "transformer_pipeline = make_pipeline(MinMaxScaler())\n",
    "preprocessor = make_column_transformer((transformer_pipeline,transformer_features))\n",
    "model = make_pipeline(preprocessor, \n",
    "                     GradientBoostingRegressor(n_estimators=200)\n",
    "                     )\n",
    "model.fit(X_train , y_train)\n",
    "model.score(X_test , y_test) "
   ]
  },
  {
   "cell_type": "markdown",
   "metadata": {},
   "source": [
    "#### Creating model"
   ]
  },
  {
   "cell_type": "code",
   "execution_count": 35,
   "metadata": {},
   "outputs": [
    {
     "ename": "FileNotFoundError",
     "evalue": "[Errno 2] No such file or directory: './model/johannesburg_model.pkl'",
     "output_type": "error",
     "traceback": [
      "\u001b[0;31m---------------------------------------------------------------------------\u001b[0m",
      "\u001b[0;31mFileNotFoundError\u001b[0m                         Traceback (most recent call last)",
      "\u001b[0;32m<ipython-input-35-2737d38f66cc>\u001b[0m in \u001b[0;36m<module>\u001b[0;34m\u001b[0m\n\u001b[0;32m----> 1\u001b[0;31m \u001b[0;32mwith\u001b[0m \u001b[0mopen\u001b[0m\u001b[0;34m(\u001b[0m\u001b[0;34m\"./model/johannesburg_model.pkl\"\u001b[0m\u001b[0;34m,\u001b[0m\u001b[0;34m\"wb\"\u001b[0m\u001b[0;34m)\u001b[0m \u001b[0;32mas\u001b[0m \u001b[0mfile\u001b[0m\u001b[0;34m:\u001b[0m\u001b[0;34m\u001b[0m\u001b[0;34m\u001b[0m\u001b[0m\n\u001b[0m\u001b[1;32m      2\u001b[0m     \u001b[0mpickle\u001b[0m\u001b[0;34m.\u001b[0m\u001b[0mdump\u001b[0m\u001b[0;34m(\u001b[0m\u001b[0mmodel\u001b[0m\u001b[0;34m,\u001b[0m \u001b[0mfile\u001b[0m\u001b[0;34m)\u001b[0m\u001b[0;34m\u001b[0m\u001b[0;34m\u001b[0m\u001b[0m\n",
      "\u001b[0;31mFileNotFoundError\u001b[0m: [Errno 2] No such file or directory: './model/johannesburg_model.pkl'"
     ]
    }
   ],
   "source": [
    "with open(\"./model/johannesburg_model.pkl\",\"wb\") as file:\n",
    "    pickle.dump(model, file) "
   ]
  }
 ],
 "metadata": {
  "interpreter": {
   "hash": "b3ba2566441a7c06988d0923437866b63cedc61552a5af99d1f4fb67d367b25f"
  },
  "kernelspec": {
   "display_name": "Python 3",
   "language": "python",
   "name": "python3"
  },
  "language_info": {
   "codemirror_mode": {
    "name": "ipython",
    "version": 3
   },
   "file_extension": ".py",
   "mimetype": "text/x-python",
   "name": "python",
   "nbconvert_exporter": "python",
   "pygments_lexer": "ipython3",
   "version": "3.8.8"
  }
 },
 "nbformat": 4,
 "nbformat_minor": 2
}
