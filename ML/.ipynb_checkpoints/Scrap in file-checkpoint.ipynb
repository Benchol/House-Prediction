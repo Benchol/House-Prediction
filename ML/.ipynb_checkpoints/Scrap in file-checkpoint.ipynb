{
 "cells": [
  {
   "cell_type": "code",
   "execution_count": 1,
   "id": "1ea5dd31",
   "metadata": {},
   "outputs": [],
   "source": [
    "import requests \n",
    "from bs4 import BeautifulSoup\n",
    "import pandas as pd\n",
    "import numpy as np\n",
    "import time\n",
    "import math"
   ]
  },
  {
   "cell_type": "code",
   "execution_count": 2,
   "id": "64cce7e7",
   "metadata": {},
   "outputs": [],
   "source": [
    "def get_request_element(requests, url):\n",
    "    return requests.get(url)"
   ]
  },
  {
   "cell_type": "code",
   "execution_count": 3,
   "id": "ea05b6b0",
   "metadata": {},
   "outputs": [],
   "source": [
    "def make_url(url):\n",
    "    return f\"https://www.property24.com{url}\""
   ]
  },
  {
   "cell_type": "code",
   "execution_count": 4,
   "id": "da5f039b",
   "metadata": {},
   "outputs": [],
   "source": [
    "def save_url(list_url, url):\n",
    "    if url not in list_url:\n",
    "        list_url.append(url)\n",
    "        \n",
    "    return list_url"
   ]
  },
  {
   "cell_type": "code",
   "execution_count": 5,
   "id": "a4ab1b9d",
   "metadata": {},
   "outputs": [],
   "source": [
    "def def_url_page(page):\n",
    "    return f\"https://www.property24.com/for-sale/johannesburg/gauteng/100/p{page}\""
   ]
  },
  {
   "cell_type": "code",
   "execution_count": 6,
   "id": "9b5f1e0d",
   "metadata": {},
   "outputs": [],
   "source": [
    "def list_trap(soup):\n",
    "    traps = []\n",
    "    dot_list = []\n",
    "    accolade_list = []\n",
    "    container = soup.find('div', class_='p24_results')\n",
    "    trap = str(container.find('style'))\n",
    "    for pos, char in enumerate(trap):\n",
    "        if char == '.':\n",
    "            if pos not in dot_list:\n",
    "                dot_list.append(pos)\n",
    "        \n",
    "        if char == '{':\n",
    "            if pos not in accolade_list:\n",
    "                accolade_list.append(pos)\n",
    "                \n",
    "    for i in range(len(accolade_list)):\n",
    "        el = trap[dot_list[i]+1:accolade_list[i]]\n",
    "        el = el[:el.find('\\r')]\n",
    "#         print(el)\n",
    "        traps.append(el)\n",
    "        \n",
    "    return traps"
   ]
  },
  {
   "cell_type": "code",
   "execution_count": 7,
   "id": "6a952952",
   "metadata": {},
   "outputs": [],
   "source": [
    "begin_page = 1\n",
    "end_page = 1"
   ]
  },
  {
   "cell_type": "code",
   "execution_count": 8,
   "id": "1452a261",
   "metadata": {},
   "outputs": [],
   "source": [
    "list_url_page = []"
   ]
  },
  {
   "cell_type": "code",
   "execution_count": 9,
   "id": "0bc4964c",
   "metadata": {},
   "outputs": [],
   "source": [
    "list_houses = []"
   ]
  },
  {
   "cell_type": "markdown",
   "id": "e9ff9271",
   "metadata": {},
   "source": [
    "### Recuperation de tous les infos cachés\n"
   ]
  },
  {
   "cell_type": "code",
   "execution_count": 10,
   "id": "0df7f37a",
   "metadata": {},
   "outputs": [],
   "source": [
    "def scrap_hidden_element(house, soup):\n",
    "#     time.sleep(10)\n",
    "    print('scrapp hidden element...')\n",
    "    features = soup.find_all('div', class_='p24_propertyOverviewKey')\n",
    "    features_value = soup.find_all('div', class_='p24_info')\n",
    "    new_features = []\n",
    "    for feature in features:\n",
    "        new_features.append(feature.text.strip())\n",
    "        if (feature.text.strip() == 'Street Address'):\n",
    "            index = new_features.index('Street Address')\n",
    "            features_value.insert(index, 'Pad d_addresse')\n",
    "    \n",
    "    length = len(features)\n",
    "#     print('Len features = ', len(features))\n",
    "#     print('len values = ', len(features_value))\n",
    "    for i in range(length - 1):\n",
    "        key = features[i].text.strip()\n",
    "        if (type(features_value[i]) != str):\n",
    "            value = features_value[i].text.strip().replace(' ', '')\n",
    "            print(key + ' : ' + value)\n",
    "    \n",
    "        if (key == 'Rates and Taxes'):\n",
    "            house[str(key)] = value\n",
    "            \n",
    "        elif (key == 'Levies'):\n",
    "            house[str(key)] = value\n",
    "            \n",
    "        elif (key == 'Pets Allowed'):\n",
    "            if (value == 'Yes'):\n",
    "                house[str(key)] = 1\n",
    "            elif(value == 'No'):\n",
    "                house[str(key)] = 0\n",
    "                \n",
    "        elif (key == 'Erf Size'):\n",
    "            house[str(key)] = value\n",
    "            \n",
    "        elif (key == 'Floor Size'):\n",
    "            house[str(key)] = value\n",
    "            \n",
    "        elif (key == 'Type of Property'):\n",
    "            house[str(key)] = value\n",
    "            \n",
    "    if ('Pool' in features):\n",
    "        print('caca')\n",
    "            \n",
    "    if ('Pool' in new_features or 'Pools' in new_features):\n",
    "        print('Pool is in features')\n",
    "        house['Pool'] = 1\n",
    "    else:\n",
    "        print('Pool is not in features')\n",
    "        house['Pool'] = 0\n",
    "        "
   ]
  },
  {
   "cell_type": "markdown",
   "id": "80e0bd96",
   "metadata": {},
   "source": [
    "### Recuperation de tous les elements visibles"
   ]
  },
  {
   "cell_type": "code",
   "execution_count": 11,
   "id": "a0694ff8",
   "metadata": {},
   "outputs": [],
   "source": [
    "def scrap_visible_element(house, soup):\n",
    "    \n",
    "#     print(soup)\n",
    "#     time.sleep(5)\n",
    "          \n",
    "    if (soup.find('div', class_='p24_price') != None):\n",
    "        prices = soup.find_all('div', class_='p24_price')\n",
    "        if (len(prices) > 1):\n",
    "#             print('First element price : ', prices[1])\n",
    "            house['price'] = prices[1].text.strip()\n",
    "#             print('Price : ', prices[1].text.strip().replace(\" \", \"\").replace(\"R\", \"\"))\n",
    "        else:\n",
    "#             print('First element price : ', prices[0])\n",
    "            house['price'] = prices[0].text.strip()\n",
    "#             print('Price : ', prices[0].text.strip().replace(\" \", \"\").replace(\"R\", \"\"))\n",
    "    \n",
    "    if (soup.find('li', title='Bedrooms') != None):\n",
    "        house['bedrooms'] = soup.find('li', title='Bedrooms').text.strip()\n",
    "\n",
    "    if (soup.find('li', title='Bathrooms') != None):\n",
    "        house['bathrooms'] = soup.find('li', title='Bathrooms').text.strip()\n",
    "\n",
    "    if (soup.find('li', title='Parking Spaces') != None):\n",
    "        house['parking space'] = soup.find('li', title='Parking Spaces').text.strip()               \n"
   ]
  },
  {
   "cell_type": "markdown",
   "id": "9fdb3197",
   "metadata": {},
   "source": [
    "### Recuperation de tous les liens d' un element dans la liste de chaque page"
   ]
  },
  {
   "cell_type": "code",
   "execution_count": 12,
   "id": "f68e2139",
   "metadata": {
    "scrolled": false
   },
   "outputs": [
    {
     "name": "stdout",
     "output_type": "stream",
     "text": [
      "Debut du recuperation de tous liens de chaque element\n",
      "Page :  1\n",
      "Fin du recuperation de tous les liens de chaque element\n"
     ]
    }
   ],
   "source": [
    "print('Debut du recuperation de tous liens de chaque element')\n",
    "while begin_page <= end_page:\n",
    "    print('Page : ', begin_page)\n",
    "    #definition de l' url du page courant\n",
    "    url_page = def_url_page(begin_page)\n",
    "    \n",
    "    #faire une requete de la page\n",
    "    response_page = get_request_element(requests, url_page)\n",
    "    \n",
    "    #attendre 5sec pour contourner le captcha\n",
    "    time.sleep(5)\n",
    "    \n",
    "    # traitement de la page avec bs4\n",
    "    soup_page = BeautifulSoup(response_page.text, \"html.parser\")\n",
    "    \n",
    "    #recuperation de tous les link contenant le lien de chaque element voulu avec repetition\n",
    "    items = soup_page.find_all('div', class_='js_resultTile')\n",
    "    traps = list_trap(soup_page)\n",
    "    for item in items:\n",
    "        value = []\n",
    "        value = np.intersect1d(item['class'], traps)\n",
    "        \n",
    "        if (len(value) == 0):\n",
    "            link = item.find('a').get('href')\n",
    "            url = make_url(link)\n",
    "            list_url_page = save_url(list_url_page, url)\n",
    "            \n",
    "        \n",
    "    #On change de page\n",
    "    begin_page += 1\n",
    "\n",
    "print('Fin du recuperation de tous les liens de chaque element')"
   ]
  },
  {
   "cell_type": "markdown",
   "id": "25e52729",
   "metadata": {},
   "source": [
    "### main "
   ]
  },
  {
   "cell_type": "code",
   "execution_count": 13,
   "id": "42b850f5",
   "metadata": {},
   "outputs": [
    {
     "name": "stdout",
     "output_type": "stream",
     "text": [
      "['https://www.property24.com/for-sale/cosmo-city/roodepoort/gauteng/11859/110981574?plId=968589&plt=2', 'https://www.property24.com/for-sale/lehae/johannesburg/gauteng/17396/109240455?plId=970231&plt=3', 'https://www.property24.com/for-sale/benrose/johannesburg/gauteng/4199/110985074?plId=970176&plt=3', 'https://www.property24.com/for-sale/turffontein/johannesburg/gauteng/4337/110984398?plId=970179&plt=3', 'https://www.property24.com/for-sale/lombardy-east/johannesburg/gauteng/5282/110770733?plId=970171&plt=3', 'https://www.property24.com/for-sale/lombardy-east/johannesburg/gauteng/5282/110824010?plId=970170&plt=3', 'https://www.property24.com/for-sale/alveda/johannesburg/gauteng/11768/110985593?plId=969481&plt=3', 'https://www.property24.com/for-sale/cheltondale/johannesburg/gauteng/4343/110472821?plId=969036&plt=3', 'https://www.property24.com/for-sale/mondeor/johannesburg/gauteng/5333/110962633?plId=968923&plt=3', 'https://www.property24.com/for-sale/highlands-north/johannesburg/gauteng/4340/110985502?plId=968815&plt=3', 'https://www.property24.com/for-sale/olifantsvlei/johannesburg/gauteng/3870/110956343?plId=968690&plt=3', 'https://www.property24.com/for-sale/dunkeld-west/johannesburg/gauteng/5825/110980367?plId=968347&plt=3', 'https://www.property24.com/for-sale/waverley/johannesburg/gauteng/12704/110686036?plId=968089&plt=3', 'https://www.property24.com/for-sale/cyrildene/johannesburg/gauteng/5922/110962127?plId=967645&plt=3', 'https://www.property24.com/for-sale/rosebank/johannesburg/gauteng/5846/110976930?plId=967570&plt=3', 'https://www.property24.com/for-sale/johannesburg-central/johannesburg/gauteng/3854/110949326?plId=967233&plt=3', 'https://www.property24.com/for-sale/kibler-park/johannesburg/gauteng/5326/110814178?plId=967165&plt=3', 'https://www.property24.com/for-sale/sophiatown/johannesburg/gauteng/13857/110549431?plId=966722&plt=3', 'https://www.property24.com/for-sale/houghton-estate/johannesburg/gauteng/5926/108083134?plId=966698&plt=3', 'https://www.property24.com/for-sale/roseacre/johannesburg/gauteng/10626/110969473?plId=966557&plt=3', 'https://www.property24.com/for-sale/olifantsvlei/johannesburg/gauteng/3870/110935963?plId=965640&plt=3', 'https://www.property24.com/new-developments-for-sale/kensington/johannesburg/gauteng/bedfordview-frontier/4217/2652']\n"
     ]
    }
   ],
   "source": [
    "print(list_url_page)"
   ]
  },
  {
   "cell_type": "code",
   "execution_count": 14,
   "id": "4c5f00ef",
   "metadata": {
    "scrolled": false
   },
   "outputs": [
    {
     "name": "stdout",
     "output_type": "stream",
     "text": [
      "New url :  https://www.property24.com/for-sale/cosmo-city/roodepoort/gauteng/11859/110981574?plId=968589&plt=2\n",
      "scrapp hidden element...\n",
      "Listing Number : 110981574\n",
      "Type of Property : House\n",
      "Description : SingleStorey,NewDevelopment\n",
      "Lifestyle : Estate,SecurityEstate\n",
      "Listing Date : 22February2022\n",
      "Floor Size : 89m²\n",
      "Levies : R900\n",
      "No Transfer Duty : Yes\n",
      "Rates and Taxes : R750\n",
      "Pets Allowed : Yes\n",
      "Bedrooms : 3\n",
      "Bedroom 1 : TiledFloors,CurtainRails,Built-inCupboards,TwinBed\n",
      "Bedroom 2 : TiledFloors,CurtainRails,Built-inCupboards,QueenBed\n",
      "Bedroom 3 : TiledFloors,CurtainRails,Built-inCupboards,DoubleBed\n",
      "Bathrooms : 2\n",
      "Bathroom 1 : TiledFloors,CurtainRails,Bath,ToiletandBasin\n",
      "Bathroom 2 : TiledFloors,CurtainRails,Shower,ToiletandBasin\n",
      "Kitchen : BreakfastNook,Stove,WashingMachineConnection,TiledFloors,Built-inCupboards,UnderCounterOven\n",
      "Lounge : Patio,TiledFloors,CurtainRails\n",
      "Parking : 2\n",
      "Parking 1 : Carport\n",
      "Parking 2 : Carport\n",
      "Gardens : 1\n",
      "Standalone Building : Yes\n",
      "Security : TotallyFenced,SecurityGate,24HourResponse,BurglarBars,24HourAccess,Guard,PerimeterWall,Safe\n",
      "Nearby Public Transport : Bus,MinibusTaxi\n",
      "Pool is not in features\n",
      "{'price': 'R 1 389 313', 'bedrooms': '3', 'bathrooms': '2', 'parking space': '2', 'Type of Property': 'House', 'Floor Size': '89m²', 'Levies': 'R900', 'Rates and Taxes': 'R750', 'Pets Allowed': 1, 'Pool': 0}\n",
      "New url :  https://www.property24.com/for-sale/lehae/johannesburg/gauteng/17396/109240455?plId=970231&plt=3\n",
      "scrapp hidden element...\n",
      "Listing Number : 109240455\n",
      "Type of Property : House\n",
      "Description : NewDevelopment\n",
      "Listing Date : 16October2020\n",
      "Erf Size : 200m²\n",
      "Floor Size : 50m²\n",
      "Levies : R150\n",
      "No Transfer Duty : Yes\n",
      "Rates and Taxes : R150\n",
      "Pets Allowed : Yes\n",
      "Coverage : 25%\n",
      "Bedrooms : 2\n",
      "Bedroom 1 : CurtainRails\n",
      "Bedroom 2 : CurtainRails\n",
      "Bathroom : CurtainRails,Bath,ToiletandBasin\n",
      "Kitchen : WashingMachineConnection,CurtainRails\n",
      "Lounge : CurtainRails,TVPort\n",
      "Parking : 1\n",
      "Gardens : 1\n",
      "Style : Modern\n",
      "Facing : North\n",
      "Roof : Tile\n",
      "Wall : Plaster,Face-brick\n",
      "Window : Aluminium\n",
      "Standalone Building : Yes\n",
      "Special Features : SolarGeyser\n",
      "Nearby Public Transport : Bus,MinibusTaxi\n",
      "Wheelchair Accessible : Yes\n",
      "Generator : No\n",
      "Pool is not in features\n",
      "{'price': 'R 689 000', 'bedrooms': '2', 'bathrooms': '1', 'parking space': '1', 'Type of Property': 'House', 'Erf Size': '200m²', 'Floor Size': '50m²', 'Levies': 'R150', 'Rates and Taxes': 'R150', 'Pets Allowed': 1, 'Pool': 0}\n",
      "New url :  https://www.property24.com/for-sale/benrose/johannesburg/gauteng/4199/110985074?plId=970176&plt=3\n",
      "scrapp hidden element...\n",
      "Listing Number : 110985074\n",
      "Type of Property : IndustrialProperty\n",
      "Description : Warehouse\n",
      "Listing Date : 23February2022\n",
      "Erf Size : 4500m²\n",
      "Rates and Taxes : R9500\n",
      "Pool is not in features\n",
      "{'price': 'POA', 'Type of Property': 'IndustrialProperty', 'Erf Size': '4500m²', 'Rates and Taxes': 'R9500', 'Pool': 0}\n",
      "New url :  https://www.property24.com/for-sale/turffontein/johannesburg/gauteng/4337/110984398?plId=970179&plt=3\n",
      "scrapp hidden element...\n",
      "Listing Number : 110984398\n",
      "Type of Property : CommercialProperty\n",
      "Listing Date : 23February2022\n",
      "Erf Size : 495m²\n",
      "Pool is not in features\n",
      "{'price': 'POA', 'Type of Property': 'CommercialProperty', 'Erf Size': '495m²', 'Pool': 0}\n",
      "New url :  https://www.property24.com/for-sale/lombardy-east/johannesburg/gauteng/5282/110770733?plId=970171&plt=3\n",
      "scrapp hidden element...\n",
      "Listing Number : 110770733\n",
      "Type of Property : House\n",
      "Description : SingleStorey\n",
      "Listing Date : 14December2021\n",
      "Rates and Taxes : R1200\n",
      "Bedrooms : 4\n",
      "Bathrooms : 3\n",
      "Lounge : Ensuite\n",
      "Dining Room : 2\n",
      "Parking : 1\n",
      "Pool is not in features\n",
      "{'price': 'R 1 800 000', 'bedrooms': '4', 'bathrooms': '3', 'parking space': '15', 'Type of Property': 'House', 'Rates and Taxes': 'R1200', 'Pool': 0}\n",
      "New url :  https://www.property24.com/for-sale/lombardy-east/johannesburg/gauteng/5282/110824010?plId=970170&plt=3\n",
      "scrapp hidden element...\n",
      "Listing Number : 110824010\n",
      "Type of Property : House\n",
      "Description : SingleStorey\n",
      "Listing Date : 12January2022\n",
      "Erf Size : 2024m²\n",
      "Floor Size : 340m²\n",
      "Rates and Taxes : R1000\n",
      "Pets Allowed : Yes\n",
      "Bedrooms : 4\n",
      "Bathrooms : 4\n",
      "Kitchen : GuestToilet,Ensuite\n",
      "Domestic Rooms : 1\n",
      "Reception Rooms : 1\n",
      "Lounge : 1\n",
      "Dining Room : 2\n",
      "Family/TV Room : 1\n",
      "Entrance Hall : 1\n",
      "Garage : 1\n",
      "Parking : 2\n",
      "Garden : 12\n",
      "Pool : 12\n",
      "Outbuilding : \n",
      "Security : 1\n",
      "Security : 1\n",
      "Pool is not in features\n",
      "{'price': 'R 2 400 000', 'bedrooms': '4', 'bathrooms': '4', 'parking space': '14', 'Type of Property': 'House', 'Erf Size': '2024m²', 'Floor Size': '340m²', 'Rates and Taxes': 'R1000', 'Pets Allowed': 1, 'Pool': 0}\n",
      "New url :  https://www.property24.com/for-sale/alveda/johannesburg/gauteng/11768/110985593?plId=969481&plt=3\n",
      "scrapp hidden element...\n",
      "Listing Number : 110985593\n",
      "Type of Property : House\n",
      "Listing Date : 23February2022\n",
      "Erf Size : 300m²\n",
      "Rates and Taxes : R500\n",
      "Pets Allowed : Yes\n",
      "Bedrooms : 2\n",
      "Bathrooms : 1\n",
      "Kitchens : 1\n",
      "Lounges : 1\n",
      "Pool is not in features\n",
      "{'price': 'R 500 000', 'bedrooms': '2', 'bathrooms': '1', 'Type of Property': 'House', 'Erf Size': '300m²', 'Rates and Taxes': 'R500', 'Pets Allowed': 1, 'Pool': 0}\n",
      "New url :  https://www.property24.com/for-sale/cheltondale/johannesburg/gauteng/4343/110472821?plId=969036&plt=3\n",
      "scrapp hidden element...\n",
      "Listing Number : 110472821\n",
      "Type of Property : Apartment/Flat\n",
      "Listing Date : 27September2021\n",
      "Bedroom : 1\n",
      "Bathrooms : 1\n",
      "Garage : 1\n",
      "Garden : Yes\n",
      "Pool : Yes\n",
      "Pool is not in features\n",
      "{'price': 'R 790 000', 'bedrooms': '1', 'bathrooms': '1', 'parking space': '1', 'Type of Property': 'Apartment/Flat', 'Pool': 0}\n",
      "New url :  https://www.property24.com/for-sale/mondeor/johannesburg/gauteng/5333/110962633?plId=968923&plt=3\n",
      "scrapp hidden element...\n",
      "Listing Number : 110962633\n",
      "Type of Property : House\n",
      "Description : MultiStorey,NewDevelopment\n",
      "Lifestyle : Complex,Suburban\n",
      "Listing Date : 17February2022\n",
      "Floor Size : 51m²\n",
      "Levies : R1000\n",
      "No Transfer Duty : Yes\n",
      "Rates and Taxes : R750\n",
      "Pets Allowed : No\n",
      "Bedrooms : 2\n",
      "Bedroom 1 : TiledFloors,CurtainRails,Built-inCupboards,SingleBed\n",
      "Bedroom 2 : TiledFloors,CurtainRails,Built-inCupboards,DoubleBed\n",
      "Bathroom : TiledFloors,CurtainRails,Bath,ToiletandBasin\n",
      "Kitchen : Stove(Oven&Hob),WashingMachineConnection,TiledFloors,CurtainRails,Built-inCupboards\n",
      "Lounge : TiledFloors,CurtainRails\n",
      "Parking : SecureParking\n",
      "Style : Conventional,Modern,OpenPlan\n",
      "Facing : North\n",
      "Roof : Tile\n",
      "Wall : Face-brick\n",
      "Window : Steel\n",
      "Standalone Building : No\n",
      "Nearby Public Transport : Bus,MinibusTaxi\n",
      "Internet Access : Fibre\n",
      "Wheelchair Accessible : No\n",
      "Generator : No\n",
      "Pool is not in features\n",
      "{'price': 'R 665 000', 'bedrooms': '2', 'bathrooms': '1', 'parking space': '1', 'Type of Property': 'House', 'Floor Size': '51m²', 'Levies': 'R1000', 'Rates and Taxes': 'R750', 'Pets Allowed': 0, 'Pool': 0}\n",
      "New url :  https://www.property24.com/for-sale/highlands-north/johannesburg/gauteng/4340/110985502?plId=968815&plt=3\n"
     ]
    },
    {
     "ename": "KeyboardInterrupt",
     "evalue": "",
     "output_type": "error",
     "traceback": [
      "\u001b[0;31m---------------------------------------------------------------------------\u001b[0m",
      "\u001b[0;31mKeyboardInterrupt\u001b[0m                         Traceback (most recent call last)",
      "\u001b[0;32m<ipython-input-14-e97050e81e77>\u001b[0m in \u001b[0;36m<module>\u001b[0;34m\u001b[0m\n\u001b[1;32m      8\u001b[0m \u001b[0;34m\u001b[0m\u001b[0m\n\u001b[1;32m      9\u001b[0m     \u001b[0;31m#attendre 5sec pour contourner le captcha\u001b[0m\u001b[0;34m\u001b[0m\u001b[0;34m\u001b[0m\u001b[0;34m\u001b[0m\u001b[0m\n\u001b[0;32m---> 10\u001b[0;31m     \u001b[0mtime\u001b[0m\u001b[0;34m.\u001b[0m\u001b[0msleep\u001b[0m\u001b[0;34m(\u001b[0m\u001b[0;36m5\u001b[0m\u001b[0;34m)\u001b[0m\u001b[0;34m\u001b[0m\u001b[0;34m\u001b[0m\u001b[0m\n\u001b[0m\u001b[1;32m     11\u001b[0m \u001b[0;34m\u001b[0m\u001b[0m\n\u001b[1;32m     12\u001b[0m     \u001b[0;31m# traitement de la page avec bs4\u001b[0m\u001b[0;34m\u001b[0m\u001b[0;34m\u001b[0m\u001b[0;34m\u001b[0m\u001b[0m\n",
      "\u001b[0;31mKeyboardInterrupt\u001b[0m: "
     ]
    }
   ],
   "source": [
    "\n",
    "for url in list_url_page:\n",
    "    house = {}\n",
    "    \n",
    "    print('New url : ', url)\n",
    "    \n",
    "    #Faire une requete de la page\n",
    "    res_page = get_request_element(requests, url)\n",
    "    \n",
    "    #attendre 5sec pour contourner le captcha\n",
    "    time.sleep(5)\n",
    "    \n",
    "    # traitement de la page avec bs4\n",
    "    soup = BeautifulSoup(res_page.text, \"html.parser\")\n",
    "    \n",
    "#     p24 = soup.find_all('div', class_='p24_info')\n",
    "    #recuperation de tous les informations voulus\n",
    "    scrap_visible_element(house, soup)\n",
    "    scrap_hidden_element(house, soup)\n",
    "    print(house)\n",
    "    \n",
    "    #ajout du nouvel house dans la liste des houses\n",
    "    list_houses.append(house)\n",
    "#     print('Lenght : ' ,len(list_houses))\n",
    "#     df = pd.DataFrame(list_houses)\n",
    "#     print(df.head())\n",
    "print('Fin scrap')"
   ]
  },
  {
   "cell_type": "code",
   "execution_count": null,
   "id": "88b0d37a",
   "metadata": {},
   "outputs": [],
   "source": [
    "print(list_houses)"
   ]
  },
  {
   "cell_type": "code",
   "execution_count": null,
   "id": "e41942a4",
   "metadata": {},
   "outputs": [],
   "source": [
    "df = pd.DataFrame(list_houses)"
   ]
  },
  {
   "cell_type": "code",
   "execution_count": null,
   "id": "65703950",
   "metadata": {},
   "outputs": [],
   "source": [
    "df"
   ]
  },
  {
   "cell_type": "code",
   "execution_count": null,
   "id": "7af466d3",
   "metadata": {},
   "outputs": [],
   "source": [
    "df.to_csv('Johannesburg1.csv', index=False, encoding='utf-8')"
   ]
  },
  {
   "cell_type": "code",
   "execution_count": null,
   "id": "a7ababec",
   "metadata": {},
   "outputs": [],
   "source": []
  },
  {
   "cell_type": "code",
   "execution_count": null,
   "id": "314b533e",
   "metadata": {},
   "outputs": [],
   "source": []
  },
  {
   "cell_type": "code",
   "execution_count": null,
   "id": "da1174f9",
   "metadata": {},
   "outputs": [],
   "source": []
  }
 ],
 "metadata": {
  "kernelspec": {
   "display_name": "Python 3",
   "language": "python",
   "name": "python3"
  },
  "language_info": {
   "codemirror_mode": {
    "name": "ipython",
    "version": 3
   },
   "file_extension": ".py",
   "mimetype": "text/x-python",
   "name": "python",
   "nbconvert_exporter": "python",
   "pygments_lexer": "ipython3",
   "version": "3.8.8"
  }
 },
 "nbformat": 4,
 "nbformat_minor": 5
}
