{
 "cells": [
  {
   "cell_type": "code",
   "execution_count": 1,
   "id": "fecabcd4",
   "metadata": {},
   "outputs": [],
   "source": [
    "import numpy as np\n",
    "import pandas as pd\n",
    "import seaborn as sns\n",
    "import matplotlib.pyplot as plt"
   ]
  },
  {
   "cell_type": "code",
   "execution_count": 2,
   "id": "b60a0d83",
   "metadata": {},
   "outputs": [],
   "source": [
    "data = pd.read_csv(\"../csv/Johannesburg.csv\")"
   ]
  },
  {
   "cell_type": "code",
   "execution_count": 3,
   "id": "09b10b72",
   "metadata": {},
   "outputs": [
    {
     "data": {
      "text/plain": [
       "(10243, 11)"
      ]
     },
     "execution_count": 3,
     "metadata": {},
     "output_type": "execute_result"
    }
   ],
   "source": [
    "data.shape"
   ]
  },
  {
   "cell_type": "code",
   "execution_count": 4,
   "id": "3864f548",
   "metadata": {},
   "outputs": [
    {
     "name": "stdout",
     "output_type": "stream",
     "text": [
      "<class 'pandas.core.frame.DataFrame'>\n",
      "RangeIndex: 10243 entries, 0 to 10242\n",
      "Data columns (total 11 columns):\n",
      " #   Column            Non-Null Count  Dtype  \n",
      "---  ------            --------------  -----  \n",
      " 0   price             10243 non-null  object \n",
      " 1   bedrooms          8549 non-null   float64\n",
      " 2   bathrooms         8610 non-null   float64\n",
      " 3   Type of Property  10030 non-null  object \n",
      " 4   Erf Size          5722 non-null   object \n",
      " 5   Floor Size        5113 non-null   object \n",
      " 6   Levies            3430 non-null   object \n",
      " 7   Pool              10243 non-null  int64  \n",
      " 8   Rates and Taxes   5284 non-null   object \n",
      " 9   parking space     6967 non-null   float64\n",
      " 10  Pets Allowed      4483 non-null   float64\n",
      "dtypes: float64(4), int64(1), object(6)\n",
      "memory usage: 880.4+ KB\n"
     ]
    },
    {
     "data": {
      "text/plain": [
       "None"
      ]
     },
     "metadata": {},
     "output_type": "display_data"
    }
   ],
   "source": [
    "display(data.info())"
   ]
  },
  {
   "cell_type": "code",
   "execution_count": 5,
   "id": "f8c4db39",
   "metadata": {},
   "outputs": [
    {
     "data": {
      "text/html": [
       "<div>\n",
       "<style scoped>\n",
       "    .dataframe tbody tr th:only-of-type {\n",
       "        vertical-align: middle;\n",
       "    }\n",
       "\n",
       "    .dataframe tbody tr th {\n",
       "        vertical-align: top;\n",
       "    }\n",
       "\n",
       "    .dataframe thead th {\n",
       "        text-align: right;\n",
       "    }\n",
       "</style>\n",
       "<table border=\"1\" class=\"dataframe\">\n",
       "  <thead>\n",
       "    <tr style=\"text-align: right;\">\n",
       "      <th></th>\n",
       "      <th>count</th>\n",
       "      <th>mean</th>\n",
       "      <th>std</th>\n",
       "      <th>min</th>\n",
       "      <th>25%</th>\n",
       "      <th>50%</th>\n",
       "      <th>75%</th>\n",
       "      <th>max</th>\n",
       "    </tr>\n",
       "  </thead>\n",
       "  <tbody>\n",
       "    <tr>\n",
       "      <th>bedrooms</th>\n",
       "      <td>8549.0</td>\n",
       "      <td>3.149433</td>\n",
       "      <td>3.968352</td>\n",
       "      <td>0.5</td>\n",
       "      <td>2.0</td>\n",
       "      <td>3.0</td>\n",
       "      <td>3.0</td>\n",
       "      <td>152.0</td>\n",
       "    </tr>\n",
       "    <tr>\n",
       "      <th>bathrooms</th>\n",
       "      <td>8610.0</td>\n",
       "      <td>2.164518</td>\n",
       "      <td>2.280858</td>\n",
       "      <td>0.5</td>\n",
       "      <td>1.0</td>\n",
       "      <td>2.0</td>\n",
       "      <td>2.5</td>\n",
       "      <td>80.0</td>\n",
       "    </tr>\n",
       "    <tr>\n",
       "      <th>Pool</th>\n",
       "      <td>10243.0</td>\n",
       "      <td>0.000000</td>\n",
       "      <td>0.000000</td>\n",
       "      <td>0.0</td>\n",
       "      <td>0.0</td>\n",
       "      <td>0.0</td>\n",
       "      <td>0.0</td>\n",
       "      <td>0.0</td>\n",
       "    </tr>\n",
       "    <tr>\n",
       "      <th>parking space</th>\n",
       "      <td>6967.0</td>\n",
       "      <td>2.681427</td>\n",
       "      <td>2.973883</td>\n",
       "      <td>1.0</td>\n",
       "      <td>1.0</td>\n",
       "      <td>2.0</td>\n",
       "      <td>3.0</td>\n",
       "      <td>122.0</td>\n",
       "    </tr>\n",
       "    <tr>\n",
       "      <th>Pets Allowed</th>\n",
       "      <td>4483.0</td>\n",
       "      <td>0.548294</td>\n",
       "      <td>0.497718</td>\n",
       "      <td>0.0</td>\n",
       "      <td>0.0</td>\n",
       "      <td>1.0</td>\n",
       "      <td>1.0</td>\n",
       "      <td>1.0</td>\n",
       "    </tr>\n",
       "  </tbody>\n",
       "</table>\n",
       "</div>"
      ],
      "text/plain": [
       "                 count      mean       std  min  25%  50%  75%    max\n",
       "bedrooms        8549.0  3.149433  3.968352  0.5  2.0  3.0  3.0  152.0\n",
       "bathrooms       8610.0  2.164518  2.280858  0.5  1.0  2.0  2.5   80.0\n",
       "Pool           10243.0  0.000000  0.000000  0.0  0.0  0.0  0.0    0.0\n",
       "parking space   6967.0  2.681427  2.973883  1.0  1.0  2.0  3.0  122.0\n",
       "Pets Allowed    4483.0  0.548294  0.497718  0.0  0.0  1.0  1.0    1.0"
      ]
     },
     "metadata": {},
     "output_type": "display_data"
    }
   ],
   "source": [
    "display(data.describe().T)"
   ]
  },
  {
   "cell_type": "code",
   "execution_count": 6,
   "id": "1c96d150",
   "metadata": {},
   "outputs": [
    {
     "data": {
      "text/html": [
       "<div>\n",
       "<style scoped>\n",
       "    .dataframe tbody tr th:only-of-type {\n",
       "        vertical-align: middle;\n",
       "    }\n",
       "\n",
       "    .dataframe tbody tr th {\n",
       "        vertical-align: top;\n",
       "    }\n",
       "\n",
       "    .dataframe thead th {\n",
       "        text-align: right;\n",
       "    }\n",
       "</style>\n",
       "<table border=\"1\" class=\"dataframe\">\n",
       "  <thead>\n",
       "    <tr style=\"text-align: right;\">\n",
       "      <th></th>\n",
       "      <th>7742</th>\n",
       "      <th>1479</th>\n",
       "      <th>996</th>\n",
       "      <th>1259</th>\n",
       "      <th>3153</th>\n",
       "      <th>2598</th>\n",
       "      <th>6296</th>\n",
       "      <th>8135</th>\n",
       "      <th>461</th>\n",
       "      <th>9291</th>\n",
       "    </tr>\n",
       "  </thead>\n",
       "  <tbody>\n",
       "    <tr>\n",
       "      <th>price</th>\n",
       "      <td>R 7 500 000</td>\n",
       "      <td>R 7 900 000</td>\n",
       "      <td>R 25 000 000</td>\n",
       "      <td>R 1 200 000</td>\n",
       "      <td>R 1 300 000</td>\n",
       "      <td>R 2 999 500</td>\n",
       "      <td>R 5 800 000</td>\n",
       "      <td>R 649 000</td>\n",
       "      <td>R 745 000</td>\n",
       "      <td>R 14 000 000</td>\n",
       "    </tr>\n",
       "    <tr>\n",
       "      <th>bedrooms</th>\n",
       "      <td>NaN</td>\n",
       "      <td>6.0</td>\n",
       "      <td>4.0</td>\n",
       "      <td>3.0</td>\n",
       "      <td>3.0</td>\n",
       "      <td>2.0</td>\n",
       "      <td>4.0</td>\n",
       "      <td>NaN</td>\n",
       "      <td>2.0</td>\n",
       "      <td>NaN</td>\n",
       "    </tr>\n",
       "    <tr>\n",
       "      <th>bathrooms</th>\n",
       "      <td>NaN</td>\n",
       "      <td>5.5</td>\n",
       "      <td>4.5</td>\n",
       "      <td>1.0</td>\n",
       "      <td>1.0</td>\n",
       "      <td>2.0</td>\n",
       "      <td>2.0</td>\n",
       "      <td>NaN</td>\n",
       "      <td>1.0</td>\n",
       "      <td>NaN</td>\n",
       "    </tr>\n",
       "    <tr>\n",
       "      <th>Type of Property</th>\n",
       "      <td>IndustrialProperty</td>\n",
       "      <td>House</td>\n",
       "      <td>House</td>\n",
       "      <td>House</td>\n",
       "      <td>House</td>\n",
       "      <td>Apartment/Flat</td>\n",
       "      <td>House</td>\n",
       "      <td>NaN</td>\n",
       "      <td>Apartment/Flat</td>\n",
       "      <td>VacantLand/Plot</td>\n",
       "    </tr>\n",
       "    <tr>\n",
       "      <th>Erf Size</th>\n",
       "      <td>1800m²</td>\n",
       "      <td>NaN</td>\n",
       "      <td>4050m²</td>\n",
       "      <td>621m²</td>\n",
       "      <td>495m²</td>\n",
       "      <td>NaN</td>\n",
       "      <td>804m²</td>\n",
       "      <td>NaN</td>\n",
       "      <td>NaN</td>\n",
       "      <td>NaN</td>\n",
       "    </tr>\n",
       "    <tr>\n",
       "      <th>Floor Size</th>\n",
       "      <td>1800m²</td>\n",
       "      <td>362m²</td>\n",
       "      <td>NaN</td>\n",
       "      <td>NaN</td>\n",
       "      <td>NaN</td>\n",
       "      <td>168m²</td>\n",
       "      <td>NaN</td>\n",
       "      <td>NaN</td>\n",
       "      <td>68m²</td>\n",
       "      <td>NaN</td>\n",
       "    </tr>\n",
       "    <tr>\n",
       "      <th>Levies</th>\n",
       "      <td>NaN</td>\n",
       "      <td>NaN</td>\n",
       "      <td>NaN</td>\n",
       "      <td>NaN</td>\n",
       "      <td>NaN</td>\n",
       "      <td>R4957</td>\n",
       "      <td>R2200</td>\n",
       "      <td>NaN</td>\n",
       "      <td>R1558</td>\n",
       "      <td>NaN</td>\n",
       "    </tr>\n",
       "    <tr>\n",
       "      <th>Pool</th>\n",
       "      <td>0</td>\n",
       "      <td>0</td>\n",
       "      <td>0</td>\n",
       "      <td>0</td>\n",
       "      <td>0</td>\n",
       "      <td>0</td>\n",
       "      <td>0</td>\n",
       "      <td>0</td>\n",
       "      <td>0</td>\n",
       "      <td>0</td>\n",
       "    </tr>\n",
       "    <tr>\n",
       "      <th>Rates and Taxes</th>\n",
       "      <td>NaN</td>\n",
       "      <td>NaN</td>\n",
       "      <td>R9900</td>\n",
       "      <td>R203</td>\n",
       "      <td>NaN</td>\n",
       "      <td>R2215</td>\n",
       "      <td>R3574</td>\n",
       "      <td>NaN</td>\n",
       "      <td>R450</td>\n",
       "      <td>NaN</td>\n",
       "    </tr>\n",
       "    <tr>\n",
       "      <th>parking space</th>\n",
       "      <td>NaN</td>\n",
       "      <td>4.0</td>\n",
       "      <td>13.0</td>\n",
       "      <td>2.0</td>\n",
       "      <td>2.0</td>\n",
       "      <td>2.0</td>\n",
       "      <td>4.0</td>\n",
       "      <td>NaN</td>\n",
       "      <td>1.0</td>\n",
       "      <td>NaN</td>\n",
       "    </tr>\n",
       "    <tr>\n",
       "      <th>Pets Allowed</th>\n",
       "      <td>NaN</td>\n",
       "      <td>NaN</td>\n",
       "      <td>1.0</td>\n",
       "      <td>NaN</td>\n",
       "      <td>NaN</td>\n",
       "      <td>NaN</td>\n",
       "      <td>NaN</td>\n",
       "      <td>NaN</td>\n",
       "      <td>0.0</td>\n",
       "      <td>NaN</td>\n",
       "    </tr>\n",
       "  </tbody>\n",
       "</table>\n",
       "</div>"
      ],
      "text/plain": [
       "                                7742         1479          996          1259  \\\n",
       "price                    R 7 500 000  R 7 900 000  R 25 000 000  R 1 200 000   \n",
       "bedrooms                         NaN          6.0           4.0          3.0   \n",
       "bathrooms                        NaN          5.5           4.5          1.0   \n",
       "Type of Property  IndustrialProperty        House         House        House   \n",
       "Erf Size                      1800m²          NaN        4050m²        621m²   \n",
       "Floor Size                    1800m²        362m²           NaN          NaN   \n",
       "Levies                           NaN          NaN           NaN          NaN   \n",
       "Pool                               0            0             0            0   \n",
       "Rates and Taxes                  NaN          NaN         R9900         R203   \n",
       "parking space                    NaN          4.0          13.0          2.0   \n",
       "Pets Allowed                     NaN          NaN           1.0          NaN   \n",
       "\n",
       "                         3153            2598         6296       8135  \\\n",
       "price             R 1 300 000     R 2 999 500  R 5 800 000  R 649 000   \n",
       "bedrooms                  3.0             2.0          4.0        NaN   \n",
       "bathrooms                 1.0             2.0          2.0        NaN   \n",
       "Type of Property        House  Apartment/Flat        House        NaN   \n",
       "Erf Size                495m²             NaN        804m²        NaN   \n",
       "Floor Size                NaN           168m²          NaN        NaN   \n",
       "Levies                    NaN           R4957        R2200        NaN   \n",
       "Pool                        0               0            0          0   \n",
       "Rates and Taxes           NaN           R2215        R3574        NaN   \n",
       "parking space             2.0             2.0          4.0        NaN   \n",
       "Pets Allowed              NaN             NaN          NaN        NaN   \n",
       "\n",
       "                            461              9291  \n",
       "price                  R 745 000     R 14 000 000  \n",
       "bedrooms                     2.0              NaN  \n",
       "bathrooms                    1.0              NaN  \n",
       "Type of Property  Apartment/Flat  VacantLand/Plot  \n",
       "Erf Size                     NaN              NaN  \n",
       "Floor Size                  68m²              NaN  \n",
       "Levies                     R1558              NaN  \n",
       "Pool                           0                0  \n",
       "Rates and Taxes             R450              NaN  \n",
       "parking space                1.0              NaN  \n",
       "Pets Allowed                 0.0              NaN  "
      ]
     },
     "metadata": {},
     "output_type": "display_data"
    }
   ],
   "source": [
    "display(data.sample(10).T)"
   ]
  },
  {
   "cell_type": "code",
   "execution_count": 7,
   "id": "ff69970a",
   "metadata": {},
   "outputs": [
    {
     "data": {
      "text/plain": [
       "Index(['price', 'bedrooms', 'bathrooms', 'type_of_property', 'erf_size',\n",
       "       'floor_size', 'levies', 'pool', 'rates_and_taxes', 'parking_space',\n",
       "       'pets_allowed'],\n",
       "      dtype='object')"
      ]
     },
     "execution_count": 7,
     "metadata": {},
     "output_type": "execute_result"
    }
   ],
   "source": [
    "data.columns = data.columns.str.lower()\n",
    "data.columns = data.columns.str.replace(' ', '_')\n",
    "data.columns"
   ]
  },
  {
   "cell_type": "code",
   "execution_count": 8,
   "id": "d81f0d0c",
   "metadata": {
    "scrolled": false
   },
   "outputs": [
    {
     "data": {
      "text/plain": [
       "<AxesSubplot:>"
      ]
     },
     "execution_count": 8,
     "metadata": {},
     "output_type": "execute_result"
    },
    {
     "data": {
      "image/png": "[encoded data removed]",
      "text/plain": [
       "<Figure size 1440x720 with 1 Axes>"
      ]
     },
     "metadata": {
      "needs_background": "light"
     },
     "output_type": "display_data"
    }
   ],
   "source": [
    "plt.figure(figsize=(20,10))\n",
    "sns.heatmap(data.isna(), cbar=False)"
   ]
  },
  {
   "cell_type": "markdown",
   "id": "a1ee48d3",
   "metadata": {},
   "source": [
    "## Préprocessing"
   ]
  },
  {
   "cell_type": "markdown",
   "id": "15b4edb4",
   "metadata": {},
   "source": [
    "Transform values erf_size, floor_size, price, levies, rate_and_taxes"
   ]
  },
  {
   "cell_type": "code",
   "execution_count": 9,
   "id": "e1ad02f8",
   "metadata": {},
   "outputs": [],
   "source": [
    "data['erf_size'] = data['erf_size'].str.replace('m²', '')\n",
    "data['erf_size'] = data['erf_size'].str.replace(' ', '')\n",
    "data['erf_size'].loc[data['erf_size'].str.contains('ha', na=False)]\n",
    "# convert ha into m²\n",
    "data['erf_size'] = data['erf_size'].str.replace('ha', '0000')\n",
    "data['erf_size'] = pd.to_numeric(data['erf_size'], errors='coerce')\n",
    "\n",
    "data['floor_size'] = data['floor_size'].str.replace('m²', '')\n",
    "data['floor_size'] = data['floor_size'].str.replace(' ', '')\n",
    "data['floor_size'] = pd.to_numeric(data['floor_size'], errors='coerce')\n",
    "\n",
    "data['price'] = data['price'].str.replace('R', '')\n",
    "data['price'] = data['price'].str.replace(' ', '')\n",
    "data['price'] = pd.to_numeric(data['price'], errors='coerce')\n",
    "\n",
    "data['levies'] = data['levies'].str.replace(' ', '')\n",
    "data['levies'] = data['levies'].str.replace('R', '')\n",
    "data['levies'] = pd.to_numeric(data['levies'], errors='coerce')\n",
    "\n",
    "data['rates_and_taxes'] = data['rates_and_taxes'].str.replace('R', '')\n",
    "data['rates_and_taxes'] = data['rates_and_taxes'].str.replace(' ', '')\n",
    "data['rates_and_taxes'] = pd.to_numeric(data['rates_and_taxes'], errors='coerce')"
   ]
  },
  {
   "cell_type": "code",
   "execution_count": 10,
   "id": "0a051b70",
   "metadata": {},
   "outputs": [
    {
     "data": {
      "text/html": [
       "<div>\n",
       "<style scoped>\n",
       "    .dataframe tbody tr th:only-of-type {\n",
       "        vertical-align: middle;\n",
       "    }\n",
       "\n",
       "    .dataframe tbody tr th {\n",
       "        vertical-align: top;\n",
       "    }\n",
       "\n",
       "    .dataframe thead th {\n",
       "        text-align: right;\n",
       "    }\n",
       "</style>\n",
       "<table border=\"1\" class=\"dataframe\">\n",
       "  <thead>\n",
       "    <tr style=\"text-align: right;\">\n",
       "      <th></th>\n",
       "      <th>price</th>\n",
       "      <th>bedrooms</th>\n",
       "      <th>bathrooms</th>\n",
       "      <th>type_of_property</th>\n",
       "      <th>erf_size</th>\n",
       "      <th>floor_size</th>\n",
       "      <th>levies</th>\n",
       "      <th>pool</th>\n",
       "      <th>rates_and_taxes</th>\n",
       "      <th>parking_space</th>\n",
       "      <th>pets_allowed</th>\n",
       "    </tr>\n",
       "  </thead>\n",
       "  <tbody>\n",
       "    <tr>\n",
       "      <th>3728</th>\n",
       "      <td>3799000.0</td>\n",
       "      <td>4.0</td>\n",
       "      <td>3.0</td>\n",
       "      <td>House</td>\n",
       "      <td>1186.0</td>\n",
       "      <td>NaN</td>\n",
       "      <td>NaN</td>\n",
       "      <td>0</td>\n",
       "      <td>1475.0</td>\n",
       "      <td>4.0</td>\n",
       "      <td>NaN</td>\n",
       "    </tr>\n",
       "    <tr>\n",
       "      <th>7675</th>\n",
       "      <td>675000.0</td>\n",
       "      <td>2.0</td>\n",
       "      <td>1.0</td>\n",
       "      <td>Apartment/Flat</td>\n",
       "      <td>NaN</td>\n",
       "      <td>NaN</td>\n",
       "      <td>1200.0</td>\n",
       "      <td>0</td>\n",
       "      <td>250.0</td>\n",
       "      <td>1.0</td>\n",
       "      <td>NaN</td>\n",
       "    </tr>\n",
       "    <tr>\n",
       "      <th>5561</th>\n",
       "      <td>1200000.0</td>\n",
       "      <td>3.0</td>\n",
       "      <td>1.0</td>\n",
       "      <td>House</td>\n",
       "      <td>600.0</td>\n",
       "      <td>132.0</td>\n",
       "      <td>NaN</td>\n",
       "      <td>0</td>\n",
       "      <td>450.0</td>\n",
       "      <td>8.0</td>\n",
       "      <td>1.0</td>\n",
       "    </tr>\n",
       "    <tr>\n",
       "      <th>2497</th>\n",
       "      <td>1300000.0</td>\n",
       "      <td>1.0</td>\n",
       "      <td>1.0</td>\n",
       "      <td>Apartment/Flat</td>\n",
       "      <td>NaN</td>\n",
       "      <td>73.0</td>\n",
       "      <td>1500.0</td>\n",
       "      <td>0</td>\n",
       "      <td>500.0</td>\n",
       "      <td>1.0</td>\n",
       "      <td>1.0</td>\n",
       "    </tr>\n",
       "    <tr>\n",
       "      <th>6840</th>\n",
       "      <td>14999000.0</td>\n",
       "      <td>NaN</td>\n",
       "      <td>NaN</td>\n",
       "      <td>Apartment/Flat</td>\n",
       "      <td>1044.0</td>\n",
       "      <td>2200.0</td>\n",
       "      <td>NaN</td>\n",
       "      <td>0</td>\n",
       "      <td>NaN</td>\n",
       "      <td>NaN</td>\n",
       "      <td>NaN</td>\n",
       "    </tr>\n",
       "    <tr>\n",
       "      <th>5635</th>\n",
       "      <td>NaN</td>\n",
       "      <td>4.0</td>\n",
       "      <td>4.0</td>\n",
       "      <td>House</td>\n",
       "      <td>630.0</td>\n",
       "      <td>400.0</td>\n",
       "      <td>NaN</td>\n",
       "      <td>0</td>\n",
       "      <td>NaN</td>\n",
       "      <td>4.0</td>\n",
       "      <td>NaN</td>\n",
       "    </tr>\n",
       "    <tr>\n",
       "      <th>4777</th>\n",
       "      <td>2299000.0</td>\n",
       "      <td>5.0</td>\n",
       "      <td>3.0</td>\n",
       "      <td>House</td>\n",
       "      <td>915.0</td>\n",
       "      <td>NaN</td>\n",
       "      <td>NaN</td>\n",
       "      <td>0</td>\n",
       "      <td>827.0</td>\n",
       "      <td>3.0</td>\n",
       "      <td>NaN</td>\n",
       "    </tr>\n",
       "    <tr>\n",
       "      <th>3832</th>\n",
       "      <td>425000.0</td>\n",
       "      <td>0.5</td>\n",
       "      <td>1.0</td>\n",
       "      <td>Apartment/Flat</td>\n",
       "      <td>NaN</td>\n",
       "      <td>36.0</td>\n",
       "      <td>967.0</td>\n",
       "      <td>0</td>\n",
       "      <td>NaN</td>\n",
       "      <td>NaN</td>\n",
       "      <td>NaN</td>\n",
       "    </tr>\n",
       "    <tr>\n",
       "      <th>8523</th>\n",
       "      <td>8000000.0</td>\n",
       "      <td>NaN</td>\n",
       "      <td>NaN</td>\n",
       "      <td>CommercialProperty</td>\n",
       "      <td>2970.0</td>\n",
       "      <td>NaN</td>\n",
       "      <td>NaN</td>\n",
       "      <td>0</td>\n",
       "      <td>NaN</td>\n",
       "      <td>NaN</td>\n",
       "      <td>NaN</td>\n",
       "    </tr>\n",
       "    <tr>\n",
       "      <th>6564</th>\n",
       "      <td>1400000.0</td>\n",
       "      <td>4.0</td>\n",
       "      <td>2.0</td>\n",
       "      <td>House</td>\n",
       "      <td>495.0</td>\n",
       "      <td>208.0</td>\n",
       "      <td>NaN</td>\n",
       "      <td>0</td>\n",
       "      <td>2000.0</td>\n",
       "      <td>NaN</td>\n",
       "      <td>1.0</td>\n",
       "    </tr>\n",
       "  </tbody>\n",
       "</table>\n",
       "</div>"
      ],
      "text/plain": [
       "           price  bedrooms  bathrooms    type_of_property  erf_size  \\\n",
       "3728   3799000.0       4.0        3.0               House    1186.0   \n",
       "7675    675000.0       2.0        1.0      Apartment/Flat       NaN   \n",
       "5561   1200000.0       3.0        1.0               House     600.0   \n",
       "2497   1300000.0       1.0        1.0      Apartment/Flat       NaN   \n",
       "6840  14999000.0       NaN        NaN      Apartment/Flat    1044.0   \n",
       "5635         NaN       4.0        4.0               House     630.0   \n",
       "4777   2299000.0       5.0        3.0               House     915.0   \n",
       "3832    425000.0       0.5        1.0      Apartment/Flat       NaN   \n",
       "8523   8000000.0       NaN        NaN  CommercialProperty    2970.0   \n",
       "6564   1400000.0       4.0        2.0               House     495.0   \n",
       "\n",
       "      floor_size  levies  pool  rates_and_taxes  parking_space  pets_allowed  \n",
       "3728         NaN     NaN     0           1475.0            4.0           NaN  \n",
       "7675         NaN  1200.0     0            250.0            1.0           NaN  \n",
       "5561       132.0     NaN     0            450.0            8.0           1.0  \n",
       "2497        73.0  1500.0     0            500.0            1.0           1.0  \n",
       "6840      2200.0     NaN     0              NaN            NaN           NaN  \n",
       "5635       400.0     NaN     0              NaN            4.0           NaN  \n",
       "4777         NaN     NaN     0            827.0            3.0           NaN  \n",
       "3832        36.0   967.0     0              NaN            NaN           NaN  \n",
       "8523         NaN     NaN     0              NaN            NaN           NaN  \n",
       "6564       208.0     NaN     0           2000.0            NaN           1.0  "
      ]
     },
     "metadata": {},
     "output_type": "display_data"
    }
   ],
   "source": [
    "display(data.sample(10))"
   ]
  },
  {
   "cell_type": "code",
   "execution_count": 11,
   "id": "9301935c",
   "metadata": {},
   "outputs": [
    {
     "name": "stdout",
     "output_type": "stream",
     "text": [
      "<class 'pandas.core.frame.DataFrame'>\n",
      "RangeIndex: 10243 entries, 0 to 10242\n",
      "Data columns (total 11 columns):\n",
      " #   Column            Non-Null Count  Dtype  \n",
      "---  ------            --------------  -----  \n",
      " 0   price             9963 non-null   float64\n",
      " 1   bedrooms          8549 non-null   float64\n",
      " 2   bathrooms         8610 non-null   float64\n",
      " 3   type_of_property  10030 non-null  object \n",
      " 4   erf_size          5720 non-null   float64\n",
      " 5   floor_size        5113 non-null   float64\n",
      " 6   levies            3430 non-null   float64\n",
      " 7   pool              10243 non-null  int64  \n",
      " 8   rates_and_taxes   5284 non-null   float64\n",
      " 9   parking_space     6967 non-null   float64\n",
      " 10  pets_allowed      4483 non-null   float64\n",
      "dtypes: float64(9), int64(1), object(1)\n",
      "memory usage: 880.4+ KB\n"
     ]
    },
    {
     "data": {
      "text/plain": [
       "None"
      ]
     },
     "metadata": {},
     "output_type": "display_data"
    }
   ],
   "source": [
    "display(data.info())"
   ]
  },
  {
   "cell_type": "code",
   "execution_count": 12,
   "id": "cf81d2af",
   "metadata": {
    "scrolled": true
   },
   "outputs": [
    {
     "data": {
      "text/html": [
       "<div>\n",
       "<style scoped>\n",
       "    .dataframe tbody tr th:only-of-type {\n",
       "        vertical-align: middle;\n",
       "    }\n",
       "\n",
       "    .dataframe tbody tr th {\n",
       "        vertical-align: top;\n",
       "    }\n",
       "\n",
       "    .dataframe thead th {\n",
       "        text-align: right;\n",
       "    }\n",
       "</style>\n",
       "<table border=\"1\" class=\"dataframe\">\n",
       "  <thead>\n",
       "    <tr style=\"text-align: right;\">\n",
       "      <th></th>\n",
       "      <th>price</th>\n",
       "      <th>bedrooms</th>\n",
       "      <th>bathrooms</th>\n",
       "      <th>erf_size</th>\n",
       "      <th>floor_size</th>\n",
       "      <th>levies</th>\n",
       "      <th>pool</th>\n",
       "      <th>rates_and_taxes</th>\n",
       "      <th>parking_space</th>\n",
       "      <th>pets_allowed</th>\n",
       "    </tr>\n",
       "  </thead>\n",
       "  <tbody>\n",
       "    <tr>\n",
       "      <th>count</th>\n",
       "      <td>9.963000e+03</td>\n",
       "      <td>8549.000000</td>\n",
       "      <td>8610.000000</td>\n",
       "      <td>5.720000e+03</td>\n",
       "      <td>5113.000000</td>\n",
       "      <td>3.430000e+03</td>\n",
       "      <td>10243.0</td>\n",
       "      <td>5.284000e+03</td>\n",
       "      <td>6967.000000</td>\n",
       "      <td>4483.000000</td>\n",
       "    </tr>\n",
       "    <tr>\n",
       "      <th>mean</th>\n",
       "      <td>2.934576e+06</td>\n",
       "      <td>3.149433</td>\n",
       "      <td>2.164518</td>\n",
       "      <td>6.321961e+05</td>\n",
       "      <td>441.498142</td>\n",
       "      <td>5.891972e+03</td>\n",
       "      <td>0.0</td>\n",
       "      <td>2.140662e+03</td>\n",
       "      <td>2.681427</td>\n",
       "      <td>0.548294</td>\n",
       "    </tr>\n",
       "    <tr>\n",
       "      <th>std</th>\n",
       "      <td>6.616672e+06</td>\n",
       "      <td>3.968352</td>\n",
       "      <td>2.280858</td>\n",
       "      <td>1.464840e+07</td>\n",
       "      <td>2176.412499</td>\n",
       "      <td>1.711409e+05</td>\n",
       "      <td>0.0</td>\n",
       "      <td>3.678641e+04</td>\n",
       "      <td>2.973883</td>\n",
       "      <td>0.497718</td>\n",
       "    </tr>\n",
       "    <tr>\n",
       "      <th>min</th>\n",
       "      <td>8.000000e+03</td>\n",
       "      <td>0.500000</td>\n",
       "      <td>0.500000</td>\n",
       "      <td>1.000000e+00</td>\n",
       "      <td>1.000000</td>\n",
       "      <td>0.000000e+00</td>\n",
       "      <td>0.0</td>\n",
       "      <td>0.000000e+00</td>\n",
       "      <td>1.000000</td>\n",
       "      <td>0.000000</td>\n",
       "    </tr>\n",
       "    <tr>\n",
       "      <th>25%</th>\n",
       "      <td>7.550000e+05</td>\n",
       "      <td>2.000000</td>\n",
       "      <td>1.000000</td>\n",
       "      <td>4.950000e+02</td>\n",
       "      <td>63.000000</td>\n",
       "      <td>1.137250e+03</td>\n",
       "      <td>0.0</td>\n",
       "      <td>4.000000e+02</td>\n",
       "      <td>1.000000</td>\n",
       "      <td>0.000000</td>\n",
       "    </tr>\n",
       "    <tr>\n",
       "      <th>50%</th>\n",
       "      <td>1.399000e+06</td>\n",
       "      <td>3.000000</td>\n",
       "      <td>2.000000</td>\n",
       "      <td>8.640000e+02</td>\n",
       "      <td>102.000000</td>\n",
       "      <td>1.650000e+03</td>\n",
       "      <td>0.0</td>\n",
       "      <td>7.090000e+02</td>\n",
       "      <td>2.000000</td>\n",
       "      <td>1.000000</td>\n",
       "    </tr>\n",
       "    <tr>\n",
       "      <th>75%</th>\n",
       "      <td>2.800000e+06</td>\n",
       "      <td>3.000000</td>\n",
       "      <td>2.500000</td>\n",
       "      <td>1.616000e+03</td>\n",
       "      <td>247.000000</td>\n",
       "      <td>2.500000e+03</td>\n",
       "      <td>0.0</td>\n",
       "      <td>1.500000e+03</td>\n",
       "      <td>3.000000</td>\n",
       "      <td>1.000000</td>\n",
       "    </tr>\n",
       "    <tr>\n",
       "      <th>max</th>\n",
       "      <td>2.685000e+08</td>\n",
       "      <td>152.000000</td>\n",
       "      <td>80.000000</td>\n",
       "      <td>6.100000e+08</td>\n",
       "      <td>65534.000000</td>\n",
       "      <td>9.500000e+06</td>\n",
       "      <td>0.0</td>\n",
       "      <td>2.300000e+06</td>\n",
       "      <td>122.000000</td>\n",
       "      <td>1.000000</td>\n",
       "    </tr>\n",
       "  </tbody>\n",
       "</table>\n",
       "</div>"
      ],
      "text/plain": [
       "              price     bedrooms    bathrooms      erf_size    floor_size  \\\n",
       "count  9.963000e+03  8549.000000  8610.000000  5.720000e+03   5113.000000   \n",
       "mean   2.934576e+06     3.149433     2.164518  6.321961e+05    441.498142   \n",
       "std    6.616672e+06     3.968352     2.280858  1.464840e+07   2176.412499   \n",
       "min    8.000000e+03     0.500000     0.500000  1.000000e+00      1.000000   \n",
       "25%    7.550000e+05     2.000000     1.000000  4.950000e+02     63.000000   \n",
       "50%    1.399000e+06     3.000000     2.000000  8.640000e+02    102.000000   \n",
       "75%    2.800000e+06     3.000000     2.500000  1.616000e+03    247.000000   \n",
       "max    2.685000e+08   152.000000    80.000000  6.100000e+08  65534.000000   \n",
       "\n",
       "             levies     pool  rates_and_taxes  parking_space  pets_allowed  \n",
       "count  3.430000e+03  10243.0     5.284000e+03    6967.000000   4483.000000  \n",
       "mean   5.891972e+03      0.0     2.140662e+03       2.681427      0.548294  \n",
       "std    1.711409e+05      0.0     3.678641e+04       2.973883      0.497718  \n",
       "min    0.000000e+00      0.0     0.000000e+00       1.000000      0.000000  \n",
       "25%    1.137250e+03      0.0     4.000000e+02       1.000000      0.000000  \n",
       "50%    1.650000e+03      0.0     7.090000e+02       2.000000      1.000000  \n",
       "75%    2.500000e+03      0.0     1.500000e+03       3.000000      1.000000  \n",
       "max    9.500000e+06      0.0     2.300000e+06     122.000000      1.000000  "
      ]
     },
     "metadata": {},
     "output_type": "display_data"
    }
   ],
   "source": [
    "display(data.describe())"
   ]
  },
  {
   "cell_type": "code",
   "execution_count": 13,
   "id": "fb01af8a",
   "metadata": {},
   "outputs": [
    {
     "data": {
      "text/plain": [
       "<AxesSubplot:ylabel='type_of_property'>"
      ]
     },
     "execution_count": 13,
     "metadata": {},
     "output_type": "execute_result"
    },
    {
     "data": {
      "image/png": "[encoded data removed]",
      "text/plain": [
       "<Figure size 432x288 with 1 Axes>"
      ]
     },
     "metadata": {},
     "output_type": "display_data"
    }
   ],
   "source": [
    "data['type_of_property'].value_counts().plot.pie()"
   ]
  },
  {
   "cell_type": "code",
   "execution_count": 14,
   "id": "ee8a5638",
   "metadata": {},
   "outputs": [],
   "source": [
    "data = data.drop(data.loc[data['type_of_property'] == 'CommercialProperty'].index)\n",
    "data = data.drop(data.loc[data['type_of_property'] == 'Farm'].index)\n",
    "data = data.drop(data.loc[data['type_of_property'] == 'VacantLand/Plot'].index)\n",
    "data = data.drop(data.loc[data['type_of_property'] == 'IndustrialProperty'].index)"
   ]
  },
  {
   "cell_type": "code",
   "execution_count": 15,
   "id": "d6b9bb47",
   "metadata": {},
   "outputs": [
    {
     "data": {
      "text/plain": [
       "<AxesSubplot:ylabel='type_of_property'>"
      ]
     },
     "execution_count": 15,
     "metadata": {},
     "output_type": "execute_result"
    },
    {
     "data": {
      "image/png": "[encoded data removed]",
      "text/plain": [
       "<Figure size 432x288 with 1 Axes>"
      ]
     },
     "metadata": {},
     "output_type": "display_data"
    }
   ],
   "source": [
    "data['type_of_property'].value_counts().plot.pie()"
   ]
  },
  {
   "cell_type": "code",
   "execution_count": 16,
   "id": "0a758b48",
   "metadata": {},
   "outputs": [
    {
     "data": {
      "text/plain": [
       "(9128, 11)"
      ]
     },
     "execution_count": 16,
     "metadata": {},
     "output_type": "execute_result"
    }
   ],
   "source": [
    "data.shape"
   ]
  },
  {
   "cell_type": "code",
   "execution_count": 17,
   "id": "0434c0ae",
   "metadata": {},
   "outputs": [],
   "source": [
    "price_house = data.loc[data['type_of_property'] == 'House']"
   ]
  },
  {
   "cell_type": "code",
   "execution_count": 18,
   "id": "d23bf395",
   "metadata": {},
   "outputs": [
    {
     "data": {
      "text/html": [
       "<div>\n",
       "<style scoped>\n",
       "    .dataframe tbody tr th:only-of-type {\n",
       "        vertical-align: middle;\n",
       "    }\n",
       "\n",
       "    .dataframe tbody tr th {\n",
       "        vertical-align: top;\n",
       "    }\n",
       "\n",
       "    .dataframe thead th {\n",
       "        text-align: right;\n",
       "    }\n",
       "</style>\n",
       "<table border=\"1\" class=\"dataframe\">\n",
       "  <thead>\n",
       "    <tr style=\"text-align: right;\">\n",
       "      <th></th>\n",
       "      <th>price</th>\n",
       "      <th>bedrooms</th>\n",
       "      <th>bathrooms</th>\n",
       "      <th>type_of_property</th>\n",
       "      <th>erf_size</th>\n",
       "      <th>floor_size</th>\n",
       "      <th>levies</th>\n",
       "      <th>pool</th>\n",
       "      <th>rates_and_taxes</th>\n",
       "      <th>parking_space</th>\n",
       "      <th>pets_allowed</th>\n",
       "    </tr>\n",
       "  </thead>\n",
       "  <tbody>\n",
       "    <tr>\n",
       "      <th>2</th>\n",
       "      <td>3995000.0</td>\n",
       "      <td>9.0</td>\n",
       "      <td>9.0</td>\n",
       "      <td>House</td>\n",
       "      <td>1575.0</td>\n",
       "      <td>1060.0</td>\n",
       "      <td>NaN</td>\n",
       "      <td>0</td>\n",
       "      <td>2500.0</td>\n",
       "      <td>17.0</td>\n",
       "      <td>1.0</td>\n",
       "    </tr>\n",
       "    <tr>\n",
       "      <th>3</th>\n",
       "      <td>4950000.0</td>\n",
       "      <td>4.0</td>\n",
       "      <td>3.0</td>\n",
       "      <td>House</td>\n",
       "      <td>679.0</td>\n",
       "      <td>329.0</td>\n",
       "      <td>NaN</td>\n",
       "      <td>0</td>\n",
       "      <td>3056.0</td>\n",
       "      <td>6.0</td>\n",
       "      <td>1.0</td>\n",
       "    </tr>\n",
       "    <tr>\n",
       "      <th>4</th>\n",
       "      <td>2095000.0</td>\n",
       "      <td>4.0</td>\n",
       "      <td>2.0</td>\n",
       "      <td>House</td>\n",
       "      <td>990.0</td>\n",
       "      <td>452.0</td>\n",
       "      <td>NaN</td>\n",
       "      <td>0</td>\n",
       "      <td>800.0</td>\n",
       "      <td>4.0</td>\n",
       "      <td>1.0</td>\n",
       "    </tr>\n",
       "    <tr>\n",
       "      <th>6</th>\n",
       "      <td>1785000.0</td>\n",
       "      <td>3.0</td>\n",
       "      <td>2.0</td>\n",
       "      <td>House</td>\n",
       "      <td>NaN</td>\n",
       "      <td>NaN</td>\n",
       "      <td>850.0</td>\n",
       "      <td>0</td>\n",
       "      <td>1000.0</td>\n",
       "      <td>2.0</td>\n",
       "      <td>NaN</td>\n",
       "    </tr>\n",
       "    <tr>\n",
       "      <th>9</th>\n",
       "      <td>1495000.0</td>\n",
       "      <td>4.0</td>\n",
       "      <td>2.0</td>\n",
       "      <td>House</td>\n",
       "      <td>NaN</td>\n",
       "      <td>NaN</td>\n",
       "      <td>NaN</td>\n",
       "      <td>0</td>\n",
       "      <td>520.0</td>\n",
       "      <td>1.0</td>\n",
       "      <td>NaN</td>\n",
       "    </tr>\n",
       "    <tr>\n",
       "      <th>...</th>\n",
       "      <td>...</td>\n",
       "      <td>...</td>\n",
       "      <td>...</td>\n",
       "      <td>...</td>\n",
       "      <td>...</td>\n",
       "      <td>...</td>\n",
       "      <td>...</td>\n",
       "      <td>...</td>\n",
       "      <td>...</td>\n",
       "      <td>...</td>\n",
       "      <td>...</td>\n",
       "    </tr>\n",
       "    <tr>\n",
       "      <th>10225</th>\n",
       "      <td>1700000.0</td>\n",
       "      <td>9.0</td>\n",
       "      <td>6.0</td>\n",
       "      <td>House</td>\n",
       "      <td>NaN</td>\n",
       "      <td>NaN</td>\n",
       "      <td>NaN</td>\n",
       "      <td>0</td>\n",
       "      <td>NaN</td>\n",
       "      <td>3.0</td>\n",
       "      <td>NaN</td>\n",
       "    </tr>\n",
       "    <tr>\n",
       "      <th>10229</th>\n",
       "      <td>735000.0</td>\n",
       "      <td>NaN</td>\n",
       "      <td>NaN</td>\n",
       "      <td>House</td>\n",
       "      <td>NaN</td>\n",
       "      <td>NaN</td>\n",
       "      <td>NaN</td>\n",
       "      <td>0</td>\n",
       "      <td>NaN</td>\n",
       "      <td>NaN</td>\n",
       "      <td>NaN</td>\n",
       "    </tr>\n",
       "    <tr>\n",
       "      <th>10232</th>\n",
       "      <td>450000.0</td>\n",
       "      <td>2.0</td>\n",
       "      <td>1.0</td>\n",
       "      <td>House</td>\n",
       "      <td>135.0</td>\n",
       "      <td>NaN</td>\n",
       "      <td>NaN</td>\n",
       "      <td>0</td>\n",
       "      <td>270.0</td>\n",
       "      <td>NaN</td>\n",
       "      <td>NaN</td>\n",
       "    </tr>\n",
       "    <tr>\n",
       "      <th>10237</th>\n",
       "      <td>1350000.0</td>\n",
       "      <td>4.0</td>\n",
       "      <td>2.0</td>\n",
       "      <td>House</td>\n",
       "      <td>1900.0</td>\n",
       "      <td>NaN</td>\n",
       "      <td>NaN</td>\n",
       "      <td>0</td>\n",
       "      <td>NaN</td>\n",
       "      <td>4.0</td>\n",
       "      <td>1.0</td>\n",
       "    </tr>\n",
       "    <tr>\n",
       "      <th>10239</th>\n",
       "      <td>1600000.0</td>\n",
       "      <td>3.0</td>\n",
       "      <td>2.0</td>\n",
       "      <td>House</td>\n",
       "      <td>NaN</td>\n",
       "      <td>NaN</td>\n",
       "      <td>800.0</td>\n",
       "      <td>0</td>\n",
       "      <td>450.0</td>\n",
       "      <td>1.0</td>\n",
       "      <td>NaN</td>\n",
       "    </tr>\n",
       "  </tbody>\n",
       "</table>\n",
       "<p>4352 rows × 11 columns</p>\n",
       "</div>"
      ],
      "text/plain": [
       "           price  bedrooms  bathrooms type_of_property  erf_size  floor_size  \\\n",
       "2      3995000.0       9.0        9.0            House    1575.0      1060.0   \n",
       "3      4950000.0       4.0        3.0            House     679.0       329.0   \n",
       "4      2095000.0       4.0        2.0            House     990.0       452.0   \n",
       "6      1785000.0       3.0        2.0            House       NaN         NaN   \n",
       "9      1495000.0       4.0        2.0            House       NaN         NaN   \n",
       "...          ...       ...        ...              ...       ...         ...   \n",
       "10225  1700000.0       9.0        6.0            House       NaN         NaN   \n",
       "10229   735000.0       NaN        NaN            House       NaN         NaN   \n",
       "10232   450000.0       2.0        1.0            House     135.0         NaN   \n",
       "10237  1350000.0       4.0        2.0            House    1900.0         NaN   \n",
       "10239  1600000.0       3.0        2.0            House       NaN         NaN   \n",
       "\n",
       "       levies  pool  rates_and_taxes  parking_space  pets_allowed  \n",
       "2         NaN     0           2500.0           17.0           1.0  \n",
       "3         NaN     0           3056.0            6.0           1.0  \n",
       "4         NaN     0            800.0            4.0           1.0  \n",
       "6       850.0     0           1000.0            2.0           NaN  \n",
       "9         NaN     0            520.0            1.0           NaN  \n",
       "...       ...   ...              ...            ...           ...  \n",
       "10225     NaN     0              NaN            3.0           NaN  \n",
       "10229     NaN     0              NaN            NaN           NaN  \n",
       "10232     NaN     0            270.0            NaN           NaN  \n",
       "10237     NaN     0              NaN            4.0           1.0  \n",
       "10239   800.0     0            450.0            1.0           NaN  \n",
       "\n",
       "[4352 rows x 11 columns]"
      ]
     },
     "execution_count": 18,
     "metadata": {},
     "output_type": "execute_result"
    }
   ],
   "source": [
    "price_house"
   ]
  },
  {
   "cell_type": "markdown",
   "id": "6222785b",
   "metadata": {},
   "source": [
    "### Visualisation des correlations"
   ]
  },
  {
   "cell_type": "markdown",
   "id": "afcb690f",
   "metadata": {},
   "source": [
    "#### Correlation entre features et le label"
   ]
  },
  {
   "cell_type": "code",
   "execution_count": 31,
   "id": "6c4711ce",
   "metadata": {},
   "outputs": [
    {
     "data": {
      "text/plain": [
       "<AxesSubplot:>"
      ]
     },
     "execution_count": 31,
     "metadata": {},
     "output_type": "execute_result"
    },
    {
     "data": {
      "image/png": "[encoded data removed]",
      "text/plain": [
       "<Figure size 432x288 with 2 Axes>"
      ]
     },
     "metadata": {
      "needs_background": "light"
     },
     "output_type": "display_data"
    }
   ],
   "source": [
    "sns.heatmap(data.corr())"
   ]
  },
  {
   "cell_type": "code",
   "execution_count": 36,
   "id": "082f93f3",
   "metadata": {},
   "outputs": [
    {
     "data": {
      "text/plain": [
       "price              1.000000\n",
       "bathrooms          0.464472\n",
       "levies             0.370285\n",
       "bedrooms           0.343688\n",
       "parking_space      0.244216\n",
       "pets_allowed       0.242742\n",
       "floor_size         0.154766\n",
       "rates_and_taxes    0.040753\n",
       "erf_size          -0.019046\n",
       "pool                    NaN\n",
       "Name: price, dtype: float64"
      ]
     },
     "execution_count": 36,
     "metadata": {},
     "output_type": "execute_result"
    }
   ],
   "source": [
    "data.corr()['price'].sort_values(ascending=False)"
   ]
  },
  {
   "cell_type": "markdown",
   "id": "ccd25221",
   "metadata": {},
   "source": [
    "#### Correlation entre les features"
   ]
  },
  {
   "cell_type": "code",
   "execution_count": 40,
   "id": "f977ba6f",
   "metadata": {},
   "outputs": [
    {
     "data": {
      "text/plain": [
       "bathrooms          1.000000\n",
       "levies             0.833410\n",
       "bedrooms           0.734139\n",
       "parking_space      0.471055\n",
       "price              0.464472\n",
       "pets_allowed       0.288481\n",
       "floor_size         0.170636\n",
       "rates_and_taxes    0.039167\n",
       "erf_size          -0.016780\n",
       "pool                    NaN\n",
       "Name: bathrooms, dtype: float64"
      ]
     },
     "execution_count": 40,
     "metadata": {},
     "output_type": "execute_result"
    }
   ],
   "source": [
    "data.corr()['bathrooms'].sort_values(ascending=False)"
   ]
  },
  {
   "cell_type": "code",
   "execution_count": 42,
   "id": "46357a05",
   "metadata": {},
   "outputs": [
    {
     "data": {
      "text/plain": [
       "levies             1.000000\n",
       "bathrooms          0.833410\n",
       "rates_and_taxes    0.796762\n",
       "bedrooms           0.648739\n",
       "price              0.370285\n",
       "parking_space      0.212698\n",
       "pets_allowed       0.129938\n",
       "floor_size         0.082847\n",
       "erf_size          -0.010582\n",
       "pool                    NaN\n",
       "Name: levies, dtype: float64"
      ]
     },
     "execution_count": 42,
     "metadata": {},
     "output_type": "execute_result"
    }
   ],
   "source": [
    "data.corr()['levies'].sort_values(ascending=False)"
   ]
  },
  {
   "cell_type": "code",
   "execution_count": 44,
   "id": "09fa3b23",
   "metadata": {},
   "outputs": [
    {
     "data": {
      "text/plain": [
       "rates_and_taxes    1.000000\n",
       "levies             0.796762\n",
       "floor_size         0.091269\n",
       "price              0.040753\n",
       "bathrooms          0.039167\n",
       "bedrooms           0.025549\n",
       "pets_allowed       0.021688\n",
       "parking_space      0.007024\n",
       "erf_size          -0.002216\n",
       "pool                    NaN\n",
       "Name: rates_and_taxes, dtype: float64"
      ]
     },
     "execution_count": 44,
     "metadata": {},
     "output_type": "execute_result"
    }
   ],
   "source": [
    "data.corr()['rates_and_taxes'].sort_values(ascending=False)"
   ]
  },
  {
   "cell_type": "code",
   "execution_count": null,
   "id": "18086f29",
   "metadata": {},
   "outputs": [],
   "source": []
  },
  {
   "cell_type": "code",
   "execution_count": 39,
   "id": "f670a51d",
   "metadata": {},
   "outputs": [
    {
     "data": {
      "text/plain": [
       "True     0.634422\n",
       "False    0.365578\n",
       "Name: levies, dtype: float64"
      ]
     },
     "execution_count": 39,
     "metadata": {},
     "output_type": "execute_result"
    }
   ],
   "source": [
    "data['levies'].isna().value_counts()/data.shape[0]"
   ]
  },
  {
   "cell_type": "markdown",
   "id": "ae0c8f16",
   "metadata": {},
   "source": [
    "Supprimer la colonne 'levies' car il y a beaucoup de NaN\n",
    "    * 63% NaN\n",
    "    * 37% Number"
   ]
  },
  {
   "cell_type": "code",
   "execution_count": 20,
   "id": "7f20cb05",
   "metadata": {},
   "outputs": [
    {
     "data": {
      "text/html": [
       "<div>\n",
       "<style scoped>\n",
       "    .dataframe tbody tr th:only-of-type {\n",
       "        vertical-align: middle;\n",
       "    }\n",
       "\n",
       "    .dataframe tbody tr th {\n",
       "        vertical-align: top;\n",
       "    }\n",
       "\n",
       "    .dataframe thead th {\n",
       "        text-align: right;\n",
       "    }\n",
       "</style>\n",
       "<table border=\"1\" class=\"dataframe\">\n",
       "  <thead>\n",
       "    <tr style=\"text-align: right;\">\n",
       "      <th></th>\n",
       "      <th>price</th>\n",
       "      <th>bedrooms</th>\n",
       "      <th>bathrooms</th>\n",
       "      <th>type_of_property</th>\n",
       "      <th>erf_size</th>\n",
       "      <th>floor_size</th>\n",
       "      <th>pool</th>\n",
       "      <th>rates_and_taxes</th>\n",
       "      <th>parking_space</th>\n",
       "      <th>pets_allowed</th>\n",
       "    </tr>\n",
       "  </thead>\n",
       "  <tbody>\n",
       "    <tr>\n",
       "      <th>0</th>\n",
       "      <td>3364900.0</td>\n",
       "      <td>2.0</td>\n",
       "      <td>2.0</td>\n",
       "      <td>Apartment/Flat</td>\n",
       "      <td>83.0</td>\n",
       "      <td>83.0</td>\n",
       "      <td>0</td>\n",
       "      <td>NaN</td>\n",
       "      <td>NaN</td>\n",
       "      <td>NaN</td>\n",
       "    </tr>\n",
       "    <tr>\n",
       "      <th>1</th>\n",
       "      <td>755000.0</td>\n",
       "      <td>2.0</td>\n",
       "      <td>1.0</td>\n",
       "      <td>Apartment/Flat</td>\n",
       "      <td>NaN</td>\n",
       "      <td>NaN</td>\n",
       "      <td>0</td>\n",
       "      <td>680.0</td>\n",
       "      <td>NaN</td>\n",
       "      <td>NaN</td>\n",
       "    </tr>\n",
       "    <tr>\n",
       "      <th>2</th>\n",
       "      <td>3995000.0</td>\n",
       "      <td>9.0</td>\n",
       "      <td>9.0</td>\n",
       "      <td>House</td>\n",
       "      <td>1575.0</td>\n",
       "      <td>1060.0</td>\n",
       "      <td>0</td>\n",
       "      <td>2500.0</td>\n",
       "      <td>17.0</td>\n",
       "      <td>1.0</td>\n",
       "    </tr>\n",
       "    <tr>\n",
       "      <th>3</th>\n",
       "      <td>4950000.0</td>\n",
       "      <td>4.0</td>\n",
       "      <td>3.0</td>\n",
       "      <td>House</td>\n",
       "      <td>679.0</td>\n",
       "      <td>329.0</td>\n",
       "      <td>0</td>\n",
       "      <td>3056.0</td>\n",
       "      <td>6.0</td>\n",
       "      <td>1.0</td>\n",
       "    </tr>\n",
       "    <tr>\n",
       "      <th>4</th>\n",
       "      <td>2095000.0</td>\n",
       "      <td>4.0</td>\n",
       "      <td>2.0</td>\n",
       "      <td>House</td>\n",
       "      <td>990.0</td>\n",
       "      <td>452.0</td>\n",
       "      <td>0</td>\n",
       "      <td>800.0</td>\n",
       "      <td>4.0</td>\n",
       "      <td>1.0</td>\n",
       "    </tr>\n",
       "    <tr>\n",
       "      <th>...</th>\n",
       "      <td>...</td>\n",
       "      <td>...</td>\n",
       "      <td>...</td>\n",
       "      <td>...</td>\n",
       "      <td>...</td>\n",
       "      <td>...</td>\n",
       "      <td>...</td>\n",
       "      <td>...</td>\n",
       "      <td>...</td>\n",
       "      <td>...</td>\n",
       "    </tr>\n",
       "    <tr>\n",
       "      <th>10233</th>\n",
       "      <td>799000.0</td>\n",
       "      <td>1.0</td>\n",
       "      <td>1.0</td>\n",
       "      <td>Apartment/Flat</td>\n",
       "      <td>NaN</td>\n",
       "      <td>54.0</td>\n",
       "      <td>0</td>\n",
       "      <td>881.0</td>\n",
       "      <td>NaN</td>\n",
       "      <td>NaN</td>\n",
       "    </tr>\n",
       "    <tr>\n",
       "      <th>10235</th>\n",
       "      <td>550000.0</td>\n",
       "      <td>2.0</td>\n",
       "      <td>NaN</td>\n",
       "      <td>Apartment/Flat</td>\n",
       "      <td>NaN</td>\n",
       "      <td>NaN</td>\n",
       "      <td>0</td>\n",
       "      <td>250.0</td>\n",
       "      <td>1.0</td>\n",
       "      <td>NaN</td>\n",
       "    </tr>\n",
       "    <tr>\n",
       "      <th>10236</th>\n",
       "      <td>890000.0</td>\n",
       "      <td>1.0</td>\n",
       "      <td>1.0</td>\n",
       "      <td>Apartment/Flat</td>\n",
       "      <td>NaN</td>\n",
       "      <td>NaN</td>\n",
       "      <td>0</td>\n",
       "      <td>NaN</td>\n",
       "      <td>NaN</td>\n",
       "      <td>0.0</td>\n",
       "    </tr>\n",
       "    <tr>\n",
       "      <th>10237</th>\n",
       "      <td>1350000.0</td>\n",
       "      <td>4.0</td>\n",
       "      <td>2.0</td>\n",
       "      <td>House</td>\n",
       "      <td>1900.0</td>\n",
       "      <td>NaN</td>\n",
       "      <td>0</td>\n",
       "      <td>NaN</td>\n",
       "      <td>4.0</td>\n",
       "      <td>1.0</td>\n",
       "    </tr>\n",
       "    <tr>\n",
       "      <th>10239</th>\n",
       "      <td>1600000.0</td>\n",
       "      <td>3.0</td>\n",
       "      <td>2.0</td>\n",
       "      <td>House</td>\n",
       "      <td>NaN</td>\n",
       "      <td>NaN</td>\n",
       "      <td>0</td>\n",
       "      <td>450.0</td>\n",
       "      <td>1.0</td>\n",
       "      <td>NaN</td>\n",
       "    </tr>\n",
       "  </tbody>\n",
       "</table>\n",
       "<p>9128 rows × 10 columns</p>\n",
       "</div>"
      ],
      "text/plain": [
       "           price  bedrooms  bathrooms type_of_property  erf_size  floor_size  \\\n",
       "0      3364900.0       2.0        2.0   Apartment/Flat      83.0        83.0   \n",
       "1       755000.0       2.0        1.0   Apartment/Flat       NaN         NaN   \n",
       "2      3995000.0       9.0        9.0            House    1575.0      1060.0   \n",
       "3      4950000.0       4.0        3.0            House     679.0       329.0   \n",
       "4      2095000.0       4.0        2.0            House     990.0       452.0   \n",
       "...          ...       ...        ...              ...       ...         ...   \n",
       "10233   799000.0       1.0        1.0   Apartment/Flat       NaN        54.0   \n",
       "10235   550000.0       2.0        NaN   Apartment/Flat       NaN         NaN   \n",
       "10236   890000.0       1.0        1.0   Apartment/Flat       NaN         NaN   \n",
       "10237  1350000.0       4.0        2.0            House    1900.0         NaN   \n",
       "10239  1600000.0       3.0        2.0            House       NaN         NaN   \n",
       "\n",
       "       pool  rates_and_taxes  parking_space  pets_allowed  \n",
       "0         0              NaN            NaN           NaN  \n",
       "1         0            680.0            NaN           NaN  \n",
       "2         0           2500.0           17.0           1.0  \n",
       "3         0           3056.0            6.0           1.0  \n",
       "4         0            800.0            4.0           1.0  \n",
       "...     ...              ...            ...           ...  \n",
       "10233     0            881.0            NaN           NaN  \n",
       "10235     0            250.0            1.0           NaN  \n",
       "10236     0              NaN            NaN           0.0  \n",
       "10237     0              NaN            4.0           1.0  \n",
       "10239     0            450.0            1.0           NaN  \n",
       "\n",
       "[9128 rows x 10 columns]"
      ]
     },
     "execution_count": 20,
     "metadata": {},
     "output_type": "execute_result"
    }
   ],
   "source": [
    "data.drop('levies', axis=1)"
   ]
  },
  {
   "cell_type": "code",
   "execution_count": 21,
   "id": "32da9632",
   "metadata": {},
   "outputs": [
    {
     "data": {
      "text/plain": [
       "False    0.976665\n",
       "True     0.023335\n",
       "Name: type_of_property, dtype: float64"
      ]
     },
     "execution_count": 21,
     "metadata": {},
     "output_type": "execute_result"
    }
   ],
   "source": [
    "data['type_of_property'].isna().value_counts()/data.shape[0]"
   ]
  },
  {
   "cell_type": "markdown",
   "id": "58a40136",
   "metadata": {},
   "source": [
    "### Visualisation des outliers"
   ]
  },
  {
   "cell_type": "code",
   "execution_count": 22,
   "id": "092cfabb",
   "metadata": {},
   "outputs": [
    {
     "data": {
      "text/plain": [
       "<AxesSubplot:xlabel='price'>"
      ]
     },
     "execution_count": 22,
     "metadata": {},
     "output_type": "execute_result"
    },
    {
     "data": {
      "image/png": "[encoded data removed]",
      "text/plain": [
       "<Figure size 1152x360 with 1 Axes>"
      ]
     },
     "metadata": {
      "needs_background": "light"
     },
     "output_type": "display_data"
    }
   ],
   "source": [
    "plt.figure(figsize=(16,5))\n",
    "sns.boxplot(x=data['price'])"
   ]
  },
  {
   "cell_type": "code",
   "execution_count": 23,
   "id": "4543a889",
   "metadata": {},
   "outputs": [
    {
     "data": {
      "text/plain": [
       "<AxesSubplot:>"
      ]
     },
     "execution_count": 23,
     "metadata": {},
     "output_type": "execute_result"
    },
    {
     "data": {
      "image/png": "[encoded data removed]",
      "text/plain": [
       "<Figure size 432x288 with 2 Axes>"
      ]
     },
     "metadata": {
      "needs_background": "light"
     },
     "output_type": "display_data"
    }
   ],
   "source": []
  },
  {
   "cell_type": "code",
   "execution_count": 30,
   "id": "5d7a2eb0",
   "metadata": {},
   "outputs": [
    {
     "data": {
      "text/plain": [
       "price              1.000000\n",
       "bathrooms          0.464472\n",
       "levies             0.370285\n",
       "bedrooms           0.343688\n",
       "parking_space      0.244216\n",
       "pets_allowed       0.242742\n",
       "floor_size         0.154766\n",
       "rates_and_taxes    0.040753\n",
       "erf_size          -0.019046\n",
       "pool                    NaN\n",
       "Name: price, dtype: float64"
      ]
     },
     "execution_count": 30,
     "metadata": {},
     "output_type": "execute_result"
    }
   ],
   "source": []
  },
  {
   "cell_type": "code",
   "execution_count": null,
   "id": "65a824a2",
   "metadata": {},
   "outputs": [],
   "source": []
  }
 ],
 "metadata": {
  "kernelspec": {
   "display_name": "Python 3",
   "language": "python",
   "name": "python3"
  },
  "language_info": {
   "codemirror_mode": {
    "name": "ipython",
    "version": 3
   },
   "file_extension": ".py",
   "mimetype": "text/x-python",
   "name": "python",
   "nbconvert_exporter": "python",
   "pygments_lexer": "ipython3",
   "version": "3.8.8"
  }
 },
 "nbformat": 4,
 "nbformat_minor": 5
}
