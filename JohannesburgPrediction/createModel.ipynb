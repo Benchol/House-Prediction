{
 "cells": [
  {
   "cell_type": "markdown",
   "metadata": {},
   "source": [
    "#### Importing utitlities"
   ]
  },
  {
   "cell_type": "code",
   "execution_count": 45,
   "metadata": {},
   "outputs": [],
   "source": [
    "import numpy as np\n",
    "import pandas as pd\n",
    "from sklearn.model_selection import train_test_split\n",
    "import pickle\n",
    "import seaborn as sns\n",
    "import matplotlib.pyplot as plt\n",
    "import copy\n",
    "from sklearn.ensemble import RandomForestRegressor"
   ]
  },
  {
   "cell_type": "markdown",
   "metadata": {},
   "source": [
    "#### Loading data"
   ]
  },
  {
   "cell_type": "code",
   "execution_count": 46,
   "metadata": {},
   "outputs": [],
   "source": [
    "data = pd.read_csv(\"./csv/Johannesburg.csv\")\n",
    "## Data exploration\n",
    "data.columns = data.columns.str.lower()\n",
    "data.columns = data.columns.str.replace(' ', '_')\n",
    "\n",
    "### Data cleaning\n",
    "data['erf_size'] = data['erf_size'].str.replace('m²', '')\n",
    "data['erf_size'] = data['erf_size'].str.replace(' ', '')\n",
    "data['erf_size'].loc[data['erf_size'].str.contains('ha', na=False)]\n",
    "# convert ha into m²\n",
    "data['erf_size'] = data['erf_size'].str.replace('ha', '0000')\n",
    "data['erf_size'] = pd.to_numeric(data['erf_size'], errors='coerce')\n",
    "\n",
    "data['floor_size'] = data['floor_size'].str.replace('m²', '')\n",
    "data['floor_size'] = data['floor_size'].str.replace(' ', '')\n",
    "data['floor_size'] = pd.to_numeric(data['floor_size'], errors='coerce')\n",
    "\n",
    "data['price'] = data['price'].str.replace('R', '')\n",
    "data['price'] = data['price'].str.replace(' ', '')\n",
    "data['price'] = pd.to_numeric(data['price'], errors='coerce')\n",
    "\n",
    "data['levies'] = data['levies'].str.replace(' ', '')\n",
    "data['levies'] = data['levies'].str.replace('R', '')\n",
    "data['levies'] = pd.to_numeric(data['levies'], errors='coerce')\n",
    "\n",
    "data['rates_and_taxes'] = data['rates_and_taxes'].str.replace('R', '')\n",
    "data['rates_and_taxes'] = data['rates_and_taxes'].str.replace(' ', '')\n",
    "data['rates_and_taxes'] = pd.to_numeric(data['rates_and_taxes'], errors='coerce')\n",
    "\n",
    "### Visualisation des correlations\n",
    "#### Correlation entre features et le label\n",
    "data.corr()['price'].sort_values(ascending=False)\n",
    "#### Correlation entre les features\n",
    "data.corr()['bathrooms'].sort_values(ascending=False)\n",
    "data.corr()['levies'].sort_values(ascending=False)\n",
    "data.corr()['rates_and_taxes'].sort_values(ascending=False)\n",
    "### Visualisation des outliers\n",
    "## Préprocessing\n",
    "#### Supprimer les types de proprieté Farm, Industrie, commercial, vancantLand\n",
    "data = data.drop(data.loc[data['type_of_property'] == 'CommercialProperty'].index)\n",
    "data = data.drop(data.loc[data['type_of_property'] == 'Farm'].index)\n",
    "data = data.drop(data.loc[data['type_of_property'] == 'VacantLand/Plot'].index)\n",
    "data = data.drop(data.loc[data['type_of_property'] == 'IndustrialProperty'].index)\n",
    "\n",
    "data = data.drop('levies', axis=1)\n",
    "\n",
    "upper_price_limit = data['price'].quantile(0.99999999)\n",
    "lower_price_limit = data['price'].quantile(0.01)\n",
    "\n",
    "# removing outlier\n",
    "data = data[(data['price'] <= upper_price_limit) & (data['price'] >= lower_price_limit)]\n",
    "Data = copy.copy(data)\n",
    "##### Effacer les NaN dans type_of_property\n",
    "Data = Data.drop(Data.loc[Data['type_of_property'].isna()].index)\n",
    "Data['type_of_property'].isna().sum()\n",
    "#### Remplissage des NaN dans la colonne rates_and_taxes par la valeur mediane des rates_and_taxes des houses/Appartement/Townhouse\n",
    "median_taxes_house = Data.loc[Data['type_of_property'] == 'House']['rates_and_taxes'].median()\n",
    "median_taxes_appartment = Data.loc[Data['type_of_property'] == 'Apartment/Flat']['rates_and_taxes'].median()\n",
    "median_taxes_townHouse = Data.loc[Data['type_of_property'] == 'Townhouse']['rates_and_taxes'].median()\n",
    "\n",
    "Data.loc[Data['type_of_property'].eq('Apartment/Flat') & Data['rates_and_taxes'].isna(), 'rates_and_taxes'] = median_taxes_appartment \n",
    "Data.loc[Data['type_of_property'].eq('Townhouse') & Data['rates_and_taxes'].isna(), 'rates_and_taxes'] = median_taxes_townHouse \n",
    "Data.loc[Data['type_of_property'].eq('House') & Data['rates_and_taxes'].isna(), 'rates_and_taxes'] = median_taxes_house \n",
    "#### Traitement des parking et pets alloweds\n",
    "Data.loc[Data['parking_space'].isna(), 'parking_space'] = 0\n",
    "Data.loc[Data['pets_allowed'].isna(), 'pets_allowed'] = 0\n",
    "#### Tranformation des bedrooms NaN en mediane\n",
    "Data.loc[Data['type_of_property'].eq('Apartment/Flat') & Data['bedrooms'].isna(), 'bedrooms'] = Data.loc[Data['type_of_property'] == 'Apartment/Flat']['bedrooms'].median()\n",
    "Data.loc[Data['type_of_property'].eq('House') & Data['bedrooms'].isna(), 'bedrooms'] = Data.loc[Data['type_of_property'] == 'House']['bedrooms'].median()\n",
    "Data.loc[Data['type_of_property'].eq('Townhouse') & Data['bedrooms'].isna(), 'bedrooms'] = Data.loc[Data['type_of_property'] == 'Townhouse']['bedrooms'].median()\n",
    "#### Transformation des bathrooms Nan en mediane\n",
    "median_bathrooms_house = Data.loc[Data['type_of_property'] == 'House']['bathrooms'].median()\n",
    "median_bathrooms_appartment = Data.loc[Data['type_of_property'] == 'Apartment/Flat']['bathrooms'].median()\n",
    "median_bathrooms_townhouse = Data.loc[Data['type_of_property'] == 'Townhouse']['bathrooms'].median()\n",
    "\n",
    "\n",
    "Data.loc[Data['type_of_property'].eq('House') & Data['bathrooms'].isna(), 'bathrooms'] = median_bathrooms_house\n",
    "Data.loc[Data['type_of_property'].eq('Apartment/Flat') & Data['bathrooms'].isna(), 'bathrooms'] = median_bathrooms_appartment\n",
    "Data.loc[Data['type_of_property'].eq('Townhouse') & Data['bathrooms'].isna(), 'bathrooms'] = median_bathrooms_townhouse\n",
    "\n",
    "Data = Data.drop(Data.loc[Data['bathrooms'].isna()].index)\n",
    "\n",
    "\n",
    "Data = Data.drop(Data.loc[Data['bedrooms'].isna()].index)\n",
    "\n",
    "#### Traitement des floor_size et erf_size\n",
    "Data.loc[Data['type_of_property'].eq('Apartment/Flat') & Data['erf_size'].isna(), 'erf_size'] = Data.loc[Data['type_of_property'] == 'Apartment/Flat']['floor_size']\n",
    "Data.loc[Data['type_of_property'].eq('Apartment/Flat') & Data['erf_size'].isna() & Data['floor_size'].isna() , 'erf_size'] = Data.loc[Data['type_of_property'] == 'Apartment/Flat']['erf_size'].median()\n",
    "Data.loc[Data['type_of_property'].eq('House') & Data['erf_size'].isna(), 'erf_size'] = Data.loc[Data['type_of_property'] == 'House']['erf_size'].median()\n",
    "Data.loc[Data['type_of_property'].eq('Townhouse') & Data['erf_size'].isna(), 'erf_size'] = Data.loc[Data['type_of_property'] == 'Townhouse']['erf_size'].median()\n",
    "Data.loc[Data['type_of_property'].eq('Apartment/Flat') & Data['floor_size'].isna(), 'floor_size'] = Data.loc[Data['type_of_property'] == 'Apartment/Flat']['erf_size']\n",
    "Data.loc[Data['type_of_property'].eq('Apartment/Flat') & Data['floor_size'].isna() & Data['erf_size'].isna() , 'floor_size'] = Data.loc[Data['type_of_property'] == 'Apartment/Flat']['floor_size'].median()\n",
    "Data.loc[Data['type_of_property'].eq('House') & Data['floor_size'].isna(), 'floor_size'] = Data.loc[Data['type_of_property'] == 'House']['floor_size'].median()\n",
    "Data.loc[Data['type_of_property'].eq('Townhouse') & Data['floor_size'].isna(), 'floor_size'] = Data.loc[Data['type_of_property'] == 'Townhouse']['floor_size'].median()\n",
    "Data = Data.dropna(axis = 0)\n",
    "\n",
    "Data.loc[Data[\"type_of_property\"].eq(\"Apartment/Flat\")] = 0\n",
    "Data.loc[Data[\"type_of_property\"].eq(\"House\")] = 1\n",
    "Data.loc[Data[\"type_of_property\"].eq(\"Townhouse\")] = 2\n",
    "\n",
    "data = Data\n",
    "\n"
   ]
  },
  {
   "cell_type": "markdown",
   "metadata": {},
   "source": [
    "#### Splitting datas"
   ]
  },
  {
   "cell_type": "code",
   "execution_count": 47,
   "metadata": {},
   "outputs": [],
   "source": [
    "X = data.drop([\"price\"], axis=1)\n",
    "y = data[\"price\"]\n",
    "X_train, X_test, y_train, y_test = train_test_split(X, y, test_size=0.2 ,shuffle=True)"
   ]
  },
  {
   "cell_type": "markdown",
   "metadata": {},
   "source": [
    "#### Creating and fitting model"
   ]
  },
  {
   "cell_type": "code",
   "execution_count": 48,
   "metadata": {},
   "outputs": [
    {
     "data": {
      "text/plain": [
       "1.0"
      ]
     },
     "execution_count": 48,
     "metadata": {},
     "output_type": "execute_result"
    }
   ],
   "source": [
    "model = RandomForestRegressor(n_estimators=100)\n",
    "model.fit(X_train, y_train)\n",
    "model.score(X_test, y_test)"
   ]
  },
  {
   "cell_type": "markdown",
   "metadata": {},
   "source": [
    "#### Creating model"
   ]
  },
  {
   "cell_type": "code",
   "execution_count": null,
   "metadata": {},
   "outputs": [],
   "source": [
    "with open(\"./model/johannesburg_model.pkl\",\"wb\") as file:\n",
    "    pickle.dump(model, file) "
   ]
  }
 ],
 "metadata": {
  "interpreter": {
   "hash": "b3ba2566441a7c06988d0923437866b63cedc61552a5af99d1f4fb67d367b25f"
  },
  "kernelspec": {
   "display_name": "Python 3.8.8 ('base')",
   "language": "python",
   "name": "python3"
  },
  "language_info": {
   "codemirror_mode": {
    "name": "ipython",
    "version": 3
   },
   "file_extension": ".py",
   "mimetype": "text/x-python",
   "name": "python",
   "nbconvert_exporter": "python",
   "pygments_lexer": "ipython3",
   "version": "3.8.8"
  },
  "orig_nbformat": 4
 },
 "nbformat": 4,
 "nbformat_minor": 2
}
